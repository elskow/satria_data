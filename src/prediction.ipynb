{
 "cells": [
  {
   "cell_type": "markdown",
   "id": "6bafc52e",
   "metadata": {
    "papermill": {
     "duration": 0.01293,
     "end_time": "2023-07-06T08:21:52.301717",
     "exception": false,
     "start_time": "2023-07-06T08:21:52.288787",
     "status": "completed"
    },
    "tags": []
   },
   "source": [
    "# **Trying to use TROCR to recognize text in images**"
   ]
  },
  {
   "cell_type": "code",
   "execution_count": 1,
   "id": "eef72fbf",
   "metadata": {
    "execution": {
     "iopub.execute_input": "2023-07-06T08:21:52.328232Z",
     "iopub.status.busy": "2023-07-06T08:21:52.327559Z",
     "iopub.status.idle": "2023-07-06T08:22:44.128133Z",
     "shell.execute_reply": "2023-07-06T08:22:44.127178Z"
    },
    "papermill": {
     "duration": 51.822591,
     "end_time": "2023-07-06T08:22:44.136841",
     "exception": false,
     "start_time": "2023-07-06T08:21:52.314250",
     "status": "completed"
    },
    "tags": []
   },
   "outputs": [
    {
     "name": "stdout",
     "output_type": "stream",
     "text": [
      "\u001b[33mWARNING: Running pip as the 'root' user can result in broken permissions and conflicting behaviour with the system package manager. It is recommended to use a virtual environment instead: https://pip.pypa.io/warnings/venv\u001b[0m\u001b[33m\r\n",
      "\u001b[0m"
     ]
    },
    {
     "name": "stderr",
     "output_type": "stream",
     "text": [
      "\u001b[34m\u001b[1mwandb\u001b[0m: W&B API key is configured. Use \u001b[1m`wandb login --relogin`\u001b[0m to force relogin\n",
      "\u001b[34m\u001b[1mwandb\u001b[0m: \u001b[33mWARNING\u001b[0m If you're specifying your api key in code, ensure this code is not shared publicly.\n",
      "\u001b[34m\u001b[1mwandb\u001b[0m: \u001b[33mWARNING\u001b[0m Consider setting the WANDB_API_KEY environment variable, or running `wandb login` from the command line.\n",
      "\u001b[34m\u001b[1mwandb\u001b[0m: Appending key for api.wandb.ai to your netrc file: /root/.netrc\n",
      "\u001b[34m\u001b[1mwandb\u001b[0m: Currently logged in as: \u001b[33melskow\u001b[0m. Use \u001b[1m`wandb login --relogin`\u001b[0m to force relogin\n",
      "\u001b[34m\u001b[1mwandb\u001b[0m: Tracking run with wandb version 0.15.5\n",
      "\u001b[34m\u001b[1mwandb\u001b[0m: Run data is saved locally in \u001b[35m\u001b[1m/kaggle/working/wandb/run-20230706_082213-0zvml26r\u001b[0m\n",
      "\u001b[34m\u001b[1mwandb\u001b[0m: Run \u001b[1m`wandb offline`\u001b[0m to turn off syncing.\n",
      "\u001b[34m\u001b[1mwandb\u001b[0m: Syncing run \u001b[33msdi30iur\u001b[0m\n",
      "\u001b[34m\u001b[1mwandb\u001b[0m: ⭐️ View project at \u001b[34m\u001b[4mhttps://wandb.ai/elskow/ocr\u001b[0m\n",
      "\u001b[34m\u001b[1mwandb\u001b[0m: 🚀 View run at \u001b[34m\u001b[4mhttps://wandb.ai/elskow/ocr/runs/0zvml26r\u001b[0m\n"
     ]
    },
    {
     "data": {
      "text/html": [
       "<button onClick=\"this.nextSibling.style.display='block';this.style.display='none';\">Display W&B run</button><iframe src='https://wandb.ai/elskow/ocr/runs/0zvml26r?jupyter=true' style='border:none;width:100%;height:420px;display:none;'></iframe>"
      ],
      "text/plain": [
       "<wandb.sdk.wandb_run.Run at 0x7e05eb0db5b0>"
      ]
     },
     "execution_count": 1,
     "metadata": {},
     "output_type": "execute_result"
    }
   ],
   "source": [
    "# set the wandb loggin on our kaggle notebook\n",
    "!pip install --upgrade wandb --quiet\n",
    "import wandb\n",
    "from kaggle_secrets import UserSecretsClient\n",
    "\n",
    "user_secrets = UserSecretsClient()\n",
    "\n",
    "# I have saved my API token with \"wandb_api\" as Label. \n",
    "# If you use some other Label make sure to change the same below. \n",
    "wandb_api = user_secrets.get_secret(\"wandb\") \n",
    "\n",
    "wandb.login(key=wandb_api)\n",
    "wandb_name = wandb.util.generate_id()\n",
    "wandb.init(project=\"ocr\", name=wandb_name)"
   ]
  },
  {
   "cell_type": "markdown",
   "id": "c76e445f",
   "metadata": {
    "papermill": {
     "duration": 0.018317,
     "end_time": "2023-07-06T08:22:44.175542",
     "exception": false,
     "start_time": "2023-07-06T08:22:44.157225",
     "status": "completed"
    },
    "tags": []
   },
   "source": [
    "## .env\n",
    "\n",
    "> setup the path of the data"
   ]
  },
  {
   "cell_type": "code",
   "execution_count": 2,
   "id": "7f0124c2",
   "metadata": {
    "execution": {
     "iopub.execute_input": "2023-07-06T08:22:44.214969Z",
     "iopub.status.busy": "2023-07-06T08:22:44.214628Z",
     "iopub.status.idle": "2023-07-06T08:22:45.365471Z",
     "shell.execute_reply": "2023-07-06T08:22:45.364135Z"
    },
    "papermill": {
     "duration": 1.173269,
     "end_time": "2023-07-06T08:22:45.368414",
     "exception": false,
     "start_time": "2023-07-06T08:22:44.195145",
     "status": "completed"
    },
    "tags": []
   },
   "outputs": [
    {
     "name": "stdout",
     "output_type": "stream",
     "text": [
      "processor\t: 0\r\n",
      "vendor_id\t: GenuineIntel\r\n",
      "cpu family\t: 6\r\n",
      "model\t\t: 85\r\n",
      "model name\t: Intel(R) Xeon(R) CPU @ 2.00GHz\r\n",
      "stepping\t: 3\r\n",
      "microcode\t: 0xffffffff\r\n",
      "cpu MHz\t\t: 2000.202\r\n",
      "cache size\t: 39424 KB\r\n",
      "physical id\t: 0\r\n",
      "siblings\t: 2\r\n",
      "core id\t\t: 0\r\n",
      "cpu cores\t: 1\r\n",
      "apicid\t\t: 0\r\n",
      "initial apicid\t: 0\r\n",
      "fpu\t\t: yes\r\n",
      "fpu_exception\t: yes\r\n",
      "cpuid level\t: 13\r\n",
      "wp\t\t: yes\r\n",
      "flags\t\t: fpu vme de pse tsc msr pae mce cx8 apic sep mtrr pge mca cmov pat pse36 clflush mmx fxsr sse sse2 ss ht syscall nx pdpe1gb rdtscp lm constant_tsc rep_good nopl xtopology nonstop_tsc cpuid tsc_known_freq pni pclmulqdq ssse3 fma cx16 pcid sse4_1 sse4_2 x2apic movbe popcnt aes xsave avx f16c rdrand hypervisor lahf_lm abm 3dnowprefetch invpcid_single pti ssbd ibrs ibpb stibp fsgsbase tsc_adjust bmi1 hle avx2 smep bmi2 erms invpcid rtm mpx avx512f avx512dq rdseed adx smap clflushopt clwb avx512cd avx512bw avx512vl xsaveopt xsavec xgetbv1 xsaves arat md_clear arch_capabilities\r\n",
      "bugs\t\t: cpu_meltdown spectre_v1 spectre_v2 spec_store_bypass l1tf mds swapgs taa mmio_stale_data retbleed\r\n",
      "bogomips\t: 4000.40\r\n",
      "clflush size\t: 64\r\n",
      "cache_alignment\t: 64\r\n",
      "address sizes\t: 46 bits physical, 48 bits virtual\r\n",
      "power management:\r\n",
      "\r\n",
      "processor\t: 1\r\n",
      "vendor_id\t: GenuineIntel\r\n",
      "cpu family\t: 6\r\n",
      "model\t\t: 85\r\n",
      "model name\t: Intel(R) Xeon(R) CPU @ 2.00GHz\r\n",
      "stepping\t: 3\r\n",
      "microcode\t: 0xffffffff\r\n",
      "cpu MHz\t\t: 2000.202\r\n",
      "cache size\t: 39424 KB\r\n",
      "physical id\t: 0\r\n",
      "siblings\t: 2\r\n",
      "core id\t\t: 0\r\n",
      "cpu cores\t: 1\r\n",
      "apicid\t\t: 1\r\n",
      "initial apicid\t: 1\r\n",
      "fpu\t\t: yes\r\n",
      "fpu_exception\t: yes\r\n",
      "cpuid level\t: 13\r\n",
      "wp\t\t: yes\r\n",
      "flags\t\t: fpu vme de pse tsc msr pae mce cx8 apic sep mtrr pge mca cmov pat pse36 clflush mmx fxsr sse sse2 ss ht syscall nx pdpe1gb rdtscp lm constant_tsc rep_good nopl xtopology nonstop_tsc cpuid tsc_known_freq pni pclmulqdq ssse3 fma cx16 pcid sse4_1 sse4_2 x2apic movbe popcnt aes xsave avx f16c rdrand hypervisor lahf_lm abm 3dnowprefetch invpcid_single pti ssbd ibrs ibpb stibp fsgsbase tsc_adjust bmi1 hle avx2 smep bmi2 erms invpcid rtm mpx avx512f avx512dq rdseed adx smap clflushopt clwb avx512cd avx512bw avx512vl xsaveopt xsavec xgetbv1 xsaves arat md_clear arch_capabilities\r\n",
      "bugs\t\t: cpu_meltdown spectre_v1 spectre_v2 spec_store_bypass l1tf mds swapgs taa mmio_stale_data retbleed\r\n",
      "bogomips\t: 4000.40\r\n",
      "clflush size\t: 64\r\n",
      "cache_alignment\t: 64\r\n",
      "address sizes\t: 46 bits physical, 48 bits virtual\r\n",
      "power management:\r\n",
      "\r\n"
     ]
    }
   ],
   "source": [
    "!cat /proc/cpuinfo"
   ]
  },
  {
   "cell_type": "code",
   "execution_count": 3,
   "id": "de95f792",
   "metadata": {
    "execution": {
     "iopub.execute_input": "2023-07-06T08:22:45.408557Z",
     "iopub.status.busy": "2023-07-06T08:22:45.408081Z",
     "iopub.status.idle": "2023-07-06T08:22:45.418227Z",
     "shell.execute_reply": "2023-07-06T08:22:45.417383Z"
    },
    "papermill": {
     "duration": 0.032797,
     "end_time": "2023-07-06T08:22:45.420781",
     "exception": false,
     "start_time": "2023-07-06T08:22:45.387984",
     "status": "completed"
    },
    "tags": []
   },
   "outputs": [
    {
     "name": "stdout",
     "output_type": "stream",
     "text": [
      "Total RAM: 16.78 GB\n"
     ]
    }
   ],
   "source": [
    "import psutil\n",
    "\n",
    "# Get the system memory size (in bytes)\n",
    "ram = psutil.virtual_memory()\n",
    "print(f\"Total RAM: {ram.total / 1e9:.2f} GB\")"
   ]
  },
  {
   "cell_type": "code",
   "execution_count": 4,
   "id": "bda7995d",
   "metadata": {
    "execution": {
     "iopub.execute_input": "2023-07-06T08:22:45.459922Z",
     "iopub.status.busy": "2023-07-06T08:22:45.459591Z",
     "iopub.status.idle": "2023-07-06T08:22:46.704375Z",
     "shell.execute_reply": "2023-07-06T08:22:46.703310Z"
    },
    "papermill": {
     "duration": 1.26778,
     "end_time": "2023-07-06T08:22:46.707580",
     "exception": false,
     "start_time": "2023-07-06T08:22:45.439800",
     "status": "completed"
    },
    "tags": []
   },
   "outputs": [
    {
     "name": "stdout",
     "output_type": "stream",
     "text": [
      "Thu Jul  6 08:22:46 2023       \r\n",
      "+-----------------------------------------------------------------------------+\r\n",
      "| NVIDIA-SMI 470.161.03   Driver Version: 470.161.03   CUDA Version: 11.4     |\r\n",
      "|-------------------------------+----------------------+----------------------+\r\n",
      "| GPU  Name        Persistence-M| Bus-Id        Disp.A | Volatile Uncorr. ECC |\r\n",
      "| Fan  Temp  Perf  Pwr:Usage/Cap|         Memory-Usage | GPU-Util  Compute M. |\r\n",
      "|                               |                      |               MIG M. |\r\n",
      "|===============================+======================+======================|\r\n",
      "|   0  Tesla T4            Off  | 00000000:00:04.0 Off |                    0 |\r\n",
      "| N/A   51C    P8    10W /  70W |      0MiB / 15109MiB |      0%      Default |\r\n",
      "|                               |                      |                  N/A |\r\n",
      "+-------------------------------+----------------------+----------------------+\r\n",
      "|   1  Tesla T4            Off  | 00000000:00:05.0 Off |                    0 |\r\n",
      "| N/A   53C    P8    10W /  70W |      0MiB / 15109MiB |      0%      Default |\r\n",
      "|                               |                      |                  N/A |\r\n",
      "+-------------------------------+----------------------+----------------------+\r\n",
      "                                                                               \r\n",
      "+-----------------------------------------------------------------------------+\r\n",
      "| Processes:                                                                  |\r\n",
      "|  GPU   GI   CI        PID   Type   Process name                  GPU Memory |\r\n",
      "|        ID   ID                                                   Usage      |\r\n",
      "|=============================================================================|\r\n",
      "|  No running processes found                                                 |\r\n",
      "+-----------------------------------------------------------------------------+\r\n"
     ]
    }
   ],
   "source": [
    "!nvidia-smi"
   ]
  },
  {
   "cell_type": "code",
   "execution_count": 5,
   "id": "e8bcef1a",
   "metadata": {
    "execution": {
     "iopub.execute_input": "2023-07-06T08:22:46.748249Z",
     "iopub.status.busy": "2023-07-06T08:22:46.747865Z",
     "iopub.status.idle": "2023-07-06T08:22:53.808645Z",
     "shell.execute_reply": "2023-07-06T08:22:53.807770Z"
    },
    "papermill": {
     "duration": 7.083814,
     "end_time": "2023-07-06T08:22:53.811332",
     "exception": false,
     "start_time": "2023-07-06T08:22:46.727518",
     "status": "completed"
    },
    "tags": []
   },
   "outputs": [
    {
     "name": "stdout",
     "output_type": "stream",
     "text": [
      "Used Memory: 518.87 MB\n"
     ]
    }
   ],
   "source": [
    "def reduce_memory_usage():\n",
    "    import gc\n",
    "    import torch\n",
    "    \n",
    "    gc.collect()\n",
    "    torch.cuda.empty_cache()\n",
    "\n",
    "    import psutil\n",
    "    import os\n",
    "\n",
    "    process = psutil.Process(os.getpid())\n",
    "    print(f'Used Memory: {process.memory_info().rss / 1024 ** 2:.2f} MB')\n",
    "\n",
    "reduce_memory_usage()"
   ]
  },
  {
   "cell_type": "code",
   "execution_count": 6,
   "id": "5ecf46e3",
   "metadata": {
    "ExecuteTime": {
     "end_time": "2023-06-25T03:40:58.084489177Z",
     "start_time": "2023-06-25T03:40:57.473306248Z"
    },
    "collapsed": false,
    "execution": {
     "iopub.execute_input": "2023-07-06T08:22:53.852305Z",
     "iopub.status.busy": "2023-07-06T08:22:53.851524Z",
     "iopub.status.idle": "2023-07-06T08:22:53.856847Z",
     "shell.execute_reply": "2023-07-06T08:22:53.855751Z"
    },
    "jupyter": {
     "outputs_hidden": false
    },
    "papermill": {
     "duration": 0.02863,
     "end_time": "2023-07-06T08:22:53.860017",
     "exception": false,
     "start_time": "2023-07-06T08:22:53.831387",
     "status": "completed"
    },
    "tags": []
   },
   "outputs": [],
   "source": [
    "import os"
   ]
  },
  {
   "cell_type": "code",
   "execution_count": 7,
   "id": "6490d230",
   "metadata": {
    "ExecuteTime": {
     "end_time": "2023-06-25T03:40:58.140398957Z",
     "start_time": "2023-06-25T03:40:57.620618354Z"
    },
    "execution": {
     "iopub.execute_input": "2023-07-06T08:22:53.899286Z",
     "iopub.status.busy": "2023-07-06T08:22:53.898791Z",
     "iopub.status.idle": "2023-07-06T08:22:53.912425Z",
     "shell.execute_reply": "2023-07-06T08:22:53.911402Z"
    },
    "papermill": {
     "duration": 0.036192,
     "end_time": "2023-07-06T08:22:53.915192",
     "exception": false,
     "start_time": "2023-07-06T08:22:53.879000",
     "status": "completed"
    },
    "tags": []
   },
   "outputs": [],
   "source": [
    "# check are the data exist or not, if not change the path\n",
    "try:\n",
    "    csv_train = \"/kaggle/input/unprocessedcsvsatriadata/DataTrainwithoutcleaninglabel.csv\"\n",
    "    csv_test = \"/kaggle/input/preprocessedsatdat/DataTest.csv\"\n",
    "\n",
    "    assert os.path.exists(csv_train)\n",
    "    assert os.path.exists(csv_test)\n",
    "\n",
    "except:\n",
    "    csv_train = \"out/DataTrain.csv\"\n",
    "    csv_test = \"out/DataTest.csv\"\n",
    "\n",
    "    assert os.path.exists(csv_train)\n",
    "    assert os.path.exists(csv_test)"
   ]
  },
  {
   "cell_type": "code",
   "execution_count": 8,
   "id": "72411c64",
   "metadata": {
    "ExecuteTime": {
     "end_time": "2023-06-25T03:40:58.141845872Z",
     "start_time": "2023-06-25T03:40:57.621431173Z"
    },
    "execution": {
     "iopub.execute_input": "2023-07-06T08:22:53.954287Z",
     "iopub.status.busy": "2023-07-06T08:22:53.953886Z",
     "iopub.status.idle": "2023-07-06T08:22:53.963643Z",
     "shell.execute_reply": "2023-07-06T08:22:53.962616Z"
    },
    "papermill": {
     "duration": 0.03232,
     "end_time": "2023-07-06T08:22:53.966418",
     "exception": false,
     "start_time": "2023-07-06T08:22:53.934098",
     "status": "completed"
    },
    "tags": []
   },
   "outputs": [],
   "source": [
    "try:\n",
    "    folder_of_train = '/kaggle/input/opening-data/preprocessed_train_data'\n",
    "    folder_of_test = '/kaggle/input/preprocessedsatdat/preprocessed_test_data'\n",
    "\n",
    "    assert os.path.exists(folder_of_train)\n",
    "    assert os.path.exists(folder_of_test)\n",
    "\n",
    "except:\n",
    "    folder_of_train = 'preprocessed_train_data'\n",
    "    folder_of_test = 'preprocessed_test_data'\n",
    "\n",
    "    assert os.path.exists(folder_of_train)\n",
    "    assert os.path.exists(folder_of_test)"
   ]
  },
  {
   "cell_type": "code",
   "execution_count": 9,
   "id": "edaa786e",
   "metadata": {
    "collapsed": false,
    "execution": {
     "iopub.execute_input": "2023-07-06T08:22:54.006035Z",
     "iopub.status.busy": "2023-07-06T08:22:54.005611Z",
     "iopub.status.idle": "2023-07-06T08:22:54.010063Z",
     "shell.execute_reply": "2023-07-06T08:22:54.008990Z"
    },
    "jupyter": {
     "outputs_hidden": false
    },
    "papermill": {
     "duration": 0.027879,
     "end_time": "2023-07-06T08:22:54.013401",
     "exception": false,
     "start_time": "2023-07-06T08:22:53.985522",
     "status": "completed"
    },
    "tags": []
   },
   "outputs": [],
   "source": [
    "output_dir = 'out'\n",
    "os.makedirs(output_dir, exist_ok=True)"
   ]
  },
  {
   "cell_type": "markdown",
   "id": "f38c0543",
   "metadata": {
    "papermill": {
     "duration": 0.018983,
     "end_time": "2023-07-06T08:22:54.051248",
     "exception": false,
     "start_time": "2023-07-06T08:22:54.032265",
     "status": "completed"
    },
    "tags": []
   },
   "source": [
    "## code"
   ]
  },
  {
   "cell_type": "code",
   "execution_count": 10,
   "id": "b355bdf8",
   "metadata": {
    "ExecuteTime": {
     "end_time": "2023-06-25T03:41:14.608315705Z",
     "start_time": "2023-06-25T03:40:57.622008653Z"
    },
    "execution": {
     "iopub.execute_input": "2023-07-06T08:22:54.090478Z",
     "iopub.status.busy": "2023-07-06T08:22:54.090089Z",
     "iopub.status.idle": "2023-07-06T08:23:24.402892Z",
     "shell.execute_reply": "2023-07-06T08:23:24.401692Z"
    },
    "papermill": {
     "duration": 30.335519,
     "end_time": "2023-07-06T08:23:24.405672",
     "exception": false,
     "start_time": "2023-07-06T08:22:54.070153",
     "status": "completed"
    },
    "tags": []
   },
   "outputs": [
    {
     "name": "stdout",
     "output_type": "stream",
     "text": [
      "\u001b[33mWARNING: Running pip as the 'root' user can result in broken permissions and conflicting behaviour with the system package manager. It is recommended to use a virtual environment instead: https://pip.pypa.io/warnings/venv\u001b[0m\u001b[33m\r\n",
      "\u001b[0m"
     ]
    }
   ],
   "source": [
    "# !pip install --upgrade pip --quiet # for tpu kaggle\n",
    "!pip install -q datasets jiwer --quiet\n",
    "!pip install --upgrade accelerate --quiet\n",
    "# !pip install transformers --quiet # for tpu kaggle\n",
    "# !pip install torch --quiet # for tpu kaggle\n",
    "# !pip install scikit-learn # for tpu kaggle"
   ]
  },
  {
   "cell_type": "code",
   "execution_count": 11,
   "id": "29e71229",
   "metadata": {
    "ExecuteTime": {
     "end_time": "2023-06-25T03:41:33.756475601Z",
     "start_time": "2023-06-25T03:41:14.624494914Z"
    },
    "execution": {
     "iopub.execute_input": "2023-07-06T08:23:24.437425Z",
     "iopub.status.busy": "2023-07-06T08:23:24.436433Z",
     "iopub.status.idle": "2023-07-06T08:23:44.421694Z",
     "shell.execute_reply": "2023-07-06T08:23:44.420772Z"
    },
    "papermill": {
     "duration": 20.005427,
     "end_time": "2023-07-06T08:23:44.424912",
     "exception": false,
     "start_time": "2023-07-06T08:23:24.419485",
     "status": "completed"
    },
    "tags": []
   },
   "outputs": [],
   "source": [
    "import warnings\n",
    "warnings.filterwarnings('ignore')\n",
    "\n",
    "import time\n",
    "import numpy as np\n",
    "import pandas as pd\n",
    "\n",
    "import cv2\n",
    "import json\n",
    "from PIL import Image\n",
    "\n",
    "from transformers import TrOCRProcessor, VisionEncoderDecoderModel\n",
    "\n",
    "import torch\n",
    "from torch.utils.data import Dataset\n",
    "\n",
    "from datasets import load_metric\n",
    "\n",
    "from transformers import Seq2SeqTrainer, Seq2SeqTrainingArguments, default_data_collator\n",
    "\n",
    "import numpy as np\n",
    "import matplotlib.pyplot as plt\n",
    "from difflib import SequenceMatcher"
   ]
  },
  {
   "cell_type": "markdown",
   "id": "22a83974",
   "metadata": {
    "papermill": {
     "duration": 0.018443,
     "end_time": "2023-07-06T08:23:44.463045",
     "exception": false,
     "start_time": "2023-07-06T08:23:44.444602",
     "status": "completed"
    },
    "tags": []
   },
   "source": [
    "# Import and add img path"
   ]
  },
  {
   "cell_type": "code",
   "execution_count": 12,
   "id": "34a8ddba",
   "metadata": {
    "ExecuteTime": {
     "end_time": "2023-06-25T03:41:33.847204122Z",
     "start_time": "2023-06-25T03:41:33.760524788Z"
    },
    "execution": {
     "iopub.execute_input": "2023-07-06T08:23:44.502383Z",
     "iopub.status.busy": "2023-07-06T08:23:44.501586Z",
     "iopub.status.idle": "2023-07-06T08:23:44.531540Z",
     "shell.execute_reply": "2023-07-06T08:23:44.530712Z"
    },
    "papermill": {
     "duration": 0.052688,
     "end_time": "2023-07-06T08:23:44.534257",
     "exception": false,
     "start_time": "2023-07-06T08:23:44.481569",
     "status": "completed"
    },
    "tags": []
   },
   "outputs": [],
   "source": [
    "training_data = pd.read_csv(csv_train)\n",
    "testing_data = pd.read_csv(csv_test)"
   ]
  },
  {
   "cell_type": "code",
   "execution_count": 13,
   "id": "f1f8dfd1",
   "metadata": {
    "ExecuteTime": {
     "end_time": "2023-06-25T03:41:33.872514787Z",
     "start_time": "2023-06-25T03:41:33.797886509Z"
    },
    "execution": {
     "iopub.execute_input": "2023-07-06T08:23:44.573057Z",
     "iopub.status.busy": "2023-07-06T08:23:44.572726Z",
     "iopub.status.idle": "2023-07-06T08:23:44.596377Z",
     "shell.execute_reply": "2023-07-06T08:23:44.595641Z"
    },
    "papermill": {
     "duration": 0.045278,
     "end_time": "2023-07-06T08:23:44.598712",
     "exception": false,
     "start_time": "2023-07-06T08:23:44.553434",
     "status": "completed"
    },
    "tags": []
   },
   "outputs": [
    {
     "data": {
      "text/html": [
       "<div>\n",
       "<style scoped>\n",
       "    .dataframe tbody tr th:only-of-type {\n",
       "        vertical-align: middle;\n",
       "    }\n",
       "\n",
       "    .dataframe tbody tr th {\n",
       "        vertical-align: top;\n",
       "    }\n",
       "\n",
       "    .dataframe thead th {\n",
       "        text-align: right;\n",
       "    }\n",
       "</style>\n",
       "<table border=\"1\" class=\"dataframe\">\n",
       "  <thead>\n",
       "    <tr style=\"text-align: right;\">\n",
       "      <th></th>\n",
       "      <th>img</th>\n",
       "      <th>label</th>\n",
       "    </tr>\n",
       "  </thead>\n",
       "  <tbody>\n",
       "    <tr>\n",
       "      <th>0</th>\n",
       "      <td>DataTrain1.png</td>\n",
       "      <td>A7814</td>\n",
       "    </tr>\n",
       "    <tr>\n",
       "      <th>1</th>\n",
       "      <td>DataTrain2.png</td>\n",
       "      <td>B1074QO</td>\n",
       "    </tr>\n",
       "    <tr>\n",
       "      <th>2</th>\n",
       "      <td>DataTrain3.png</td>\n",
       "      <td>B1031QO</td>\n",
       "    </tr>\n",
       "    <tr>\n",
       "      <th>3</th>\n",
       "      <td>DataTrain4.png</td>\n",
       "      <td>B187EDA</td>\n",
       "    </tr>\n",
       "    <tr>\n",
       "      <th>4</th>\n",
       "      <td>DataTrain5.png</td>\n",
       "      <td>B1089VD</td>\n",
       "    </tr>\n",
       "    <tr>\n",
       "      <th>...</th>\n",
       "      <td>...</td>\n",
       "      <td>...</td>\n",
       "    </tr>\n",
       "    <tr>\n",
       "      <th>608</th>\n",
       "      <td>DataTrain795.png</td>\n",
       "      <td>B1269MA</td>\n",
       "    </tr>\n",
       "    <tr>\n",
       "      <th>609</th>\n",
       "      <td>DataTrain796.png</td>\n",
       "      <td>B1677EJC</td>\n",
       "    </tr>\n",
       "    <tr>\n",
       "      <th>610</th>\n",
       "      <td>DataTrain797.png</td>\n",
       "      <td>B1743VO</td>\n",
       "    </tr>\n",
       "    <tr>\n",
       "      <th>611</th>\n",
       "      <td>DataTrain798.png</td>\n",
       "      <td>AD1416YD</td>\n",
       "    </tr>\n",
       "    <tr>\n",
       "      <th>612</th>\n",
       "      <td>DataTrain799.png</td>\n",
       "      <td>AB5419TN</td>\n",
       "    </tr>\n",
       "  </tbody>\n",
       "</table>\n",
       "<p>613 rows × 2 columns</p>\n",
       "</div>"
      ],
      "text/plain": [
       "                  img     label\n",
       "0      DataTrain1.png     A7814\n",
       "1      DataTrain2.png   B1074QO\n",
       "2      DataTrain3.png   B1031QO\n",
       "3      DataTrain4.png   B187EDA\n",
       "4      DataTrain5.png   B1089VD\n",
       "..                ...       ...\n",
       "608  DataTrain795.png   B1269MA\n",
       "609  DataTrain796.png  B1677EJC\n",
       "610  DataTrain797.png   B1743VO\n",
       "611  DataTrain798.png  AD1416YD\n",
       "612  DataTrain799.png  AB5419TN\n",
       "\n",
       "[613 rows x 2 columns]"
      ]
     },
     "execution_count": 13,
     "metadata": {},
     "output_type": "execute_result"
    }
   ],
   "source": [
    "training_data"
   ]
  },
  {
   "cell_type": "code",
   "execution_count": 14,
   "id": "555f0a74",
   "metadata": {
    "ExecuteTime": {
     "end_time": "2023-06-25T03:41:33.941168680Z",
     "start_time": "2023-06-25T03:41:33.834126961Z"
    },
    "execution": {
     "iopub.execute_input": "2023-07-06T08:23:44.640492Z",
     "iopub.status.busy": "2023-07-06T08:23:44.640160Z",
     "iopub.status.idle": "2023-07-06T08:23:46.442264Z",
     "shell.execute_reply": "2023-07-06T08:23:46.441240Z"
    },
    "papermill": {
     "duration": 1.825636,
     "end_time": "2023-07-06T08:23:46.444696",
     "exception": false,
     "start_time": "2023-07-06T08:23:44.619060",
     "status": "completed"
    },
    "tags": []
   },
   "outputs": [
    {
     "name": "stdout",
     "output_type": "stream",
     "text": [
      "none image path on training data :  0\n",
      "none image path on testing data :  0\n"
     ]
    },
    {
     "data": {
      "text/html": [
       "<div>\n",
       "<style scoped>\n",
       "    .dataframe tbody tr th:only-of-type {\n",
       "        vertical-align: middle;\n",
       "    }\n",
       "\n",
       "    .dataframe tbody tr th {\n",
       "        vertical-align: top;\n",
       "    }\n",
       "\n",
       "    .dataframe thead th {\n",
       "        text-align: right;\n",
       "    }\n",
       "</style>\n",
       "<table border=\"1\" class=\"dataframe\">\n",
       "  <thead>\n",
       "    <tr style=\"text-align: right;\">\n",
       "      <th></th>\n",
       "      <th>label</th>\n",
       "      <th>img_path</th>\n",
       "    </tr>\n",
       "  </thead>\n",
       "  <tbody>\n",
       "    <tr>\n",
       "      <th>0</th>\n",
       "      <td>A7814</td>\n",
       "      <td>/kaggle/input/opening-data/preprocessed_train_...</td>\n",
       "    </tr>\n",
       "    <tr>\n",
       "      <th>1</th>\n",
       "      <td>B1074QO</td>\n",
       "      <td>/kaggle/input/opening-data/preprocessed_train_...</td>\n",
       "    </tr>\n",
       "    <tr>\n",
       "      <th>2</th>\n",
       "      <td>B1031QO</td>\n",
       "      <td>/kaggle/input/opening-data/preprocessed_train_...</td>\n",
       "    </tr>\n",
       "    <tr>\n",
       "      <th>3</th>\n",
       "      <td>B187EDA</td>\n",
       "      <td>/kaggle/input/opening-data/preprocessed_train_...</td>\n",
       "    </tr>\n",
       "    <tr>\n",
       "      <th>4</th>\n",
       "      <td>B1089VD</td>\n",
       "      <td>/kaggle/input/opening-data/preprocessed_train_...</td>\n",
       "    </tr>\n",
       "    <tr>\n",
       "      <th>...</th>\n",
       "      <td>...</td>\n",
       "      <td>...</td>\n",
       "    </tr>\n",
       "    <tr>\n",
       "      <th>608</th>\n",
       "      <td>B1269MA</td>\n",
       "      <td>/kaggle/input/opening-data/preprocessed_train_...</td>\n",
       "    </tr>\n",
       "    <tr>\n",
       "      <th>609</th>\n",
       "      <td>B1677EJC</td>\n",
       "      <td>/kaggle/input/opening-data/preprocessed_train_...</td>\n",
       "    </tr>\n",
       "    <tr>\n",
       "      <th>610</th>\n",
       "      <td>B1743VO</td>\n",
       "      <td>/kaggle/input/opening-data/preprocessed_train_...</td>\n",
       "    </tr>\n",
       "    <tr>\n",
       "      <th>611</th>\n",
       "      <td>AD1416YD</td>\n",
       "      <td>/kaggle/input/opening-data/preprocessed_train_...</td>\n",
       "    </tr>\n",
       "    <tr>\n",
       "      <th>612</th>\n",
       "      <td>AB5419TN</td>\n",
       "      <td>/kaggle/input/opening-data/preprocessed_train_...</td>\n",
       "    </tr>\n",
       "  </tbody>\n",
       "</table>\n",
       "<p>613 rows × 2 columns</p>\n",
       "</div>"
      ],
      "text/plain": [
       "        label                                           img_path\n",
       "0       A7814  /kaggle/input/opening-data/preprocessed_train_...\n",
       "1     B1074QO  /kaggle/input/opening-data/preprocessed_train_...\n",
       "2     B1031QO  /kaggle/input/opening-data/preprocessed_train_...\n",
       "3     B187EDA  /kaggle/input/opening-data/preprocessed_train_...\n",
       "4     B1089VD  /kaggle/input/opening-data/preprocessed_train_...\n",
       "..        ...                                                ...\n",
       "608   B1269MA  /kaggle/input/opening-data/preprocessed_train_...\n",
       "609  B1677EJC  /kaggle/input/opening-data/preprocessed_train_...\n",
       "610   B1743VO  /kaggle/input/opening-data/preprocessed_train_...\n",
       "611  AD1416YD  /kaggle/input/opening-data/preprocessed_train_...\n",
       "612  AB5419TN  /kaggle/input/opening-data/preprocessed_train_...\n",
       "\n",
       "[613 rows x 2 columns]"
      ]
     },
     "execution_count": 14,
     "metadata": {},
     "output_type": "execute_result"
    }
   ],
   "source": [
    "# add image path\n",
    "# for example : \n",
    "# on img column, we have 'DataTrain2.png'.\n",
    "# so, we add 'preprocessed_train_data/DataTrain2.png' to img_path column\n",
    "\n",
    "# first of all, check are the image exist or not\n",
    "def img_path(img_name, folder):\n",
    "    path = os.path.join(folder, img_name)\n",
    "    if os.path.exists(path):\n",
    "        return path\n",
    "    else:\n",
    "        return np.nan\n",
    "\n",
    "training_data['img_path'] = training_data['img'].apply(lambda x: img_path(x, folder_of_train))\n",
    "testing_data['img_path'] = testing_data['img'].apply(lambda x: img_path(x, folder_of_test))\n",
    "\n",
    "# print none image path\n",
    "print('none image path on training data : ', training_data['img_path'].isna().sum())\n",
    "print('none image path on testing data : ', testing_data['img_path'].isna().sum())\n",
    "\n",
    "training_data.drop('img', axis=1, inplace=True)\n",
    "\n",
    "training_data"
   ]
  },
  {
   "cell_type": "code",
   "execution_count": 15,
   "id": "e306677f",
   "metadata": {
    "execution": {
     "iopub.execute_input": "2023-07-06T08:23:46.475147Z",
     "iopub.status.busy": "2023-07-06T08:23:46.474259Z",
     "iopub.status.idle": "2023-07-06T08:24:07.936185Z",
     "shell.execute_reply": "2023-07-06T08:24:07.935293Z"
    },
    "papermill": {
     "duration": 21.479149,
     "end_time": "2023-07-06T08:24:07.938475",
     "exception": false,
     "start_time": "2023-07-06T08:23:46.459326",
     "status": "completed"
    },
    "tags": []
   },
   "outputs": [
    {
     "data": {
      "text/html": [
       "<div>\n",
       "<style scoped>\n",
       "    .dataframe tbody tr th:only-of-type {\n",
       "        vertical-align: middle;\n",
       "    }\n",
       "\n",
       "    .dataframe tbody tr th {\n",
       "        vertical-align: top;\n",
       "    }\n",
       "\n",
       "    .dataframe thead th {\n",
       "        text-align: right;\n",
       "    }\n",
       "</style>\n",
       "<table border=\"1\" class=\"dataframe\">\n",
       "  <thead>\n",
       "    <tr style=\"text-align: right;\">\n",
       "      <th></th>\n",
       "      <th>label</th>\n",
       "      <th>img_path</th>\n",
       "    </tr>\n",
       "  </thead>\n",
       "  <tbody>\n",
       "    <tr>\n",
       "      <th>0</th>\n",
       "      <td>A7814</td>\n",
       "      <td>/kaggle/working/augmented_data/DataTrain1_True...</td>\n",
       "    </tr>\n",
       "    <tr>\n",
       "      <th>1</th>\n",
       "      <td>A7814</td>\n",
       "      <td>/kaggle/working/augmented_data/DataTrain1_Fals...</td>\n",
       "    </tr>\n",
       "    <tr>\n",
       "      <th>2</th>\n",
       "      <td>B1074QO</td>\n",
       "      <td>/kaggle/working/augmented_data/DataTrain2_True...</td>\n",
       "    </tr>\n",
       "    <tr>\n",
       "      <th>3</th>\n",
       "      <td>B1074QO</td>\n",
       "      <td>/kaggle/working/augmented_data/DataTrain2_Fals...</td>\n",
       "    </tr>\n",
       "    <tr>\n",
       "      <th>4</th>\n",
       "      <td>B1031QO</td>\n",
       "      <td>/kaggle/working/augmented_data/DataTrain3_True...</td>\n",
       "    </tr>\n",
       "    <tr>\n",
       "      <th>...</th>\n",
       "      <td>...</td>\n",
       "      <td>...</td>\n",
       "    </tr>\n",
       "    <tr>\n",
       "      <th>1221</th>\n",
       "      <td>B1743VO</td>\n",
       "      <td>/kaggle/working/augmented_data/DataTrain797_Fa...</td>\n",
       "    </tr>\n",
       "    <tr>\n",
       "      <th>1222</th>\n",
       "      <td>AD1416YD</td>\n",
       "      <td>/kaggle/working/augmented_data/DataTrain798_Tr...</td>\n",
       "    </tr>\n",
       "    <tr>\n",
       "      <th>1223</th>\n",
       "      <td>AD1416YD</td>\n",
       "      <td>/kaggle/working/augmented_data/DataTrain798_Fa...</td>\n",
       "    </tr>\n",
       "    <tr>\n",
       "      <th>1224</th>\n",
       "      <td>AB5419TN</td>\n",
       "      <td>/kaggle/working/augmented_data/DataTrain799_Tr...</td>\n",
       "    </tr>\n",
       "    <tr>\n",
       "      <th>1225</th>\n",
       "      <td>AB5419TN</td>\n",
       "      <td>/kaggle/working/augmented_data/DataTrain799_Fa...</td>\n",
       "    </tr>\n",
       "  </tbody>\n",
       "</table>\n",
       "<p>1226 rows × 2 columns</p>\n",
       "</div>"
      ],
      "text/plain": [
       "         label                                           img_path\n",
       "0        A7814  /kaggle/working/augmented_data/DataTrain1_True...\n",
       "1        A7814  /kaggle/working/augmented_data/DataTrain1_Fals...\n",
       "2      B1074QO  /kaggle/working/augmented_data/DataTrain2_True...\n",
       "3      B1074QO  /kaggle/working/augmented_data/DataTrain2_Fals...\n",
       "4      B1031QO  /kaggle/working/augmented_data/DataTrain3_True...\n",
       "...        ...                                                ...\n",
       "1221   B1743VO  /kaggle/working/augmented_data/DataTrain797_Fa...\n",
       "1222  AD1416YD  /kaggle/working/augmented_data/DataTrain798_Tr...\n",
       "1223  AD1416YD  /kaggle/working/augmented_data/DataTrain798_Fa...\n",
       "1224  AB5419TN  /kaggle/working/augmented_data/DataTrain799_Tr...\n",
       "1225  AB5419TN  /kaggle/working/augmented_data/DataTrain799_Fa...\n",
       "\n",
       "[1226 rows x 2 columns]"
      ]
     },
     "execution_count": 15,
     "metadata": {},
     "output_type": "execute_result"
    }
   ],
   "source": [
    "# add training data with image invertation\n",
    "def img_inv(img):\n",
    "    return cv2.bitwise_not(img)\n",
    "\n",
    "def create_new_img(img_path, invert):\n",
    "    img = cv2.imread(img_path)\n",
    "    if invert:\n",
    "        img = img_inv(img)\n",
    "    return img\n",
    "\n",
    "os.mkdir('/kaggle/working/augmented_data')\n",
    "\n",
    "def data_augmentation(df):\n",
    "    new_df = pd.DataFrame(columns=df.columns)\n",
    "    for i in range(len(df)):\n",
    "        img_path = df.iloc[i]['img_path']\n",
    "        label = df.iloc[i]['label']\n",
    "        for invert in [True, False]:\n",
    "            new_img = create_new_img(img_path, invert)\n",
    "            new_image_name = df.iloc[i]['img_path'].split('/')[-1].split('.')[0] + '_' + str(invert) + '.png'\n",
    "            new_img_path = os.path.join('/kaggle/working/augmented_data', new_image_name)\n",
    "            cv2.imwrite(new_img_path, new_img)\n",
    "            new_df = new_df.append({'img_path': new_img_path, 'label': label}, ignore_index=True)\n",
    "    return new_df\n",
    "\n",
    "training_data = data_augmentation(training_data)\n",
    "\n",
    "training_data"
   ]
  },
  {
   "cell_type": "code",
   "execution_count": 16,
   "id": "c71a1bed",
   "metadata": {
    "ExecuteTime": {
     "end_time": "2023-06-25T03:42:25.732582944Z",
     "start_time": "2023-06-25T03:42:25.633032543Z"
    },
    "collapsed": false,
    "execution": {
     "iopub.execute_input": "2023-07-06T08:24:07.968651Z",
     "iopub.status.busy": "2023-07-06T08:24:07.968356Z",
     "iopub.status.idle": "2023-07-06T08:24:08.004733Z",
     "shell.execute_reply": "2023-07-06T08:24:08.003757Z"
    },
    "jupyter": {
     "outputs_hidden": false
    },
    "papermill": {
     "duration": 0.053475,
     "end_time": "2023-07-06T08:24:08.006705",
     "exception": false,
     "start_time": "2023-07-06T08:24:07.953230",
     "status": "completed"
    },
    "tags": []
   },
   "outputs": [
    {
     "name": "stdout",
     "output_type": "stream",
     "text": [
      "train_df shape :  (980, 2)\n",
      "valid_df shape :  (246, 2)\n"
     ]
    },
    {
     "data": {
      "text/html": [
       "<div>\n",
       "<style scoped>\n",
       "    .dataframe tbody tr th:only-of-type {\n",
       "        vertical-align: middle;\n",
       "    }\n",
       "\n",
       "    .dataframe tbody tr th {\n",
       "        vertical-align: top;\n",
       "    }\n",
       "\n",
       "    .dataframe thead th {\n",
       "        text-align: right;\n",
       "    }\n",
       "</style>\n",
       "<table border=\"1\" class=\"dataframe\">\n",
       "  <thead>\n",
       "    <tr style=\"text-align: right;\">\n",
       "      <th></th>\n",
       "      <th>label</th>\n",
       "      <th>img_path</th>\n",
       "    </tr>\n",
       "  </thead>\n",
       "  <tbody>\n",
       "    <tr>\n",
       "      <th>0</th>\n",
       "      <td>B1241PQO</td>\n",
       "      <td>/kaggle/working/augmented_data/DataTrain165_Tr...</td>\n",
       "    </tr>\n",
       "    <tr>\n",
       "      <th>1</th>\n",
       "      <td>B1532NKY</td>\n",
       "      <td>/kaggle/working/augmented_data/DataTrain700_Fa...</td>\n",
       "    </tr>\n",
       "    <tr>\n",
       "      <th>2</th>\n",
       "      <td>B1972RBP</td>\n",
       "      <td>/kaggle/working/augmented_data/DataTrain6_True...</td>\n",
       "    </tr>\n",
       "    <tr>\n",
       "      <th>3</th>\n",
       "      <td>B1820UL</td>\n",
       "      <td>/kaggle/working/augmented_data/DataTrain309_Fa...</td>\n",
       "    </tr>\n",
       "    <tr>\n",
       "      <th>4</th>\n",
       "      <td>B1486TJJ</td>\n",
       "      <td>/kaggle/working/augmented_data/DataTrain238_Tr...</td>\n",
       "    </tr>\n",
       "    <tr>\n",
       "      <th>...</th>\n",
       "      <td>...</td>\n",
       "      <td>...</td>\n",
       "    </tr>\n",
       "    <tr>\n",
       "      <th>975</th>\n",
       "      <td>B1925SYG</td>\n",
       "      <td>/kaggle/working/augmented_data/DataTrain665_Tr...</td>\n",
       "    </tr>\n",
       "    <tr>\n",
       "      <th>976</th>\n",
       "      <td>B1658YU</td>\n",
       "      <td>/kaggle/working/augmented_data/DataTrain699_Fa...</td>\n",
       "    </tr>\n",
       "    <tr>\n",
       "      <th>977</th>\n",
       "      <td>B017QO</td>\n",
       "      <td>/kaggle/working/augmented_data/DataTrain725_Tr...</td>\n",
       "    </tr>\n",
       "    <tr>\n",
       "      <th>978</th>\n",
       "      <td>B1830DFD</td>\n",
       "      <td>/kaggle/working/augmented_data/DataTrain531_Tr...</td>\n",
       "    </tr>\n",
       "    <tr>\n",
       "      <th>979</th>\n",
       "      <td>B1658KRF</td>\n",
       "      <td>/kaggle/working/augmented_data/DataTrain722_Tr...</td>\n",
       "    </tr>\n",
       "  </tbody>\n",
       "</table>\n",
       "<p>980 rows × 2 columns</p>\n",
       "</div>"
      ],
      "text/plain": [
       "        label                                           img_path\n",
       "0    B1241PQO  /kaggle/working/augmented_data/DataTrain165_Tr...\n",
       "1    B1532NKY  /kaggle/working/augmented_data/DataTrain700_Fa...\n",
       "2    B1972RBP  /kaggle/working/augmented_data/DataTrain6_True...\n",
       "3     B1820UL  /kaggle/working/augmented_data/DataTrain309_Fa...\n",
       "4    B1486TJJ  /kaggle/working/augmented_data/DataTrain238_Tr...\n",
       "..        ...                                                ...\n",
       "975  B1925SYG  /kaggle/working/augmented_data/DataTrain665_Tr...\n",
       "976   B1658YU  /kaggle/working/augmented_data/DataTrain699_Fa...\n",
       "977    B017QO  /kaggle/working/augmented_data/DataTrain725_Tr...\n",
       "978  B1830DFD  /kaggle/working/augmented_data/DataTrain531_Tr...\n",
       "979  B1658KRF  /kaggle/working/augmented_data/DataTrain722_Tr...\n",
       "\n",
       "[980 rows x 2 columns]"
      ]
     },
     "execution_count": 16,
     "metadata": {},
     "output_type": "execute_result"
    }
   ],
   "source": [
    "from sklearn.model_selection import train_test_split\n",
    "\n",
    "# # create test data from training data, take 25 rows and remove it from training data ( For testing the accuracy )\n",
    "# test_df = training_data.sample(20, random_state=42)\n",
    "# training_data = training_data.drop(test_df.index)\n",
    "\n",
    "train_df, valid_df = train_test_split(training_data, test_size=0.2, random_state=42)\n",
    "\n",
    "train_df.reset_index(drop=True, inplace=True)\n",
    "valid_df.reset_index(drop=True, inplace=True)\n",
    "# test_df.reset_index(drop=True, inplace=True)\n",
    "\n",
    "print('train_df shape : ', train_df.shape)\n",
    "print('valid_df shape : ', valid_df.shape)\n",
    "\n",
    "train_df"
   ]
  },
  {
   "cell_type": "code",
   "execution_count": 17,
   "id": "b352b555",
   "metadata": {
    "execution": {
     "iopub.execute_input": "2023-07-06T08:24:08.038165Z",
     "iopub.status.busy": "2023-07-06T08:24:08.037414Z",
     "iopub.status.idle": "2023-07-06T08:24:08.346672Z",
     "shell.execute_reply": "2023-07-06T08:24:08.345734Z"
    },
    "papermill": {
     "duration": 0.326544,
     "end_time": "2023-07-06T08:24:08.348681",
     "exception": false,
     "start_time": "2023-07-06T08:24:08.022137",
     "status": "completed"
    },
    "tags": []
   },
   "outputs": [
    {
     "name": "stdout",
     "output_type": "stream",
     "text": [
      "Used Memory: 1117.58 MB\n"
     ]
    }
   ],
   "source": [
    "reduce_memory_usage()"
   ]
  },
  {
   "cell_type": "markdown",
   "id": "0f56f3a0",
   "metadata": {
    "papermill": {
     "duration": 0.014327,
     "end_time": "2023-07-06T08:24:08.377875",
     "exception": false,
     "start_time": "2023-07-06T08:24:08.363548",
     "status": "completed"
    },
    "tags": []
   },
   "source": [
    "# Modelling the TROCR"
   ]
  },
  {
   "cell_type": "code",
   "execution_count": 18,
   "id": "479ca4f6",
   "metadata": {
    "collapsed": false,
    "execution": {
     "iopub.execute_input": "2023-07-06T08:24:08.408622Z",
     "iopub.status.busy": "2023-07-06T08:24:08.407742Z",
     "iopub.status.idle": "2023-07-06T08:24:26.129713Z",
     "shell.execute_reply": "2023-07-06T08:24:26.128722Z"
    },
    "jupyter": {
     "outputs_hidden": false
    },
    "papermill": {
     "duration": 17.739686,
     "end_time": "2023-07-06T08:24:26.132023",
     "exception": false,
     "start_time": "2023-07-06T08:24:08.392337",
     "status": "completed"
    },
    "tags": []
   },
   "outputs": [
    {
     "data": {
      "application/vnd.jupyter.widget-view+json": {
       "model_id": "82f4df5be53f412ea57f25ad46c4690e",
       "version_major": 2,
       "version_minor": 0
      },
      "text/plain": [
       "Downloading (…)rocessor_config.json:   0%|          | 0.00/228 [00:00<?, ?B/s]"
      ]
     },
     "metadata": {},
     "output_type": "display_data"
    },
    {
     "name": "stderr",
     "output_type": "stream",
     "text": [
      "Could not find image processor class in the image processor config or the model config. Loading based on pattern matching with the model's feature extractor configuration.\n"
     ]
    },
    {
     "data": {
      "application/vnd.jupyter.widget-view+json": {
       "model_id": "80a35379c6e34d9f9d493313859a338e",
       "version_major": 2,
       "version_minor": 0
      },
      "text/plain": [
       "Downloading (…)okenizer_config.json:   0%|          | 0.00/1.12k [00:00<?, ?B/s]"
      ]
     },
     "metadata": {},
     "output_type": "display_data"
    },
    {
     "data": {
      "application/vnd.jupyter.widget-view+json": {
       "model_id": "17d8dabb83a749f1a03a741142194bda",
       "version_major": 2,
       "version_minor": 0
      },
      "text/plain": [
       "Downloading (…)olve/main/vocab.json:   0%|          | 0.00/899k [00:00<?, ?B/s]"
      ]
     },
     "metadata": {},
     "output_type": "display_data"
    },
    {
     "data": {
      "application/vnd.jupyter.widget-view+json": {
       "model_id": "65a2b55082f44beba4af489b11f922a2",
       "version_major": 2,
       "version_minor": 0
      },
      "text/plain": [
       "Downloading (…)olve/main/merges.txt:   0%|          | 0.00/456k [00:00<?, ?B/s]"
      ]
     },
     "metadata": {},
     "output_type": "display_data"
    },
    {
     "data": {
      "application/vnd.jupyter.widget-view+json": {
       "model_id": "7447883e472b4694ac71de3b689ad59a",
       "version_major": 2,
       "version_minor": 0
      },
      "text/plain": [
       "Downloading (…)cial_tokens_map.json:   0%|          | 0.00/772 [00:00<?, ?B/s]"
      ]
     },
     "metadata": {},
     "output_type": "display_data"
    },
    {
     "data": {
      "application/vnd.jupyter.widget-view+json": {
       "model_id": "39fbae5083654b0faee96ba06c49d2a7",
       "version_major": 2,
       "version_minor": 0
      },
      "text/plain": [
       "Downloading (…)lve/main/config.json:   0%|          | 0.00/4.13k [00:00<?, ?B/s]"
      ]
     },
     "metadata": {},
     "output_type": "display_data"
    },
    {
     "data": {
      "application/vnd.jupyter.widget-view+json": {
       "model_id": "e4c47dbc006a420aa583586cb5b2d3c1",
       "version_major": 2,
       "version_minor": 0
      },
      "text/plain": [
       "Downloading pytorch_model.bin:   0%|          | 0.00/1.33G [00:00<?, ?B/s]"
      ]
     },
     "metadata": {},
     "output_type": "display_data"
    },
    {
     "name": "stderr",
     "output_type": "stream",
     "text": [
      "Some weights of VisionEncoderDecoderModel were not initialized from the model checkpoint at microsoft/trocr-base-printed and are newly initialized: ['encoder.pooler.dense.bias', 'encoder.pooler.dense.weight']\n",
      "You should probably TRAIN this model on a down-stream task to be able to use it for predictions and inference.\n"
     ]
    },
    {
     "data": {
      "application/vnd.jupyter.widget-view+json": {
       "model_id": "9a0fc00887cd47dab87707cf70b65c8e",
       "version_major": 2,
       "version_minor": 0
      },
      "text/plain": [
       "Downloading (…)neration_config.json:   0%|          | 0.00/190 [00:00<?, ?B/s]"
      ]
     },
     "metadata": {},
     "output_type": "display_data"
    }
   ],
   "source": [
    "from transformers import TrOCRProcessor, VisionEncoderDecoderModel\n",
    "\n",
    "# If you want to start from the pretrained model, load the checkpoint with `VisionEncoderDecoderModel`\n",
    "processor = TrOCRProcessor.from_pretrained('microsoft/trocr-base-printed')\n",
    "\n",
    "# TrOCR is a decoder model and should be used within a VisionEncoderDecoderModel\n",
    "model = VisionEncoderDecoderModel.from_pretrained('microsoft/trocr-base-printed')"
   ]
  },
  {
   "cell_type": "code",
   "execution_count": 19,
   "id": "7d94603f",
   "metadata": {
    "collapsed": false,
    "execution": {
     "iopub.execute_input": "2023-07-06T08:24:26.170605Z",
     "iopub.status.busy": "2023-07-06T08:24:26.170296Z",
     "iopub.status.idle": "2023-07-06T08:24:26.181406Z",
     "shell.execute_reply": "2023-07-06T08:24:26.180454Z"
    },
    "jupyter": {
     "outputs_hidden": false
    },
    "papermill": {
     "duration": 0.036287,
     "end_time": "2023-07-06T08:24:26.187924",
     "exception": false,
     "start_time": "2023-07-06T08:24:26.151637",
     "status": "completed"
    },
    "tags": []
   },
   "outputs": [],
   "source": [
    "import torch\n",
    "from torch.utils.data import Dataset\n",
    "\n",
    "class LPDataset(Dataset):\n",
    "    def __init__(self, root_dir, df, processor, max_target_length=128):\n",
    "        self.root_dir = root_dir\n",
    "        self.df = df\n",
    "        self.processor = processor\n",
    "        self.max_target_length = max_target_length\n",
    "\n",
    "    def __len__(self):\n",
    "        return len(self.df)\n",
    "\n",
    "    def __getitem__(self, idx):\n",
    "        # get file name + text\n",
    "        file_name = self.df['img_path'][idx]\n",
    "        text = self.df['label'][idx]\n",
    "        # prepare image (i.e. resize + normalize)\n",
    "        image = Image.open(self.root_dir + file_name).convert(\"RGB\")\n",
    "        pixel_values = self.processor(image, return_tensors=\"pt\").pixel_values\n",
    "        # add labels (input_ids) by encoding the text\n",
    "        labels = self.processor.tokenizer(\n",
    "            text, padding=\"max_length\", max_length=self.max_target_length).input_ids\n",
    "        # important: make sure that PAD tokens are ignored by the loss function\n",
    "        labels = [label if label != self.processor.tokenizer.pad_token_id else -100 for label in labels]\n",
    "\n",
    "        encoding = {\"pixel_values\": pixel_values.squeeze(), \"labels\": torch.tensor(labels)}\n",
    "        return encoding\n",
    "\n",
    "    def __iter__(self):\n",
    "        for i in range(self.__len__()):\n",
    "            yield self.__getitem__(i)"
   ]
  },
  {
   "cell_type": "code",
   "execution_count": 20,
   "id": "ef82b936",
   "metadata": {
    "collapsed": false,
    "execution": {
     "iopub.execute_input": "2023-07-06T08:24:26.225121Z",
     "iopub.status.busy": "2023-07-06T08:24:26.224186Z",
     "iopub.status.idle": "2023-07-06T08:24:26.229434Z",
     "shell.execute_reply": "2023-07-06T08:24:26.228560Z"
    },
    "jupyter": {
     "outputs_hidden": false
    },
    "papermill": {
     "duration": 0.026687,
     "end_time": "2023-07-06T08:24:26.232000",
     "exception": false,
     "start_time": "2023-07-06T08:24:26.205313",
     "status": "completed"
    },
    "tags": []
   },
   "outputs": [],
   "source": [
    "root_dir = ''\n",
    "\n",
    "train_dataset = LPDataset(root_dir, train_df, processor)\n",
    "eval_dataset = LPDataset(root_dir, valid_df, processor)"
   ]
  },
  {
   "cell_type": "code",
   "execution_count": 21,
   "id": "609ff83b",
   "metadata": {
    "collapsed": false,
    "execution": {
     "iopub.execute_input": "2023-07-06T08:24:26.269016Z",
     "iopub.status.busy": "2023-07-06T08:24:26.268220Z",
     "iopub.status.idle": "2023-07-06T08:24:26.274747Z",
     "shell.execute_reply": "2023-07-06T08:24:26.273778Z"
    },
    "jupyter": {
     "outputs_hidden": false
    },
    "papermill": {
     "duration": 0.026739,
     "end_time": "2023-07-06T08:24:26.276899",
     "exception": false,
     "start_time": "2023-07-06T08:24:26.250160",
     "status": "completed"
    },
    "tags": []
   },
   "outputs": [],
   "source": [
    "# set special tokens used for creating the decoder_input_ids from the labels\n",
    "model.config.decoder_start_token_id = processor.tokenizer.cls_token_id\n",
    "model.config.pad_token_id = processor.tokenizer.pad_token_id\n",
    "# make sure vocab size is set correctly\n",
    "model.config.vocab_size = model.config.decoder.vocab_size\n",
    "\n",
    "# set beam search parameters\n",
    "model.config.eos_token_id = processor.tokenizer.sep_token_id\n",
    "model.config.max_length = 9\n",
    "model.config.early_stopping = True\n",
    "model.config.no_repeat_ngram_size = 3\n",
    "model.config.length_penalty = 2.0\n",
    "model.config.num_beams = 2"
   ]
  },
  {
   "cell_type": "code",
   "execution_count": 22,
   "id": "d071b5b6",
   "metadata": {
    "execution": {
     "iopub.execute_input": "2023-07-06T08:24:26.487257Z",
     "iopub.status.busy": "2023-07-06T08:24:26.486456Z",
     "iopub.status.idle": "2023-07-06T08:24:34.638691Z",
     "shell.execute_reply": "2023-07-06T08:24:34.637776Z"
    },
    "papermill": {
     "duration": 8.343398,
     "end_time": "2023-07-06T08:24:34.640858",
     "exception": false,
     "start_time": "2023-07-06T08:24:26.297460",
     "status": "completed"
    },
    "tags": []
   },
   "outputs": [
    {
     "name": "stdout",
     "output_type": "stream",
     "text": [
      "2\n"
     ]
    },
    {
     "data": {
      "text/plain": [
       "VisionEncoderDecoderModel(\n",
       "  (encoder): ViTModel(\n",
       "    (embeddings): ViTEmbeddings(\n",
       "      (patch_embeddings): ViTPatchEmbeddings(\n",
       "        (projection): Conv2d(3, 768, kernel_size=(16, 16), stride=(16, 16))\n",
       "      )\n",
       "      (dropout): Dropout(p=0.0, inplace=False)\n",
       "    )\n",
       "    (encoder): ViTEncoder(\n",
       "      (layer): ModuleList(\n",
       "        (0-11): 12 x ViTLayer(\n",
       "          (attention): ViTAttention(\n",
       "            (attention): ViTSelfAttention(\n",
       "              (query): Linear(in_features=768, out_features=768, bias=False)\n",
       "              (key): Linear(in_features=768, out_features=768, bias=False)\n",
       "              (value): Linear(in_features=768, out_features=768, bias=False)\n",
       "              (dropout): Dropout(p=0.0, inplace=False)\n",
       "            )\n",
       "            (output): ViTSelfOutput(\n",
       "              (dense): Linear(in_features=768, out_features=768, bias=True)\n",
       "              (dropout): Dropout(p=0.0, inplace=False)\n",
       "            )\n",
       "          )\n",
       "          (intermediate): ViTIntermediate(\n",
       "            (dense): Linear(in_features=768, out_features=3072, bias=True)\n",
       "            (intermediate_act_fn): GELUActivation()\n",
       "          )\n",
       "          (output): ViTOutput(\n",
       "            (dense): Linear(in_features=3072, out_features=768, bias=True)\n",
       "            (dropout): Dropout(p=0.0, inplace=False)\n",
       "          )\n",
       "          (layernorm_before): LayerNorm((768,), eps=1e-12, elementwise_affine=True)\n",
       "          (layernorm_after): LayerNorm((768,), eps=1e-12, elementwise_affine=True)\n",
       "        )\n",
       "      )\n",
       "    )\n",
       "    (layernorm): LayerNorm((768,), eps=1e-12, elementwise_affine=True)\n",
       "    (pooler): ViTPooler(\n",
       "      (dense): Linear(in_features=768, out_features=768, bias=True)\n",
       "      (activation): Tanh()\n",
       "    )\n",
       "  )\n",
       "  (decoder): TrOCRForCausalLM(\n",
       "    (model): TrOCRDecoderWrapper(\n",
       "      (decoder): TrOCRDecoder(\n",
       "        (embed_tokens): Embedding(50265, 1024, padding_idx=1)\n",
       "        (embed_positions): TrOCRLearnedPositionalEmbedding(514, 1024)\n",
       "        (layernorm_embedding): LayerNorm((1024,), eps=1e-05, elementwise_affine=True)\n",
       "        (layers): ModuleList(\n",
       "          (0-11): 12 x TrOCRDecoderLayer(\n",
       "            (self_attn): TrOCRAttention(\n",
       "              (k_proj): Linear(in_features=1024, out_features=1024, bias=True)\n",
       "              (v_proj): Linear(in_features=1024, out_features=1024, bias=True)\n",
       "              (q_proj): Linear(in_features=1024, out_features=1024, bias=True)\n",
       "              (out_proj): Linear(in_features=1024, out_features=1024, bias=True)\n",
       "            )\n",
       "            (activation_fn): GELUActivation()\n",
       "            (self_attn_layer_norm): LayerNorm((1024,), eps=1e-05, elementwise_affine=True)\n",
       "            (encoder_attn): TrOCRAttention(\n",
       "              (k_proj): Linear(in_features=768, out_features=1024, bias=True)\n",
       "              (v_proj): Linear(in_features=768, out_features=1024, bias=True)\n",
       "              (q_proj): Linear(in_features=1024, out_features=1024, bias=True)\n",
       "              (out_proj): Linear(in_features=1024, out_features=1024, bias=True)\n",
       "            )\n",
       "            (encoder_attn_layer_norm): LayerNorm((1024,), eps=1e-05, elementwise_affine=True)\n",
       "            (fc1): Linear(in_features=1024, out_features=4096, bias=True)\n",
       "            (fc2): Linear(in_features=4096, out_features=1024, bias=True)\n",
       "            (final_layer_norm): LayerNorm((1024,), eps=1e-05, elementwise_affine=True)\n",
       "          )\n",
       "        )\n",
       "      )\n",
       "    )\n",
       "    (output_projection): Linear(in_features=1024, out_features=50265, bias=False)\n",
       "  )\n",
       ")"
      ]
     },
     "execution_count": 22,
     "metadata": {},
     "output_type": "execute_result"
    }
   ],
   "source": [
    "print(model.config.decoder.decoder_start_token_id)\n",
    "device = torch.device(\"cuda\" if torch.cuda.is_available() else \"cpu\")\n",
    "model.to(device)"
   ]
  },
  {
   "cell_type": "code",
   "execution_count": 23,
   "id": "4232fdd0",
   "metadata": {
    "collapsed": false,
    "execution": {
     "iopub.execute_input": "2023-07-06T08:24:34.675053Z",
     "iopub.status.busy": "2023-07-06T08:24:34.674738Z",
     "iopub.status.idle": "2023-07-06T08:24:35.153384Z",
     "shell.execute_reply": "2023-07-06T08:24:35.152469Z"
    },
    "jupyter": {
     "outputs_hidden": false
    },
    "papermill": {
     "duration": 0.498199,
     "end_time": "2023-07-06T08:24:35.155699",
     "exception": false,
     "start_time": "2023-07-06T08:24:34.657500",
     "status": "completed"
    },
    "tags": []
   },
   "outputs": [
    {
     "data": {
      "application/vnd.jupyter.widget-view+json": {
       "model_id": "1b36bc89699f4887afbcd500a4713dbf",
       "version_major": 2,
       "version_minor": 0
      },
      "text/plain": [
       "Downloading builder script:   0%|          | 0.00/2.16k [00:00<?, ?B/s]"
      ]
     },
     "metadata": {},
     "output_type": "display_data"
    }
   ],
   "source": [
    "from datasets import load_metric\n",
    "\n",
    "cer_metric = load_metric(\"cer\")"
   ]
  },
  {
   "cell_type": "code",
   "execution_count": 24,
   "id": "81c359f2",
   "metadata": {
    "collapsed": false,
    "execution": {
     "iopub.execute_input": "2023-07-06T08:24:35.191036Z",
     "iopub.status.busy": "2023-07-06T08:24:35.190715Z",
     "iopub.status.idle": "2023-07-06T08:24:35.196377Z",
     "shell.execute_reply": "2023-07-06T08:24:35.195500Z"
    },
    "jupyter": {
     "outputs_hidden": false
    },
    "papermill": {
     "duration": 0.025191,
     "end_time": "2023-07-06T08:24:35.198259",
     "exception": false,
     "start_time": "2023-07-06T08:24:35.173068",
     "status": "completed"
    },
    "tags": []
   },
   "outputs": [],
   "source": [
    "def compute_metrics(pred):\n",
    "    labels_ids = pred.label_ids\n",
    "    pred_ids = pred.predictions\n",
    "\n",
    "    pred_str = processor.batch_decode(pred_ids, skip_special_tokens=True)\n",
    "    labels_ids[labels_ids == -100] = processor.tokenizer.pad_token_id\n",
    "    label_str = processor.batch_decode(labels_ids, skip_special_tokens=True)\n",
    "\n",
    "    cer = cer_metric.compute(predictions=pred_str, references=label_str)\n",
    "\n",
    "    return {\"cer\": cer}"
   ]
  },
  {
   "cell_type": "code",
   "execution_count": 25,
   "id": "8f7a0e81",
   "metadata": {
    "collapsed": false,
    "execution": {
     "iopub.execute_input": "2023-07-06T08:24:35.232661Z",
     "iopub.status.busy": "2023-07-06T08:24:35.231795Z",
     "iopub.status.idle": "2023-07-06T08:24:35.252663Z",
     "shell.execute_reply": "2023-07-06T08:24:35.251806Z"
    },
    "jupyter": {
     "outputs_hidden": false
    },
    "papermill": {
     "duration": 0.040113,
     "end_time": "2023-07-06T08:24:35.254696",
     "exception": false,
     "start_time": "2023-07-06T08:24:35.214583",
     "status": "completed"
    },
    "tags": []
   },
   "outputs": [],
   "source": [
    "training_args = Seq2SeqTrainingArguments(\n",
    "    predict_with_generate=True,\n",
    "    evaluation_strategy=\"steps\",\n",
    "    per_device_train_batch_size=10,\n",
    "    per_device_eval_batch_size=10,\n",
    "    fp16=True,\n",
    "    overwrite_output_dir=True,\n",
    "    output_dir=output_dir,\n",
    "    logging_steps=7,\n",
    "    save_steps=1000,\n",
    "    eval_steps=50,\n",
    "    report_to='wandb',\n",
    "    run_name='trocr-base-printed',\n",
    "    metric_for_best_model=\"cer\",\n",
    "    seed=42,\n",
    "    num_train_epochs=10,\n",
    "    dataloader_num_workers=4,\n",
    "    greater_is_better=False,\n",
    ")\n",
    "\n",
    "\n",
    "# initiate trainer\n",
    "trainer = Seq2SeqTrainer(\n",
    "    model=model,\n",
    "    tokenizer=processor.feature_extractor,\n",
    "    args=training_args,\n",
    "    compute_metrics=compute_metrics,\n",
    "    train_dataset=train_dataset,\n",
    "    eval_dataset=eval_dataset,\n",
    "    data_collator=default_data_collator,\n",
    ")"
   ]
  },
  {
   "cell_type": "code",
   "execution_count": 26,
   "id": "053eb6dc",
   "metadata": {
    "execution": {
     "iopub.execute_input": "2023-07-06T08:24:35.289018Z",
     "iopub.status.busy": "2023-07-06T08:24:35.288198Z",
     "iopub.status.idle": "2023-07-06T08:24:35.591762Z",
     "shell.execute_reply": "2023-07-06T08:24:35.590866Z"
    },
    "papermill": {
     "duration": 0.32285,
     "end_time": "2023-07-06T08:24:35.593791",
     "exception": false,
     "start_time": "2023-07-06T08:24:35.270941",
     "status": "completed"
    },
    "tags": []
   },
   "outputs": [
    {
     "name": "stdout",
     "output_type": "stream",
     "text": [
      "Used Memory: 3725.84 MB\n"
     ]
    }
   ],
   "source": [
    "reduce_memory_usage()"
   ]
  },
  {
   "cell_type": "code",
   "execution_count": 27,
   "id": "cb5f99bf",
   "metadata": {
    "collapsed": false,
    "execution": {
     "iopub.execute_input": "2023-07-06T08:24:35.628480Z",
     "iopub.status.busy": "2023-07-06T08:24:35.628186Z",
     "iopub.status.idle": "2023-07-06T08:50:24.219658Z",
     "shell.execute_reply": "2023-07-06T08:50:24.218665Z"
    },
    "jupyter": {
     "outputs_hidden": false
    },
    "papermill": {
     "duration": 1548.612633,
     "end_time": "2023-07-06T08:50:24.223358",
     "exception": false,
     "start_time": "2023-07-06T08:24:35.610725",
     "status": "completed"
    },
    "tags": []
   },
   "outputs": [
    {
     "data": {
      "text/html": [
       "\n",
       "    <div>\n",
       "      \n",
       "      <progress value='490' max='490' style='width:300px; height:20px; vertical-align: middle;'></progress>\n",
       "      [490/490 25:27, Epoch 10/10]\n",
       "    </div>\n",
       "    <table border=\"1\" class=\"dataframe\">\n",
       "  <thead>\n",
       " <tr style=\"text-align: left;\">\n",
       "      <th>Step</th>\n",
       "      <th>Training Loss</th>\n",
       "      <th>Validation Loss</th>\n",
       "      <th>Cer</th>\n",
       "    </tr>\n",
       "  </thead>\n",
       "  <tbody>\n",
       "    <tr>\n",
       "      <td>50</td>\n",
       "      <td>0.496400</td>\n",
       "      <td>0.443215</td>\n",
       "      <td>0.103153</td>\n",
       "    </tr>\n",
       "    <tr>\n",
       "      <td>100</td>\n",
       "      <td>0.259000</td>\n",
       "      <td>0.329574</td>\n",
       "      <td>0.087119</td>\n",
       "    </tr>\n",
       "    <tr>\n",
       "      <td>150</td>\n",
       "      <td>0.233200</td>\n",
       "      <td>0.328986</td>\n",
       "      <td>0.080171</td>\n",
       "    </tr>\n",
       "    <tr>\n",
       "      <td>200</td>\n",
       "      <td>0.113300</td>\n",
       "      <td>0.298631</td>\n",
       "      <td>0.067344</td>\n",
       "    </tr>\n",
       "    <tr>\n",
       "      <td>250</td>\n",
       "      <td>0.055600</td>\n",
       "      <td>0.257262</td>\n",
       "      <td>0.057189</td>\n",
       "    </tr>\n",
       "    <tr>\n",
       "      <td>300</td>\n",
       "      <td>0.022200</td>\n",
       "      <td>0.228945</td>\n",
       "      <td>0.049172</td>\n",
       "    </tr>\n",
       "    <tr>\n",
       "      <td>350</td>\n",
       "      <td>0.010300</td>\n",
       "      <td>0.185680</td>\n",
       "      <td>0.041154</td>\n",
       "    </tr>\n",
       "    <tr>\n",
       "      <td>400</td>\n",
       "      <td>0.014400</td>\n",
       "      <td>0.179770</td>\n",
       "      <td>0.035275</td>\n",
       "    </tr>\n",
       "    <tr>\n",
       "      <td>450</td>\n",
       "      <td>0.002500</td>\n",
       "      <td>0.176132</td>\n",
       "      <td>0.037413</td>\n",
       "    </tr>\n",
       "  </tbody>\n",
       "</table><p>"
      ],
      "text/plain": [
       "<IPython.core.display.HTML object>"
      ]
     },
     "metadata": {},
     "output_type": "display_data"
    },
    {
     "data": {
      "text/plain": [
       "TrainOutput(global_step=490, training_loss=0.17179250214320171, metrics={'train_runtime': 1548.2852, 'train_samples_per_second': 6.33, 'train_steps_per_second': 0.316, 'total_flos': 7.333194871760486e+18, 'train_loss': 0.17179250214320171, 'epoch': 10.0})"
      ]
     },
     "execution_count": 27,
     "metadata": {},
     "output_type": "execute_result"
    }
   ],
   "source": [
    "trainer.train()"
   ]
  },
  {
   "cell_type": "code",
   "execution_count": 28,
   "id": "9988a400",
   "metadata": {
    "collapsed": false,
    "execution": {
     "iopub.execute_input": "2023-07-06T08:50:24.261396Z",
     "iopub.status.busy": "2023-07-06T08:50:24.260577Z",
     "iopub.status.idle": "2023-07-06T08:50:26.465489Z",
     "shell.execute_reply": "2023-07-06T08:50:26.464466Z"
    },
    "jupyter": {
     "outputs_hidden": false
    },
    "papermill": {
     "duration": 2.225624,
     "end_time": "2023-07-06T08:50:26.468412",
     "exception": false,
     "start_time": "2023-07-06T08:50:24.242788",
     "status": "completed"
    },
    "tags": []
   },
   "outputs": [
    {
     "name": "stdout",
     "output_type": "stream",
     "text": [
      "save_time time (sec) 2.193397045135498\n"
     ]
    }
   ],
   "source": [
    "save_time = time.time()\n",
    "model.save_pretrained(\"/kaggle/working/ocr\")\n",
    "save_time = time.time() - save_time\n",
    "print('save_time time (sec)', save_time)"
   ]
  },
  {
   "cell_type": "code",
   "execution_count": 29,
   "id": "5e70261a",
   "metadata": {
    "collapsed": false,
    "execution": {
     "iopub.execute_input": "2023-07-06T08:50:26.609410Z",
     "iopub.status.busy": "2023-07-06T08:50:26.608835Z",
     "iopub.status.idle": "2023-07-06T08:50:35.991558Z",
     "shell.execute_reply": "2023-07-06T08:50:35.990574Z"
    },
    "jupyter": {
     "outputs_hidden": false
    },
    "papermill": {
     "duration": 9.453486,
     "end_time": "2023-07-06T08:50:35.994067",
     "exception": false,
     "start_time": "2023-07-06T08:50:26.540581",
     "status": "completed"
    },
    "tags": []
   },
   "outputs": [],
   "source": [
    "score_model = VisionEncoderDecoderModel.from_pretrained('/kaggle/working/ocr')"
   ]
  },
  {
   "cell_type": "code",
   "execution_count": 30,
   "id": "7cbeee31",
   "metadata": {
    "execution": {
     "iopub.execute_input": "2023-07-06T08:50:36.030137Z",
     "iopub.status.busy": "2023-07-06T08:50:36.029799Z",
     "iopub.status.idle": "2023-07-06T08:50:36.827830Z",
     "shell.execute_reply": "2023-07-06T08:50:36.826847Z"
    },
    "papermill": {
     "duration": 0.818163,
     "end_time": "2023-07-06T08:50:36.829760",
     "exception": false,
     "start_time": "2023-07-06T08:50:36.011597",
     "status": "completed"
    },
    "tags": []
   },
   "outputs": [
    {
     "name": "stdout",
     "output_type": "stream",
     "text": [
      "Used Memory: 9255.19 MB\n"
     ]
    }
   ],
   "source": [
    "reduce_memory_usage()"
   ]
  },
  {
   "cell_type": "code",
   "execution_count": 31,
   "id": "feaf509a",
   "metadata": {
    "collapsed": false,
    "execution": {
     "iopub.execute_input": "2023-07-06T08:50:36.871196Z",
     "iopub.status.busy": "2023-07-06T08:50:36.870164Z",
     "iopub.status.idle": "2023-07-06T08:51:27.577253Z",
     "shell.execute_reply": "2023-07-06T08:51:27.576194Z"
    },
    "jupyter": {
     "outputs_hidden": false
    },
    "papermill": {
     "duration": 50.730631,
     "end_time": "2023-07-06T08:51:27.580310",
     "exception": false,
     "start_time": "2023-07-06T08:50:36.849679",
     "status": "completed"
    },
    "tags": []
   },
   "outputs": [
    {
     "data": {
      "text/html": [
       "\n",
       "    <div>\n",
       "      \n",
       "      <progress value='13' max='13' style='width:300px; height:20px; vertical-align: middle;'></progress>\n",
       "      [13/13 00:43]\n",
       "    </div>\n",
       "    "
      ],
      "text/plain": [
       "<IPython.core.display.HTML object>"
      ]
     },
     "metadata": {},
     "output_type": "display_data"
    },
    {
     "name": "stdout",
     "output_type": "stream",
     "text": [
      "{'eval_loss': 0.1726042628288269, 'eval_cer': 0.03527525387493319, 'eval_runtime': 50.6988, 'eval_samples_per_second': 4.852, 'eval_steps_per_second': 0.256, 'epoch': 10.0}\n"
     ]
    }
   ],
   "source": [
    "evaluation = trainer.evaluate()\n",
    "\n",
    "print(evaluation)"
   ]
  },
  {
   "cell_type": "code",
   "execution_count": 32,
   "id": "a2418850",
   "metadata": {
    "execution": {
     "iopub.execute_input": "2023-07-06T08:51:27.618466Z",
     "iopub.status.busy": "2023-07-06T08:51:27.617526Z",
     "iopub.status.idle": "2023-07-06T08:51:28.050707Z",
     "shell.execute_reply": "2023-07-06T08:51:28.049760Z"
    },
    "papermill": {
     "duration": 0.454645,
     "end_time": "2023-07-06T08:51:28.052805",
     "exception": false,
     "start_time": "2023-07-06T08:51:27.598160",
     "status": "completed"
    },
    "tags": []
   },
   "outputs": [
    {
     "name": "stdout",
     "output_type": "stream",
     "text": [
      "Used Memory: 9216.95 MB\n"
     ]
    }
   ],
   "source": [
    "reduce_memory_usage()"
   ]
  },
  {
   "cell_type": "markdown",
   "id": "43c01f93",
   "metadata": {
    "papermill": {
     "duration": 0.017333,
     "end_time": "2023-07-06T08:51:28.088304",
     "exception": false,
     "start_time": "2023-07-06T08:51:28.070971",
     "status": "completed"
    },
    "tags": []
   },
   "source": [
    "# Testing Model"
   ]
  },
  {
   "cell_type": "code",
   "execution_count": 33,
   "id": "728e8c9e",
   "metadata": {
    "execution": {
     "iopub.execute_input": "2023-07-06T08:51:28.124543Z",
     "iopub.status.busy": "2023-07-06T08:51:28.124223Z",
     "iopub.status.idle": "2023-07-06T08:51:28.408840Z",
     "shell.execute_reply": "2023-07-06T08:51:28.407863Z"
    },
    "papermill": {
     "duration": 0.304968,
     "end_time": "2023-07-06T08:51:28.410886",
     "exception": false,
     "start_time": "2023-07-06T08:51:28.105918",
     "status": "completed"
    },
    "tags": []
   },
   "outputs": [
    {
     "name": "stdout",
     "output_type": "stream",
     "text": [
      "AB3787KE\n",
      "score_time (sec) 0.22794437408447266\n"
     ]
    },
    {
     "data": {
      "image/png": "[encoded data removed]",
      "text/plain": [
       "<PIL.Image.Image image mode=RGB size=840x440>"
      ]
     },
     "execution_count": 33,
     "metadata": {},
     "output_type": "execute_result"
    }
   ],
   "source": [
    "file_image = '/kaggle/input/preprocessedsatdat/preprocessed_test_data/DataTest85.png'\n",
    "# image = Image.open(requests.get(url, stream=True).raw).convert(\"RGB\")\n",
    "image = Image.open(file_image).convert(\"RGB\")\n",
    "score_time = time.time()\n",
    "\n",
    "pixel_values = processor(image, return_tensors=\"pt\").pixel_values\n",
    "# text = \"industry, ' Mr. Brown commented icily. ' Let us have a\"\n",
    "# if torch.cuda.is_available():\n",
    "device = torch.device(\"cuda\" if torch.cuda.is_available() else \"cpu\")\n",
    "pixel_values = pixel_values.to(device)\n",
    "# # inference\n",
    "generated_ids = model.generate(pixel_values)\n",
    "generated_text = processor.batch_decode(generated_ids, skip_special_tokens=True)[0]\n",
    "print(generated_text)\n",
    "\n",
    "score_time = time.time() - score_time\n",
    "print('score_time (sec)', score_time)\n",
    "\n",
    "image"
   ]
  },
  {
   "cell_type": "code",
   "execution_count": 34,
   "id": "ab81cf4e",
   "metadata": {
    "execution": {
     "iopub.execute_input": "2023-07-06T08:51:28.450219Z",
     "iopub.status.busy": "2023-07-06T08:51:28.449912Z",
     "iopub.status.idle": "2023-07-06T08:51:30.507536Z",
     "shell.execute_reply": "2023-07-06T08:51:30.506512Z"
    },
    "papermill": {
     "duration": 2.081465,
     "end_time": "2023-07-06T08:51:30.511597",
     "exception": false,
     "start_time": "2023-07-06T08:51:28.430132",
     "status": "completed"
    },
    "tags": []
   },
   "outputs": [
    {
     "data": {
      "image/png": "[encoded data removed]",
      "text/plain": [
       "<Figure size 2000x1000 with 5 Axes>"
      ]
     },
     "metadata": {},
     "output_type": "display_data"
    }
   ],
   "source": [
    "random_pics = \" \".join([f\"DataTest{i}.png\" for i in np.random.choice(100, 5, replace=False)])\n",
    "\n",
    "fig, ax = plt.subplots(5, 1, figsize=(20, 10))\n",
    "\n",
    "for i, pic in enumerate(random_pics.split()):\n",
    "    image = Image.open(os.path.join(folder_of_test, pic)).convert(\"RGB\")\n",
    "    pixel_values = processor(image, return_tensors=\"pt\").pixel_values\n",
    "    pixel_values = pixel_values.to(device)\n",
    "    generated_ids = model.generate(pixel_values)\n",
    "    generated_text = processor.batch_decode(generated_ids, skip_special_tokens=True)[0]\n",
    "    ax[i].imshow(image)\n",
    "    ax[i].set_title(generated_text)\n",
    "    ax[i].axis(\"off\")\n",
    "\n",
    "plt.show()"
   ]
  },
  {
   "cell_type": "markdown",
   "id": "4d3a5d93",
   "metadata": {
    "papermill": {
     "duration": 0.020008,
     "end_time": "2023-07-06T08:51:30.552266",
     "exception": false,
     "start_time": "2023-07-06T08:51:30.532258",
     "status": "completed"
    },
    "tags": []
   },
   "source": [
    "# Test the accuracy of the model using random on test_set"
   ]
  },
  {
   "cell_type": "code",
   "execution_count": 35,
   "id": "8ec56a71",
   "metadata": {
    "collapsed": false,
    "execution": {
     "iopub.execute_input": "2023-07-06T08:51:30.595242Z",
     "iopub.status.busy": "2023-07-06T08:51:30.594886Z",
     "iopub.status.idle": "2023-07-06T08:51:30.601024Z",
     "shell.execute_reply": "2023-07-06T08:51:30.600152Z"
    },
    "jupyter": {
     "outputs_hidden": false
    },
    "papermill": {
     "duration": 0.030723,
     "end_time": "2023-07-06T08:51:30.603053",
     "exception": false,
     "start_time": "2023-07-06T08:51:30.572330",
     "status": "completed"
    },
    "tags": []
   },
   "outputs": [],
   "source": [
    "# correct_char = 0\n",
    "# total_char = 0\n",
    "# correct = 0\n",
    "\n",
    "# # test the model accuracy on test set\n",
    "# for imges_path in test_df['img_path']:\n",
    "#     image = Image.open(imges_path).convert(\"RGB\")\n",
    "#     pixel_values = processor(image, return_tensors=\"pt\").pixel_values\n",
    "#     pixel_values = pixel_values.to(device)\n",
    "#     generated_ids = model.generate(pixel_values)\n",
    "#     generated_text = processor.batch_decode(generated_ids, skip_special_tokens=True)[0]\n",
    "#     true_text = test_df[test_df['img_path'] == imges_path]['label'].values[0]\n",
    "#     correct_char += cer_metric.compute(predictions=[generated_text], references=[true_text])\n",
    "#     total_char += len(true_text)\n",
    "#     if generated_text == true_text:\n",
    "#         correct += 1\n",
    "\n",
    "# print('Accuracy on test set', correct / len(test_df))\n",
    "# print('CER on test set', correct_char / total_char)"
   ]
  },
  {
   "cell_type": "markdown",
   "id": "13508da4",
   "metadata": {
    "papermill": {
     "duration": 0.020191,
     "end_time": "2023-07-06T08:51:30.644243",
     "exception": false,
     "start_time": "2023-07-06T08:51:30.624052",
     "status": "completed"
    },
    "tags": []
   },
   "source": [
    "# Making Pred on Testset"
   ]
  },
  {
   "cell_type": "code",
   "execution_count": 36,
   "id": "971e649e",
   "metadata": {
    "collapsed": false,
    "execution": {
     "iopub.execute_input": "2023-07-06T08:51:30.688489Z",
     "iopub.status.busy": "2023-07-06T08:51:30.688203Z",
     "iopub.status.idle": "2023-07-06T08:51:52.454858Z",
     "shell.execute_reply": "2023-07-06T08:51:52.453925Z"
    },
    "jupyter": {
     "outputs_hidden": false
    },
    "papermill": {
     "duration": 21.792499,
     "end_time": "2023-07-06T08:51:52.457090",
     "exception": false,
     "start_time": "2023-07-06T08:51:30.664591",
     "status": "completed"
    },
    "tags": []
   },
   "outputs": [
    {
     "data": {
      "text/html": [
       "<div>\n",
       "<style scoped>\n",
       "    .dataframe tbody tr th:only-of-type {\n",
       "        vertical-align: middle;\n",
       "    }\n",
       "\n",
       "    .dataframe tbody tr th {\n",
       "        vertical-align: top;\n",
       "    }\n",
       "\n",
       "    .dataframe thead th {\n",
       "        text-align: right;\n",
       "    }\n",
       "</style>\n",
       "<table border=\"1\" class=\"dataframe\">\n",
       "  <thead>\n",
       "    <tr style=\"text-align: right;\">\n",
       "      <th></th>\n",
       "      <th>Name of File</th>\n",
       "      <th>Vehicleregistrationplatebymodel</th>\n",
       "    </tr>\n",
       "  </thead>\n",
       "  <tbody>\n",
       "    <tr>\n",
       "      <th>0</th>\n",
       "      <td>DataTest1.png</td>\n",
       "      <td>AD7034OE</td>\n",
       "    </tr>\n",
       "    <tr>\n",
       "      <th>1</th>\n",
       "      <td>DataTest2.png</td>\n",
       "      <td>A9388EX</td>\n",
       "    </tr>\n",
       "    <tr>\n",
       "      <th>2</th>\n",
       "      <td>DataTest3.png</td>\n",
       "      <td>B16TB</td>\n",
       "    </tr>\n",
       "    <tr>\n",
       "      <th>3</th>\n",
       "      <td>DataTest4.png</td>\n",
       "      <td>B1661TKZ</td>\n",
       "    </tr>\n",
       "    <tr>\n",
       "      <th>4</th>\n",
       "      <td>DataTest5.png</td>\n",
       "      <td>AD3772ABE</td>\n",
       "    </tr>\n",
       "  </tbody>\n",
       "</table>\n",
       "</div>"
      ],
      "text/plain": [
       "    Name of File Vehicleregistrationplatebymodel\n",
       "0  DataTest1.png                        AD7034OE\n",
       "1  DataTest2.png                         A9388EX\n",
       "2  DataTest3.png                           B16TB\n",
       "3  DataTest4.png                        B1661TKZ\n",
       "4  DataTest5.png                       AD3772ABE"
      ]
     },
     "execution_count": 36,
     "metadata": {},
     "output_type": "execute_result"
    }
   ],
   "source": [
    "# making pred on testing dataframe\n",
    "pred = []\n",
    "\n",
    "for imges_path in testing_data['img_path']:\n",
    "    image = Image.open(imges_path).convert(\"RGB\")\n",
    "    pixel_values = processor(image, return_tensors=\"pt\").pixel_values\n",
    "    pixel_values = pixel_values.to(device)\n",
    "    generated_ids = model.generate(pixel_values)\n",
    "    generated_text = processor.batch_decode(generated_ids, skip_special_tokens=True)[0]\n",
    "    pred.append(generated_text)\n",
    "\n",
    "testing_data['Vehicleregistrationplatebymodel'] = pred\n",
    "\n",
    "# change the 'img' column to 'Name of File'\n",
    "testing_data.rename(columns={'img': 'Name of File'}, inplace=True)\n",
    "\n",
    "testing_data.drop('img_path', axis=1, inplace=True)\n",
    "\n",
    "testing_data.head()"
   ]
  },
  {
   "cell_type": "code",
   "execution_count": 37,
   "id": "b945cb25",
   "metadata": {
    "collapsed": false,
    "execution": {
     "iopub.execute_input": "2023-07-06T08:51:52.500512Z",
     "iopub.status.busy": "2023-07-06T08:51:52.499582Z",
     "iopub.status.idle": "2023-07-06T08:51:52.520923Z",
     "shell.execute_reply": "2023-07-06T08:51:52.518552Z"
    },
    "jupyter": {
     "outputs_hidden": false
    },
    "papermill": {
     "duration": 0.044922,
     "end_time": "2023-07-06T08:51:52.523055",
     "exception": false,
     "start_time": "2023-07-06T08:51:52.478133",
     "status": "completed"
    },
    "tags": []
   },
   "outputs": [
    {
     "name": "stderr",
     "output_type": "stream",
     "text": [
      "\u001b[34m\u001b[1mwandb\u001b[0m: \u001b[33mWARNING\u001b[0m Saving files without folders. If you want to preserve sub directories pass base_path to wandb.save, i.e. wandb.save(\"/mnt/folder/file.h5\", base_path=\"/mnt\")\n"
     ]
    },
    {
     "data": {
      "text/plain": [
       "['/kaggle/working/wandb/run-20230706_082213-0zvml26r/files/submission.csv']"
      ]
     },
     "execution_count": 37,
     "metadata": {},
     "output_type": "execute_result"
    }
   ],
   "source": [
    "testing_data.to_csv('/kaggle/working/submission.csv')\n",
    "wandb.save('/kaggle/working/submission.csv')"
   ]
  },
  {
   "cell_type": "markdown",
   "id": "b39d281b",
   "metadata": {
    "papermill": {
     "duration": 0.021121,
     "end_time": "2023-07-06T08:51:53.305856",
     "exception": false,
     "start_time": "2023-07-06T08:51:53.284735",
     "status": "completed"
    },
    "tags": []
   },
   "source": [
    "# Wandb logger"
   ]
  },
  {
   "cell_type": "code",
   "execution_count": 40,
   "id": "35b55fc1",
   "metadata": {
    "execution": {
     "iopub.execute_input": "2023-07-06T08:51:53.350145Z",
     "iopub.status.busy": "2023-07-06T08:51:53.349455Z",
     "iopub.status.idle": "2023-07-06T08:51:58.552395Z",
     "shell.execute_reply": "2023-07-06T08:51:58.551496Z"
    },
    "papermill": {
     "duration": 5.227783,
     "end_time": "2023-07-06T08:51:58.554576",
     "exception": false,
     "start_time": "2023-07-06T08:51:53.326793",
     "status": "completed"
    },
    "tags": []
   },
   "outputs": [
    {
     "name": "stderr",
     "output_type": "stream",
     "text": [
      "\u001b[34m\u001b[1mwandb\u001b[0m: Waiting for W&B process to finish... \u001b[32m(success).\u001b[0m\n",
      "\u001b[34m\u001b[1mwandb\u001b[0m: \n",
      "\u001b[34m\u001b[1mwandb\u001b[0m: Run history:\n",
      "\u001b[34m\u001b[1mwandb\u001b[0m:                       accuracy ▁\n",
      "\u001b[34m\u001b[1mwandb\u001b[0m:                       eval/cer █▆▆▄▃▂▂▁▁▁\n",
      "\u001b[34m\u001b[1mwandb\u001b[0m:                      eval/loss █▅▅▄▃▂▁▁▁▁\n",
      "\u001b[34m\u001b[1mwandb\u001b[0m:                   eval/runtime █▃▄▆▂▄▁▁▁▆\n",
      "\u001b[34m\u001b[1mwandb\u001b[0m:        eval/samples_per_second ▁▆▅▂▇▅███▃\n",
      "\u001b[34m\u001b[1mwandb\u001b[0m:          eval/steps_per_second ▁▆▅▂▇▅███▃\n",
      "\u001b[34m\u001b[1mwandb\u001b[0m:                    train/epoch ▁▁▁▂▂▂▂▂▂▃▃▃▃▃▄▄▄▄▄▄▅▅▅▅▅▆▆▆▆▆▆▇▇▇▇▇▇███\n",
      "\u001b[34m\u001b[1mwandb\u001b[0m:              train/global_step ▁▁▁▂▂▂▂▂▂▃▃▃▃▃▄▄▄▄▄▅▅▅▅▅▅▆▆▆▆▆▇▇▇▇▇▇████\n",
      "\u001b[34m\u001b[1mwandb\u001b[0m:            train/learning_rate ███▇▇▇▇▇▇▆▆▆▆▆▆▅▅▅▅▅▄▄▄▄▄▄▃▃▃▃▃▃▂▂▂▂▂▁▁▁\n",
      "\u001b[34m\u001b[1mwandb\u001b[0m:                     train/loss █▄▂▂▁▂▁▁▁▁▁▁▁▁▁▁▁▁▁▁▁▁▁▁▁▁▁▁▁▁▁▁▁▁▁▁▁▁▁▁\n",
      "\u001b[34m\u001b[1mwandb\u001b[0m:               train/total_flos ▁\n",
      "\u001b[34m\u001b[1mwandb\u001b[0m:               train/train_loss ▁\n",
      "\u001b[34m\u001b[1mwandb\u001b[0m:            train/train_runtime ▁\n",
      "\u001b[34m\u001b[1mwandb\u001b[0m: train/train_samples_per_second ▁\n",
      "\u001b[34m\u001b[1mwandb\u001b[0m:   train/train_steps_per_second ▁\n",
      "\u001b[34m\u001b[1mwandb\u001b[0m: \n",
      "\u001b[34m\u001b[1mwandb\u001b[0m: Run summary:\n",
      "\u001b[34m\u001b[1mwandb\u001b[0m:                       accuracy 0.9645\n",
      "\u001b[34m\u001b[1mwandb\u001b[0m:                       eval/cer 0.03528\n",
      "\u001b[34m\u001b[1mwandb\u001b[0m:                      eval/loss 0.1726\n",
      "\u001b[34m\u001b[1mwandb\u001b[0m:                   eval/runtime 50.6988\n",
      "\u001b[34m\u001b[1mwandb\u001b[0m:        eval/samples_per_second 4.852\n",
      "\u001b[34m\u001b[1mwandb\u001b[0m:          eval/steps_per_second 0.256\n",
      "\u001b[34m\u001b[1mwandb\u001b[0m:                    train/epoch 10.0\n",
      "\u001b[34m\u001b[1mwandb\u001b[0m:              train/global_step 490\n",
      "\u001b[34m\u001b[1mwandb\u001b[0m:            train/learning_rate 0.0\n",
      "\u001b[34m\u001b[1mwandb\u001b[0m:                     train/loss 0.0084\n",
      "\u001b[34m\u001b[1mwandb\u001b[0m:               train/total_flos 7.333194871760486e+18\n",
      "\u001b[34m\u001b[1mwandb\u001b[0m:               train/train_loss 0.17179\n",
      "\u001b[34m\u001b[1mwandb\u001b[0m:            train/train_runtime 1548.2852\n",
      "\u001b[34m\u001b[1mwandb\u001b[0m: train/train_samples_per_second 6.33\n",
      "\u001b[34m\u001b[1mwandb\u001b[0m:   train/train_steps_per_second 0.316\n",
      "\u001b[34m\u001b[1mwandb\u001b[0m: \n",
      "\u001b[34m\u001b[1mwandb\u001b[0m: 🚀 View run \u001b[33msdi30iur\u001b[0m at: \u001b[34m\u001b[4mhttps://wandb.ai/elskow/ocr/runs/0zvml26r\u001b[0m\n",
      "\u001b[34m\u001b[1mwandb\u001b[0m: Synced 6 W&B file(s), 1 media file(s), 1 artifact file(s) and 1 other file(s)\n",
      "\u001b[34m\u001b[1mwandb\u001b[0m: Find logs at: \u001b[35m\u001b[1m./wandb/run-20230706_082213-0zvml26r/logs\u001b[0m\n"
     ]
    }
   ],
   "source": [
    "wandb.finish()"
   ]
  }
 ],
 "metadata": {
  "kernelspec": {
   "display_name": "Python 3",
   "language": "python",
   "name": "python3"
  },
  "language_info": {
   "codemirror_mode": {
    "name": "ipython",
    "version": 3
   },
   "file_extension": ".py",
   "mimetype": "text/x-python",
   "name": "python",
   "nbconvert_exporter": "python",
   "pygments_lexer": "ipython3",
   "version": "3.10.10"
  },
  "papermill": {
   "default_parameters": {},
   "duration": 1824.314899,
   "end_time": "2023-07-06T08:52:02.004311",
   "environment_variables": {},
   "exception": null,
   "input_path": "__notebook__.ipynb",
   "output_path": "__notebook__.ipynb",
   "parameters": {},
   "start_time": "2023-07-06T08:21:37.689412",
   "version": "2.4.0"
  },
  "widgets": {
   "application/vnd.jupyter.widget-state+json": {
    "state": {
     "0030344faefb4dc3a56f603c2be69a1e": {
      "model_module": "@jupyter-widgets/controls",
      "model_module_version": "1.5.0",
      "model_name": "FloatProgressModel",
      "state": {
       "_dom_classes": [],
       "_model_module": "@jupyter-widgets/controls",
       "_model_module_version": "1.5.0",
       "_model_name": "FloatProgressModel",
       "_view_count": null,
       "_view_module": "@jupyter-widgets/controls",
       "_view_module_version": "1.5.0",
       "_view_name": "ProgressView",
       "bar_style": "success",
       "description": "",
       "description_tooltip": null,
       "layout": "IPY_MODEL_c9bdf06369264d388f900d480462a75d",
       "max": 4126,
       "min": 0,
       "orientation": "horizontal",
       "style": "IPY_MODEL_66fc307d3890461491d1f824e384561d",
       "value": 4126
      }
     },
     "012db4488dc943c9a61912f1ddec8749": {
      "model_module": "@jupyter-widgets/base",
      "model_module_version": "1.2.0",
      "model_name": "LayoutModel",
      "state": {
       "_model_module": "@jupyter-widgets/base",
       "_model_module_version": "1.2.0",
       "_model_name": "LayoutModel",
       "_view_count": null,
       "_view_module": "@jupyter-widgets/base",
       "_view_module_version": "1.2.0",
       "_view_name": "LayoutView",
       "align_content": null,
       "align_items": null,
       "align_self": null,
       "border": null,
       "bottom": null,
       "display": null,
       "flex": null,
       "flex_flow": null,
       "grid_area": null,
       "grid_auto_columns": null,
       "grid_auto_flow": null,
       "grid_auto_rows": null,
       "grid_column": null,
       "grid_gap": null,
       "grid_row": null,
       "grid_template_areas": null,
       "grid_template_columns": null,
       "grid_template_rows": null,
       "height": null,
       "justify_content": null,
       "justify_items": null,
       "left": null,
       "margin": null,
       "max_height": null,
       "max_width": null,
       "min_height": null,
       "min_width": null,
       "object_fit": null,
       "object_position": null,
       "order": null,
       "overflow": null,
       "overflow_x": null,
       "overflow_y": null,
       "padding": null,
       "right": null,
       "top": null,
       "visibility": null,
       "width": null
      }
     },
     "02c9a8b1968a49188c355c36aaca12f3": {
      "model_module": "@jupyter-widgets/controls",
      "model_module_version": "1.5.0",
      "model_name": "ProgressStyleModel",
      "state": {
       "_model_module": "@jupyter-widgets/controls",
       "_model_module_version": "1.5.0",
       "_model_name": "ProgressStyleModel",
       "_view_count": null,
       "_view_module": "@jupyter-widgets/base",
       "_view_module_version": "1.2.0",
       "_view_name": "StyleView",
       "bar_color": null,
       "description_width": ""
      }
     },
     "07f0a6296e614509aaee17e6d3b3d987": {
      "model_module": "@jupyter-widgets/base",
      "model_module_version": "1.2.0",
      "model_name": "LayoutModel",
      "state": {
       "_model_module": "@jupyter-widgets/base",
       "_model_module_version": "1.2.0",
       "_model_name": "LayoutModel",
       "_view_count": null,
       "_view_module": "@jupyter-widgets/base",
       "_view_module_version": "1.2.0",
       "_view_name": "LayoutView",
       "align_content": null,
       "align_items": null,
       "align_self": null,
       "border": null,
       "bottom": null,
       "display": null,
       "flex": null,
       "flex_flow": null,
       "grid_area": null,
       "grid_auto_columns": null,
       "grid_auto_flow": null,
       "grid_auto_rows": null,
       "grid_column": null,
       "grid_gap": null,
       "grid_row": null,
       "grid_template_areas": null,
       "grid_template_columns": null,
       "grid_template_rows": null,
       "height": null,
       "justify_content": null,
       "justify_items": null,
       "left": null,
       "margin": null,
       "max_height": null,
       "max_width": null,
       "min_height": null,
       "min_width": null,
       "object_fit": null,
       "object_position": null,
       "order": null,
       "overflow": null,
       "overflow_x": null,
       "overflow_y": null,
       "padding": null,
       "right": null,
       "top": null,
       "visibility": null,
       "width": null
      }
     },
     "095f56fc55f449569a9d5eb539ebd438": {
      "model_module": "@jupyter-widgets/base",
      "model_module_version": "1.2.0",
      "model_name": "LayoutModel",
      "state": {
       "_model_module": "@jupyter-widgets/base",
       "_model_module_version": "1.2.0",
       "_model_name": "LayoutModel",
       "_view_count": null,
       "_view_module": "@jupyter-widgets/base",
       "_view_module_version": "1.2.0",
       "_view_name": "LayoutView",
       "align_content": null,
       "align_items": null,
       "align_self": null,
       "border": null,
       "bottom": null,
       "display": null,
       "flex": null,
       "flex_flow": null,
       "grid_area": null,
       "grid_auto_columns": null,
       "grid_auto_flow": null,
       "grid_auto_rows": null,
       "grid_column": null,
       "grid_gap": null,
       "grid_row": null,
       "grid_template_areas": null,
       "grid_template_columns": null,
       "grid_template_rows": null,
       "height": null,
       "justify_content": null,
       "justify_items": null,
       "left": null,
       "margin": null,
       "max_height": null,
       "max_width": null,
       "min_height": null,
       "min_width": null,
       "object_fit": null,
       "object_position": null,
       "order": null,
       "overflow": null,
       "overflow_x": null,
       "overflow_y": null,
       "padding": null,
       "right": null,
       "top": null,
       "visibility": null,
       "width": null
      }
     },
     "0ac69390135c44d0b2eba16fa9e2e928": {
      "model_module": "@jupyter-widgets/controls",
      "model_module_version": "1.5.0",
      "model_name": "HTMLModel",
      "state": {
       "_dom_classes": [],
       "_model_module": "@jupyter-widgets/controls",
       "_model_module_version": "1.5.0",
       "_model_name": "HTMLModel",
       "_view_count": null,
       "_view_module": "@jupyter-widgets/controls",
       "_view_module_version": "1.5.0",
       "_view_name": "HTMLView",
       "description": "",
       "description_tooltip": null,
       "layout": "IPY_MODEL_a060263e9b28461497ab762074219ded",
       "placeholder": "​",
       "style": "IPY_MODEL_bbd5743dbc6b40cbae81f64b3515eb90",
       "value": "Downloading builder script: "
      }
     },
     "0ca760059e774a5ebd25f3c776f07c87": {
      "model_module": "@jupyter-widgets/controls",
      "model_module_version": "1.5.0",
      "model_name": "HTMLModel",
      "state": {
       "_dom_classes": [],
       "_model_module": "@jupyter-widgets/controls",
       "_model_module_version": "1.5.0",
       "_model_name": "HTMLModel",
       "_view_count": null,
       "_view_module": "@jupyter-widgets/controls",
       "_view_module_version": "1.5.0",
       "_view_name": "HTMLView",
       "description": "",
       "description_tooltip": null,
       "layout": "IPY_MODEL_012db4488dc943c9a61912f1ddec8749",
       "placeholder": "​",
       "style": "IPY_MODEL_59d1fbb568ad4e12884477866c3d70fb",
       "value": "Downloading (…)lve/main/config.json: 100%"
      }
     },
     "10bddb90fed1446c82980c03c472a782": {
      "model_module": "@jupyter-widgets/controls",
      "model_module_version": "1.5.0",
      "model_name": "DescriptionStyleModel",
      "state": {
       "_model_module": "@jupyter-widgets/controls",
       "_model_module_version": "1.5.0",
       "_model_name": "DescriptionStyleModel",
       "_view_count": null,
       "_view_module": "@jupyter-widgets/base",
       "_view_module_version": "1.2.0",
       "_view_name": "StyleView",
       "description_width": ""
      }
     },
     "17d8dabb83a749f1a03a741142194bda": {
      "model_module": "@jupyter-widgets/controls",
      "model_module_version": "1.5.0",
      "model_name": "HBoxModel",
      "state": {
       "_dom_classes": [],
       "_model_module": "@jupyter-widgets/controls",
       "_model_module_version": "1.5.0",
       "_model_name": "HBoxModel",
       "_view_count": null,
       "_view_module": "@jupyter-widgets/controls",
       "_view_module_version": "1.5.0",
       "_view_name": "HBoxView",
       "box_style": "",
       "children": [
        "IPY_MODEL_76f11482adfb43e8924b8f88e2efab0c",
        "IPY_MODEL_4c2fd0a9993f4976bbe3ab319bbc3cad",
        "IPY_MODEL_376e26fe88344705bed7bc1c5a427bfc"
       ],
       "layout": "IPY_MODEL_a58ac4244ccd4e2bbf1378510c3482ed"
      }
     },
     "1b36bc89699f4887afbcd500a4713dbf": {
      "model_module": "@jupyter-widgets/controls",
      "model_module_version": "1.5.0",
      "model_name": "HBoxModel",
      "state": {
       "_dom_classes": [],
       "_model_module": "@jupyter-widgets/controls",
       "_model_module_version": "1.5.0",
       "_model_name": "HBoxModel",
       "_view_count": null,
       "_view_module": "@jupyter-widgets/controls",
       "_view_module_version": "1.5.0",
       "_view_name": "HBoxView",
       "box_style": "",
       "children": [
        "IPY_MODEL_0ac69390135c44d0b2eba16fa9e2e928",
        "IPY_MODEL_318f6f87dc034a3eb1ffe53598df50cf",
        "IPY_MODEL_4db3f79ed25e4ad9ac14bcbe1ef04300"
       ],
       "layout": "IPY_MODEL_751a9c4e693348afbb13cc75f4c42c5c"
      }
     },
     "1f827ed1be8a4df9a113a0938bdd93f3": {
      "model_module": "@jupyter-widgets/controls",
      "model_module_version": "1.5.0",
      "model_name": "FloatProgressModel",
      "state": {
       "_dom_classes": [],
       "_model_module": "@jupyter-widgets/controls",
       "_model_module_version": "1.5.0",
       "_model_name": "FloatProgressModel",
       "_view_count": null,
       "_view_module": "@jupyter-widgets/controls",
       "_view_module_version": "1.5.0",
       "_view_name": "ProgressView",
       "bar_style": "success",
       "description": "",
       "description_tooltip": null,
       "layout": "IPY_MODEL_8a4f0422a7684980a16951df72c208c9",
       "max": 1333508485,
       "min": 0,
       "orientation": "horizontal",
       "style": "IPY_MODEL_02c9a8b1968a49188c355c36aaca12f3",
       "value": 1333508485
      }
     },
     "216026b688614653a3aa4a555aac7ce1": {
      "model_module": "@jupyter-widgets/base",
      "model_module_version": "1.2.0",
      "model_name": "LayoutModel",
      "state": {
       "_model_module": "@jupyter-widgets/base",
       "_model_module_version": "1.2.0",
       "_model_name": "LayoutModel",
       "_view_count": null,
       "_view_module": "@jupyter-widgets/base",
       "_view_module_version": "1.2.0",
       "_view_name": "LayoutView",
       "align_content": null,
       "align_items": null,
       "align_self": null,
       "border": null,
       "bottom": null,
       "display": null,
       "flex": null,
       "flex_flow": null,
       "grid_area": null,
       "grid_auto_columns": null,
       "grid_auto_flow": null,
       "grid_auto_rows": null,
       "grid_column": null,
       "grid_gap": null,
       "grid_row": null,
       "grid_template_areas": null,
       "grid_template_columns": null,
       "grid_template_rows": null,
       "height": null,
       "justify_content": null,
       "justify_items": null,
       "left": null,
       "margin": null,
       "max_height": null,
       "max_width": null,
       "min_height": null,
       "min_width": null,
       "object_fit": null,
       "object_position": null,
       "order": null,
       "overflow": null,
       "overflow_x": null,
       "overflow_y": null,
       "padding": null,
       "right": null,
       "top": null,
       "visibility": null,
       "width": null
      }
     },
     "2258f0bc37894304b30cc020e80dfa7b": {
      "model_module": "@jupyter-widgets/base",
      "model_module_version": "1.2.0",
      "model_name": "LayoutModel",
      "state": {
       "_model_module": "@jupyter-widgets/base",
       "_model_module_version": "1.2.0",
       "_model_name": "LayoutModel",
       "_view_count": null,
       "_view_module": "@jupyter-widgets/base",
       "_view_module_version": "1.2.0",
       "_view_name": "LayoutView",
       "align_content": null,
       "align_items": null,
       "align_self": null,
       "border": null,
       "bottom": null,
       "display": null,
       "flex": null,
       "flex_flow": null,
       "grid_area": null,
       "grid_auto_columns": null,
       "grid_auto_flow": null,
       "grid_auto_rows": null,
       "grid_column": null,
       "grid_gap": null,
       "grid_row": null,
       "grid_template_areas": null,
       "grid_template_columns": null,
       "grid_template_rows": null,
       "height": null,
       "justify_content": null,
       "justify_items": null,
       "left": null,
       "margin": null,
       "max_height": null,
       "max_width": null,
       "min_height": null,
       "min_width": null,
       "object_fit": null,
       "object_position": null,
       "order": null,
       "overflow": null,
       "overflow_x": null,
       "overflow_y": null,
       "padding": null,
       "right": null,
       "top": null,
       "visibility": null,
       "width": null
      }
     },
     "2325cbb778114da0ae917bc30df14f6c": {
      "model_module": "@jupyter-widgets/base",
      "model_module_version": "1.2.0",
      "model_name": "LayoutModel",
      "state": {
       "_model_module": "@jupyter-widgets/base",
       "_model_module_version": "1.2.0",
       "_model_name": "LayoutModel",
       "_view_count": null,
       "_view_module": "@jupyter-widgets/base",
       "_view_module_version": "1.2.0",
       "_view_name": "LayoutView",
       "align_content": null,
       "align_items": null,
       "align_self": null,
       "border": null,
       "bottom": null,
       "display": null,
       "flex": null,
       "flex_flow": null,
       "grid_area": null,
       "grid_auto_columns": null,
       "grid_auto_flow": null,
       "grid_auto_rows": null,
       "grid_column": null,
       "grid_gap": null,
       "grid_row": null,
       "grid_template_areas": null,
       "grid_template_columns": null,
       "grid_template_rows": null,
       "height": null,
       "justify_content": null,
       "justify_items": null,
       "left": null,
       "margin": null,
       "max_height": null,
       "max_width": null,
       "min_height": null,
       "min_width": null,
       "object_fit": null,
       "object_position": null,
       "order": null,
       "overflow": null,
       "overflow_x": null,
       "overflow_y": null,
       "padding": null,
       "right": null,
       "top": null,
       "visibility": null,
       "width": null
      }
     },
     "2b4755ad5a0c48d993c36596ec99df6d": {
      "model_module": "@jupyter-widgets/controls",
      "model_module_version": "1.5.0",
      "model_name": "DescriptionStyleModel",
      "state": {
       "_model_module": "@jupyter-widgets/controls",
       "_model_module_version": "1.5.0",
       "_model_name": "DescriptionStyleModel",
       "_view_count": null,
       "_view_module": "@jupyter-widgets/base",
       "_view_module_version": "1.2.0",
       "_view_name": "StyleView",
       "description_width": ""
      }
     },
     "2c8d12f59d174e11969b67a8b384a532": {
      "model_module": "@jupyter-widgets/controls",
      "model_module_version": "1.5.0",
      "model_name": "HTMLModel",
      "state": {
       "_dom_classes": [],
       "_model_module": "@jupyter-widgets/controls",
       "_model_module_version": "1.5.0",
       "_model_name": "HTMLModel",
       "_view_count": null,
       "_view_module": "@jupyter-widgets/controls",
       "_view_module_version": "1.5.0",
       "_view_name": "HTMLView",
       "description": "",
       "description_tooltip": null,
       "layout": "IPY_MODEL_68af2549e74c4793a7f7f95e385008af",
       "placeholder": "​",
       "style": "IPY_MODEL_f4daa753bbb7414a9ce0a65aa3cc182d",
       "value": " 228/228 [00:00&lt;00:00, 15.7kB/s]"
      }
     },
     "318f6f87dc034a3eb1ffe53598df50cf": {
      "model_module": "@jupyter-widgets/controls",
      "model_module_version": "1.5.0",
      "model_name": "FloatProgressModel",
      "state": {
       "_dom_classes": [],
       "_model_module": "@jupyter-widgets/controls",
       "_model_module_version": "1.5.0",
       "_model_name": "FloatProgressModel",
       "_view_count": null,
       "_view_module": "@jupyter-widgets/controls",
       "_view_module_version": "1.5.0",
       "_view_name": "ProgressView",
       "bar_style": "success",
       "description": "",
       "description_tooltip": null,
       "layout": "IPY_MODEL_40c5019f87dd4fd3a4c8a02c837ac27c",
       "max": 2160,
       "min": 0,
       "orientation": "horizontal",
       "style": "IPY_MODEL_959a7a55143e41a19cf3c9f964d604fb",
       "value": 2160
      }
     },
     "3335e9eb28a84d59bbce29c3f57364d7": {
      "model_module": "@jupyter-widgets/controls",
      "model_module_version": "1.5.0",
      "model_name": "FloatProgressModel",
      "state": {
       "_dom_classes": [],
       "_model_module": "@jupyter-widgets/controls",
       "_model_module_version": "1.5.0",
       "_model_name": "FloatProgressModel",
       "_view_count": null,
       "_view_module": "@jupyter-widgets/controls",
       "_view_module_version": "1.5.0",
       "_view_name": "ProgressView",
       "bar_style": "success",
       "description": "",
       "description_tooltip": null,
       "layout": "IPY_MODEL_ee7bca51fdda46e5a19ce4b74da5f45e",
       "max": 228,
       "min": 0,
       "orientation": "horizontal",
       "style": "IPY_MODEL_6a474bddd25846eca79178b04b044aee",
       "value": 228
      }
     },
     "33d247cde4ab4fd9a68b0fd7be31ba4b": {
      "model_module": "@jupyter-widgets/base",
      "model_module_version": "1.2.0",
      "model_name": "LayoutModel",
      "state": {
       "_model_module": "@jupyter-widgets/base",
       "_model_module_version": "1.2.0",
       "_model_name": "LayoutModel",
       "_view_count": null,
       "_view_module": "@jupyter-widgets/base",
       "_view_module_version": "1.2.0",
       "_view_name": "LayoutView",
       "align_content": null,
       "align_items": null,
       "align_self": null,
       "border": null,
       "bottom": null,
       "display": null,
       "flex": null,
       "flex_flow": null,
       "grid_area": null,
       "grid_auto_columns": null,
       "grid_auto_flow": null,
       "grid_auto_rows": null,
       "grid_column": null,
       "grid_gap": null,
       "grid_row": null,
       "grid_template_areas": null,
       "grid_template_columns": null,
       "grid_template_rows": null,
       "height": null,
       "justify_content": null,
       "justify_items": null,
       "left": null,
       "margin": null,
       "max_height": null,
       "max_width": null,
       "min_height": null,
       "min_width": null,
       "object_fit": null,
       "object_position": null,
       "order": null,
       "overflow": null,
       "overflow_x": null,
       "overflow_y": null,
       "padding": null,
       "right": null,
       "top": null,
       "visibility": null,
       "width": null
      }
     },
     "361b85a38ecb4a57bb7c9eccb0fdd59a": {
      "model_module": "@jupyter-widgets/controls",
      "model_module_version": "1.5.0",
      "model_name": "DescriptionStyleModel",
      "state": {
       "_model_module": "@jupyter-widgets/controls",
       "_model_module_version": "1.5.0",
       "_model_name": "DescriptionStyleModel",
       "_view_count": null,
       "_view_module": "@jupyter-widgets/base",
       "_view_module_version": "1.2.0",
       "_view_name": "StyleView",
       "description_width": ""
      }
     },
     "364d872a8dbf4655a990fcb8c9b39406": {
      "model_module": "@jupyter-widgets/controls",
      "model_module_version": "1.5.0",
      "model_name": "HTMLModel",
      "state": {
       "_dom_classes": [],
       "_model_module": "@jupyter-widgets/controls",
       "_model_module_version": "1.5.0",
       "_model_name": "HTMLModel",
       "_view_count": null,
       "_view_module": "@jupyter-widgets/controls",
       "_view_module_version": "1.5.0",
       "_view_name": "HTMLView",
       "description": "",
       "description_tooltip": null,
       "layout": "IPY_MODEL_6a1086a31ce84bd89d4b44a8321ed8bd",
       "placeholder": "​",
       "style": "IPY_MODEL_e5aaeb4d3b0847898c34946ef146c8f4",
       "value": "Downloading (…)okenizer_config.json: 100%"
      }
     },
     "36b730fd038e4bd19f0e8108e272f602": {
      "model_module": "@jupyter-widgets/controls",
      "model_module_version": "1.5.0",
      "model_name": "DescriptionStyleModel",
      "state": {
       "_model_module": "@jupyter-widgets/controls",
       "_model_module_version": "1.5.0",
       "_model_name": "DescriptionStyleModel",
       "_view_count": null,
       "_view_module": "@jupyter-widgets/base",
       "_view_module_version": "1.2.0",
       "_view_name": "StyleView",
       "description_width": ""
      }
     },
     "376e26fe88344705bed7bc1c5a427bfc": {
      "model_module": "@jupyter-widgets/controls",
      "model_module_version": "1.5.0",
      "model_name": "HTMLModel",
      "state": {
       "_dom_classes": [],
       "_model_module": "@jupyter-widgets/controls",
       "_model_module_version": "1.5.0",
       "_model_name": "HTMLModel",
       "_view_count": null,
       "_view_module": "@jupyter-widgets/controls",
       "_view_module_version": "1.5.0",
       "_view_name": "HTMLView",
       "description": "",
       "description_tooltip": null,
       "layout": "IPY_MODEL_216026b688614653a3aa4a555aac7ce1",
       "placeholder": "​",
       "style": "IPY_MODEL_10bddb90fed1446c82980c03c472a782",
       "value": " 899k/899k [00:00&lt;00:00, 12.0MB/s]"
      }
     },
     "39fbae5083654b0faee96ba06c49d2a7": {
      "model_module": "@jupyter-widgets/controls",
      "model_module_version": "1.5.0",
      "model_name": "HBoxModel",
      "state": {
       "_dom_classes": [],
       "_model_module": "@jupyter-widgets/controls",
       "_model_module_version": "1.5.0",
       "_model_name": "HBoxModel",
       "_view_count": null,
       "_view_module": "@jupyter-widgets/controls",
       "_view_module_version": "1.5.0",
       "_view_name": "HBoxView",
       "box_style": "",
       "children": [
        "IPY_MODEL_0ca760059e774a5ebd25f3c776f07c87",
        "IPY_MODEL_0030344faefb4dc3a56f603c2be69a1e",
        "IPY_MODEL_cc9a2305d7b2411aaa34a7f3f3ecc6d9"
       ],
       "layout": "IPY_MODEL_d1d53f7ee5384148b3b58c06c88c2f31"
      }
     },
     "3acbfc4d5967442491036c58a7c11213": {
      "model_module": "@jupyter-widgets/controls",
      "model_module_version": "1.5.0",
      "model_name": "HTMLModel",
      "state": {
       "_dom_classes": [],
       "_model_module": "@jupyter-widgets/controls",
       "_model_module_version": "1.5.0",
       "_model_name": "HTMLModel",
       "_view_count": null,
       "_view_module": "@jupyter-widgets/controls",
       "_view_module_version": "1.5.0",
       "_view_name": "HTMLView",
       "description": "",
       "description_tooltip": null,
       "layout": "IPY_MODEL_890e346637f5440ab6dfb6c2076cba06",
       "placeholder": "​",
       "style": "IPY_MODEL_d1a9408afecd4fc2879ee15b753c364b",
       "value": "Downloading pytorch_model.bin: 100%"
      }
     },
     "3d0d3455a05b48199077720643cf8680": {
      "model_module": "@jupyter-widgets/base",
      "model_module_version": "1.2.0",
      "model_name": "LayoutModel",
      "state": {
       "_model_module": "@jupyter-widgets/base",
       "_model_module_version": "1.2.0",
       "_model_name": "LayoutModel",
       "_view_count": null,
       "_view_module": "@jupyter-widgets/base",
       "_view_module_version": "1.2.0",
       "_view_name": "LayoutView",
       "align_content": null,
       "align_items": null,
       "align_self": null,
       "border": null,
       "bottom": null,
       "display": null,
       "flex": null,
       "flex_flow": null,
       "grid_area": null,
       "grid_auto_columns": null,
       "grid_auto_flow": null,
       "grid_auto_rows": null,
       "grid_column": null,
       "grid_gap": null,
       "grid_row": null,
       "grid_template_areas": null,
       "grid_template_columns": null,
       "grid_template_rows": null,
       "height": null,
       "justify_content": null,
       "justify_items": null,
       "left": null,
       "margin": null,
       "max_height": null,
       "max_width": null,
       "min_height": null,
       "min_width": null,
       "object_fit": null,
       "object_position": null,
       "order": null,
       "overflow": null,
       "overflow_x": null,
       "overflow_y": null,
       "padding": null,
       "right": null,
       "top": null,
       "visibility": null,
       "width": null
      }
     },
     "3d9b4d26d4994fe4be82847d1697af6f": {
      "model_module": "@jupyter-widgets/base",
      "model_module_version": "1.2.0",
      "model_name": "LayoutModel",
      "state": {
       "_model_module": "@jupyter-widgets/base",
       "_model_module_version": "1.2.0",
       "_model_name": "LayoutModel",
       "_view_count": null,
       "_view_module": "@jupyter-widgets/base",
       "_view_module_version": "1.2.0",
       "_view_name": "LayoutView",
       "align_content": null,
       "align_items": null,
       "align_self": null,
       "border": null,
       "bottom": null,
       "display": null,
       "flex": null,
       "flex_flow": null,
       "grid_area": null,
       "grid_auto_columns": null,
       "grid_auto_flow": null,
       "grid_auto_rows": null,
       "grid_column": null,
       "grid_gap": null,
       "grid_row": null,
       "grid_template_areas": null,
       "grid_template_columns": null,
       "grid_template_rows": null,
       "height": null,
       "justify_content": null,
       "justify_items": null,
       "left": null,
       "margin": null,
       "max_height": null,
       "max_width": null,
       "min_height": null,
       "min_width": null,
       "object_fit": null,
       "object_position": null,
       "order": null,
       "overflow": null,
       "overflow_x": null,
       "overflow_y": null,
       "padding": null,
       "right": null,
       "top": null,
       "visibility": null,
       "width": null
      }
     },
     "40c5019f87dd4fd3a4c8a02c837ac27c": {
      "model_module": "@jupyter-widgets/base",
      "model_module_version": "1.2.0",
      "model_name": "LayoutModel",
      "state": {
       "_model_module": "@jupyter-widgets/base",
       "_model_module_version": "1.2.0",
       "_model_name": "LayoutModel",
       "_view_count": null,
       "_view_module": "@jupyter-widgets/base",
       "_view_module_version": "1.2.0",
       "_view_name": "LayoutView",
       "align_content": null,
       "align_items": null,
       "align_self": null,
       "border": null,
       "bottom": null,
       "display": null,
       "flex": null,
       "flex_flow": null,
       "grid_area": null,
       "grid_auto_columns": null,
       "grid_auto_flow": null,
       "grid_auto_rows": null,
       "grid_column": null,
       "grid_gap": null,
       "grid_row": null,
       "grid_template_areas": null,
       "grid_template_columns": null,
       "grid_template_rows": null,
       "height": null,
       "justify_content": null,
       "justify_items": null,
       "left": null,
       "margin": null,
       "max_height": null,
       "max_width": null,
       "min_height": null,
       "min_width": null,
       "object_fit": null,
       "object_position": null,
       "order": null,
       "overflow": null,
       "overflow_x": null,
       "overflow_y": null,
       "padding": null,
       "right": null,
       "top": null,
       "visibility": null,
       "width": null
      }
     },
     "4107d345a6e14d4492da5e537e3be86a": {
      "model_module": "@jupyter-widgets/base",
      "model_module_version": "1.2.0",
      "model_name": "LayoutModel",
      "state": {
       "_model_module": "@jupyter-widgets/base",
       "_model_module_version": "1.2.0",
       "_model_name": "LayoutModel",
       "_view_count": null,
       "_view_module": "@jupyter-widgets/base",
       "_view_module_version": "1.2.0",
       "_view_name": "LayoutView",
       "align_content": null,
       "align_items": null,
       "align_self": null,
       "border": null,
       "bottom": null,
       "display": null,
       "flex": null,
       "flex_flow": null,
       "grid_area": null,
       "grid_auto_columns": null,
       "grid_auto_flow": null,
       "grid_auto_rows": null,
       "grid_column": null,
       "grid_gap": null,
       "grid_row": null,
       "grid_template_areas": null,
       "grid_template_columns": null,
       "grid_template_rows": null,
       "height": null,
       "justify_content": null,
       "justify_items": null,
       "left": null,
       "margin": null,
       "max_height": null,
       "max_width": null,
       "min_height": null,
       "min_width": null,
       "object_fit": null,
       "object_position": null,
       "order": null,
       "overflow": null,
       "overflow_x": null,
       "overflow_y": null,
       "padding": null,
       "right": null,
       "top": null,
       "visibility": null,
       "width": null
      }
     },
     "41dce2094e9642f2837d0b07bd241d37": {
      "model_module": "@jupyter-widgets/base",
      "model_module_version": "1.2.0",
      "model_name": "LayoutModel",
      "state": {
       "_model_module": "@jupyter-widgets/base",
       "_model_module_version": "1.2.0",
       "_model_name": "LayoutModel",
       "_view_count": null,
       "_view_module": "@jupyter-widgets/base",
       "_view_module_version": "1.2.0",
       "_view_name": "LayoutView",
       "align_content": null,
       "align_items": null,
       "align_self": null,
       "border": null,
       "bottom": null,
       "display": null,
       "flex": null,
       "flex_flow": null,
       "grid_area": null,
       "grid_auto_columns": null,
       "grid_auto_flow": null,
       "grid_auto_rows": null,
       "grid_column": null,
       "grid_gap": null,
       "grid_row": null,
       "grid_template_areas": null,
       "grid_template_columns": null,
       "grid_template_rows": null,
       "height": null,
       "justify_content": null,
       "justify_items": null,
       "left": null,
       "margin": null,
       "max_height": null,
       "max_width": null,
       "min_height": null,
       "min_width": null,
       "object_fit": null,
       "object_position": null,
       "order": null,
       "overflow": null,
       "overflow_x": null,
       "overflow_y": null,
       "padding": null,
       "right": null,
       "top": null,
       "visibility": null,
       "width": null
      }
     },
     "45770ae3982742b38b2b30e3557100d7": {
      "model_module": "@jupyter-widgets/controls",
      "model_module_version": "1.5.0",
      "model_name": "ProgressStyleModel",
      "state": {
       "_model_module": "@jupyter-widgets/controls",
       "_model_module_version": "1.5.0",
       "_model_name": "ProgressStyleModel",
       "_view_count": null,
       "_view_module": "@jupyter-widgets/base",
       "_view_module_version": "1.2.0",
       "_view_name": "StyleView",
       "bar_color": null,
       "description_width": ""
      }
     },
     "471cba857d7c43f8846dc62a1843a411": {
      "model_module": "@jupyter-widgets/controls",
      "model_module_version": "1.5.0",
      "model_name": "HTMLModel",
      "state": {
       "_dom_classes": [],
       "_model_module": "@jupyter-widgets/controls",
       "_model_module_version": "1.5.0",
       "_model_name": "HTMLModel",
       "_view_count": null,
       "_view_module": "@jupyter-widgets/controls",
       "_view_module_version": "1.5.0",
       "_view_name": "HTMLView",
       "description": "",
       "description_tooltip": null,
       "layout": "IPY_MODEL_85e0be28a5c44e73a77b02da89b90139",
       "placeholder": "​",
       "style": "IPY_MODEL_361b85a38ecb4a57bb7c9eccb0fdd59a",
       "value": "Downloading (…)olve/main/merges.txt: 100%"
      }
     },
     "4c2fd0a9993f4976bbe3ab319bbc3cad": {
      "model_module": "@jupyter-widgets/controls",
      "model_module_version": "1.5.0",
      "model_name": "FloatProgressModel",
      "state": {
       "_dom_classes": [],
       "_model_module": "@jupyter-widgets/controls",
       "_model_module_version": "1.5.0",
       "_model_name": "FloatProgressModel",
       "_view_count": null,
       "_view_module": "@jupyter-widgets/controls",
       "_view_module_version": "1.5.0",
       "_view_name": "ProgressView",
       "bar_style": "success",
       "description": "",
       "description_tooltip": null,
       "layout": "IPY_MODEL_cc378f7d18d54b6eb87c42f6a2d9818e",
       "max": 898822,
       "min": 0,
       "orientation": "horizontal",
       "style": "IPY_MODEL_e0d301880d034fe1a0edff1e978d28d2",
       "value": 898822
      }
     },
     "4db3f79ed25e4ad9ac14bcbe1ef04300": {
      "model_module": "@jupyter-widgets/controls",
      "model_module_version": "1.5.0",
      "model_name": "HTMLModel",
      "state": {
       "_dom_classes": [],
       "_model_module": "@jupyter-widgets/controls",
       "_model_module_version": "1.5.0",
       "_model_name": "HTMLModel",
       "_view_count": null,
       "_view_module": "@jupyter-widgets/controls",
       "_view_module_version": "1.5.0",
       "_view_name": "HTMLView",
       "description": "",
       "description_tooltip": null,
       "layout": "IPY_MODEL_3d0d3455a05b48199077720643cf8680",
       "placeholder": "​",
       "style": "IPY_MODEL_6563704c49144e6082c640f994318ac2",
       "value": " 5.59k/? [00:00&lt;00:00, 350kB/s]"
      }
     },
     "4ee51812fe0d4eebaa47c860f2a1e671": {
      "model_module": "@jupyter-widgets/controls",
      "model_module_version": "1.5.0",
      "model_name": "DescriptionStyleModel",
      "state": {
       "_model_module": "@jupyter-widgets/controls",
       "_model_module_version": "1.5.0",
       "_model_name": "DescriptionStyleModel",
       "_view_count": null,
       "_view_module": "@jupyter-widgets/base",
       "_view_module_version": "1.2.0",
       "_view_name": "StyleView",
       "description_width": ""
      }
     },
     "5419ba33b3424fa7aedc9ea82d9ad2f3": {
      "model_module": "@jupyter-widgets/base",
      "model_module_version": "1.2.0",
      "model_name": "LayoutModel",
      "state": {
       "_model_module": "@jupyter-widgets/base",
       "_model_module_version": "1.2.0",
       "_model_name": "LayoutModel",
       "_view_count": null,
       "_view_module": "@jupyter-widgets/base",
       "_view_module_version": "1.2.0",
       "_view_name": "LayoutView",
       "align_content": null,
       "align_items": null,
       "align_self": null,
       "border": null,
       "bottom": null,
       "display": null,
       "flex": null,
       "flex_flow": null,
       "grid_area": null,
       "grid_auto_columns": null,
       "grid_auto_flow": null,
       "grid_auto_rows": null,
       "grid_column": null,
       "grid_gap": null,
       "grid_row": null,
       "grid_template_areas": null,
       "grid_template_columns": null,
       "grid_template_rows": null,
       "height": null,
       "justify_content": null,
       "justify_items": null,
       "left": null,
       "margin": null,
       "max_height": null,
       "max_width": null,
       "min_height": null,
       "min_width": null,
       "object_fit": null,
       "object_position": null,
       "order": null,
       "overflow": null,
       "overflow_x": null,
       "overflow_y": null,
       "padding": null,
       "right": null,
       "top": null,
       "visibility": null,
       "width": null
      }
     },
     "546d26912c98412ca2f5483f2ffcc438": {
      "model_module": "@jupyter-widgets/controls",
      "model_module_version": "1.5.0",
      "model_name": "HTMLModel",
      "state": {
       "_dom_classes": [],
       "_model_module": "@jupyter-widgets/controls",
       "_model_module_version": "1.5.0",
       "_model_name": "HTMLModel",
       "_view_count": null,
       "_view_module": "@jupyter-widgets/controls",
       "_view_module_version": "1.5.0",
       "_view_name": "HTMLView",
       "description": "",
       "description_tooltip": null,
       "layout": "IPY_MODEL_dd1f0b685a464c0d8e79f088ca531f77",
       "placeholder": "​",
       "style": "IPY_MODEL_36b730fd038e4bd19f0e8108e272f602",
       "value": " 1.33G/1.33G [00:06&lt;00:00, 201MB/s]"
      }
     },
     "59d1fbb568ad4e12884477866c3d70fb": {
      "model_module": "@jupyter-widgets/controls",
      "model_module_version": "1.5.0",
      "model_name": "DescriptionStyleModel",
      "state": {
       "_model_module": "@jupyter-widgets/controls",
       "_model_module_version": "1.5.0",
       "_model_name": "DescriptionStyleModel",
       "_view_count": null,
       "_view_module": "@jupyter-widgets/base",
       "_view_module_version": "1.2.0",
       "_view_name": "StyleView",
       "description_width": ""
      }
     },
     "5d8b931cba054135b684204bf1db7170": {
      "model_module": "@jupyter-widgets/controls",
      "model_module_version": "1.5.0",
      "model_name": "DescriptionStyleModel",
      "state": {
       "_model_module": "@jupyter-widgets/controls",
       "_model_module_version": "1.5.0",
       "_model_name": "DescriptionStyleModel",
       "_view_count": null,
       "_view_module": "@jupyter-widgets/base",
       "_view_module_version": "1.2.0",
       "_view_name": "StyleView",
       "description_width": ""
      }
     },
     "5f2736c10e614eecbb319f908fbb7f06": {
      "model_module": "@jupyter-widgets/controls",
      "model_module_version": "1.5.0",
      "model_name": "ProgressStyleModel",
      "state": {
       "_model_module": "@jupyter-widgets/controls",
       "_model_module_version": "1.5.0",
       "_model_name": "ProgressStyleModel",
       "_view_count": null,
       "_view_module": "@jupyter-widgets/base",
       "_view_module_version": "1.2.0",
       "_view_name": "StyleView",
       "bar_color": null,
       "description_width": ""
      }
     },
     "6563704c49144e6082c640f994318ac2": {
      "model_module": "@jupyter-widgets/controls",
      "model_module_version": "1.5.0",
      "model_name": "DescriptionStyleModel",
      "state": {
       "_model_module": "@jupyter-widgets/controls",
       "_model_module_version": "1.5.0",
       "_model_name": "DescriptionStyleModel",
       "_view_count": null,
       "_view_module": "@jupyter-widgets/base",
       "_view_module_version": "1.2.0",
       "_view_name": "StyleView",
       "description_width": ""
      }
     },
     "65a2b55082f44beba4af489b11f922a2": {
      "model_module": "@jupyter-widgets/controls",
      "model_module_version": "1.5.0",
      "model_name": "HBoxModel",
      "state": {
       "_dom_classes": [],
       "_model_module": "@jupyter-widgets/controls",
       "_model_module_version": "1.5.0",
       "_model_name": "HBoxModel",
       "_view_count": null,
       "_view_module": "@jupyter-widgets/controls",
       "_view_module_version": "1.5.0",
       "_view_name": "HBoxView",
       "box_style": "",
       "children": [
        "IPY_MODEL_471cba857d7c43f8846dc62a1843a411",
        "IPY_MODEL_d227c16705a64a2fa801d670696a84fd",
        "IPY_MODEL_8a832e1e674a40a0892f66a38d8c1518"
       ],
       "layout": "IPY_MODEL_5419ba33b3424fa7aedc9ea82d9ad2f3"
      }
     },
     "66fc307d3890461491d1f824e384561d": {
      "model_module": "@jupyter-widgets/controls",
      "model_module_version": "1.5.0",
      "model_name": "ProgressStyleModel",
      "state": {
       "_model_module": "@jupyter-widgets/controls",
       "_model_module_version": "1.5.0",
       "_model_name": "ProgressStyleModel",
       "_view_count": null,
       "_view_module": "@jupyter-widgets/base",
       "_view_module_version": "1.2.0",
       "_view_name": "StyleView",
       "bar_color": null,
       "description_width": ""
      }
     },
     "68af2549e74c4793a7f7f95e385008af": {
      "model_module": "@jupyter-widgets/base",
      "model_module_version": "1.2.0",
      "model_name": "LayoutModel",
      "state": {
       "_model_module": "@jupyter-widgets/base",
       "_model_module_version": "1.2.0",
       "_model_name": "LayoutModel",
       "_view_count": null,
       "_view_module": "@jupyter-widgets/base",
       "_view_module_version": "1.2.0",
       "_view_name": "LayoutView",
       "align_content": null,
       "align_items": null,
       "align_self": null,
       "border": null,
       "bottom": null,
       "display": null,
       "flex": null,
       "flex_flow": null,
       "grid_area": null,
       "grid_auto_columns": null,
       "grid_auto_flow": null,
       "grid_auto_rows": null,
       "grid_column": null,
       "grid_gap": null,
       "grid_row": null,
       "grid_template_areas": null,
       "grid_template_columns": null,
       "grid_template_rows": null,
       "height": null,
       "justify_content": null,
       "justify_items": null,
       "left": null,
       "margin": null,
       "max_height": null,
       "max_width": null,
       "min_height": null,
       "min_width": null,
       "object_fit": null,
       "object_position": null,
       "order": null,
       "overflow": null,
       "overflow_x": null,
       "overflow_y": null,
       "padding": null,
       "right": null,
       "top": null,
       "visibility": null,
       "width": null
      }
     },
     "6a1086a31ce84bd89d4b44a8321ed8bd": {
      "model_module": "@jupyter-widgets/base",
      "model_module_version": "1.2.0",
      "model_name": "LayoutModel",
      "state": {
       "_model_module": "@jupyter-widgets/base",
       "_model_module_version": "1.2.0",
       "_model_name": "LayoutModel",
       "_view_count": null,
       "_view_module": "@jupyter-widgets/base",
       "_view_module_version": "1.2.0",
       "_view_name": "LayoutView",
       "align_content": null,
       "align_items": null,
       "align_self": null,
       "border": null,
       "bottom": null,
       "display": null,
       "flex": null,
       "flex_flow": null,
       "grid_area": null,
       "grid_auto_columns": null,
       "grid_auto_flow": null,
       "grid_auto_rows": null,
       "grid_column": null,
       "grid_gap": null,
       "grid_row": null,
       "grid_template_areas": null,
       "grid_template_columns": null,
       "grid_template_rows": null,
       "height": null,
       "justify_content": null,
       "justify_items": null,
       "left": null,
       "margin": null,
       "max_height": null,
       "max_width": null,
       "min_height": null,
       "min_width": null,
       "object_fit": null,
       "object_position": null,
       "order": null,
       "overflow": null,
       "overflow_x": null,
       "overflow_y": null,
       "padding": null,
       "right": null,
       "top": null,
       "visibility": null,
       "width": null
      }
     },
     "6a474bddd25846eca79178b04b044aee": {
      "model_module": "@jupyter-widgets/controls",
      "model_module_version": "1.5.0",
      "model_name": "ProgressStyleModel",
      "state": {
       "_model_module": "@jupyter-widgets/controls",
       "_model_module_version": "1.5.0",
       "_model_name": "ProgressStyleModel",
       "_view_count": null,
       "_view_module": "@jupyter-widgets/base",
       "_view_module_version": "1.2.0",
       "_view_name": "StyleView",
       "bar_color": null,
       "description_width": ""
      }
     },
     "6b35080a9d904597b0714538f72df998": {
      "model_module": "@jupyter-widgets/controls",
      "model_module_version": "1.5.0",
      "model_name": "HTMLModel",
      "state": {
       "_dom_classes": [],
       "_model_module": "@jupyter-widgets/controls",
       "_model_module_version": "1.5.0",
       "_model_name": "HTMLModel",
       "_view_count": null,
       "_view_module": "@jupyter-widgets/controls",
       "_view_module_version": "1.5.0",
       "_view_name": "HTMLView",
       "description": "",
       "description_tooltip": null,
       "layout": "IPY_MODEL_df0c9805b760426a9be0adbe55376067",
       "placeholder": "​",
       "style": "IPY_MODEL_e8242c585043422e98f556c4d65a3b12",
       "value": " 772/772 [00:00&lt;00:00, 45.1kB/s]"
      }
     },
     "6c464a2da35a46549c2ca1c85cc63c29": {
      "model_module": "@jupyter-widgets/base",
      "model_module_version": "1.2.0",
      "model_name": "LayoutModel",
      "state": {
       "_model_module": "@jupyter-widgets/base",
       "_model_module_version": "1.2.0",
       "_model_name": "LayoutModel",
       "_view_count": null,
       "_view_module": "@jupyter-widgets/base",
       "_view_module_version": "1.2.0",
       "_view_name": "LayoutView",
       "align_content": null,
       "align_items": null,
       "align_self": null,
       "border": null,
       "bottom": null,
       "display": null,
       "flex": null,
       "flex_flow": null,
       "grid_area": null,
       "grid_auto_columns": null,
       "grid_auto_flow": null,
       "grid_auto_rows": null,
       "grid_column": null,
       "grid_gap": null,
       "grid_row": null,
       "grid_template_areas": null,
       "grid_template_columns": null,
       "grid_template_rows": null,
       "height": null,
       "justify_content": null,
       "justify_items": null,
       "left": null,
       "margin": null,
       "max_height": null,
       "max_width": null,
       "min_height": null,
       "min_width": null,
       "object_fit": null,
       "object_position": null,
       "order": null,
       "overflow": null,
       "overflow_x": null,
       "overflow_y": null,
       "padding": null,
       "right": null,
       "top": null,
       "visibility": null,
       "width": null
      }
     },
     "7447883e472b4694ac71de3b689ad59a": {
      "model_module": "@jupyter-widgets/controls",
      "model_module_version": "1.5.0",
      "model_name": "HBoxModel",
      "state": {
       "_dom_classes": [],
       "_model_module": "@jupyter-widgets/controls",
       "_model_module_version": "1.5.0",
       "_model_name": "HBoxModel",
       "_view_count": null,
       "_view_module": "@jupyter-widgets/controls",
       "_view_module_version": "1.5.0",
       "_view_name": "HBoxView",
       "box_style": "",
       "children": [
        "IPY_MODEL_74a0fd5e6ca842038d98f939bf326637",
        "IPY_MODEL_a2b409ce5f1e48a38f79da45af24e380",
        "IPY_MODEL_6b35080a9d904597b0714538f72df998"
       ],
       "layout": "IPY_MODEL_841211e03e9942e3967e44c9b42a329e"
      }
     },
     "74a0fd5e6ca842038d98f939bf326637": {
      "model_module": "@jupyter-widgets/controls",
      "model_module_version": "1.5.0",
      "model_name": "HTMLModel",
      "state": {
       "_dom_classes": [],
       "_model_module": "@jupyter-widgets/controls",
       "_model_module_version": "1.5.0",
       "_model_name": "HTMLModel",
       "_view_count": null,
       "_view_module": "@jupyter-widgets/controls",
       "_view_module_version": "1.5.0",
       "_view_name": "HTMLView",
       "description": "",
       "description_tooltip": null,
       "layout": "IPY_MODEL_4107d345a6e14d4492da5e537e3be86a",
       "placeholder": "​",
       "style": "IPY_MODEL_d640c264f4ab4702abc894360464be2d",
       "value": "Downloading (…)cial_tokens_map.json: 100%"
      }
     },
     "751a9c4e693348afbb13cc75f4c42c5c": {
      "model_module": "@jupyter-widgets/base",
      "model_module_version": "1.2.0",
      "model_name": "LayoutModel",
      "state": {
       "_model_module": "@jupyter-widgets/base",
       "_model_module_version": "1.2.0",
       "_model_name": "LayoutModel",
       "_view_count": null,
       "_view_module": "@jupyter-widgets/base",
       "_view_module_version": "1.2.0",
       "_view_name": "LayoutView",
       "align_content": null,
       "align_items": null,
       "align_self": null,
       "border": null,
       "bottom": null,
       "display": null,
       "flex": null,
       "flex_flow": null,
       "grid_area": null,
       "grid_auto_columns": null,
       "grid_auto_flow": null,
       "grid_auto_rows": null,
       "grid_column": null,
       "grid_gap": null,
       "grid_row": null,
       "grid_template_areas": null,
       "grid_template_columns": null,
       "grid_template_rows": null,
       "height": null,
       "justify_content": null,
       "justify_items": null,
       "left": null,
       "margin": null,
       "max_height": null,
       "max_width": null,
       "min_height": null,
       "min_width": null,
       "object_fit": null,
       "object_position": null,
       "order": null,
       "overflow": null,
       "overflow_x": null,
       "overflow_y": null,
       "padding": null,
       "right": null,
       "top": null,
       "visibility": null,
       "width": null
      }
     },
     "76f11482adfb43e8924b8f88e2efab0c": {
      "model_module": "@jupyter-widgets/controls",
      "model_module_version": "1.5.0",
      "model_name": "HTMLModel",
      "state": {
       "_dom_classes": [],
       "_model_module": "@jupyter-widgets/controls",
       "_model_module_version": "1.5.0",
       "_model_name": "HTMLModel",
       "_view_count": null,
       "_view_module": "@jupyter-widgets/controls",
       "_view_module_version": "1.5.0",
       "_view_name": "HTMLView",
       "description": "",
       "description_tooltip": null,
       "layout": "IPY_MODEL_e4ec42210dda49b699c5e6f88824d7d5",
       "placeholder": "​",
       "style": "IPY_MODEL_9e7830706cc14589a69f60569666daa2",
       "value": "Downloading (…)olve/main/vocab.json: 100%"
      }
     },
     "7fee614638204889b0463adaa1c99399": {
      "model_module": "@jupyter-widgets/controls",
      "model_module_version": "1.5.0",
      "model_name": "FloatProgressModel",
      "state": {
       "_dom_classes": [],
       "_model_module": "@jupyter-widgets/controls",
       "_model_module_version": "1.5.0",
       "_model_name": "FloatProgressModel",
       "_view_count": null,
       "_view_module": "@jupyter-widgets/controls",
       "_view_module_version": "1.5.0",
       "_view_name": "ProgressView",
       "bar_style": "success",
       "description": "",
       "description_tooltip": null,
       "layout": "IPY_MODEL_6c464a2da35a46549c2ca1c85cc63c29",
       "max": 1118,
       "min": 0,
       "orientation": "horizontal",
       "style": "IPY_MODEL_5f2736c10e614eecbb319f908fbb7f06",
       "value": 1118
      }
     },
     "809873803ff24d999c1684a7d44fb68b": {
      "model_module": "@jupyter-widgets/controls",
      "model_module_version": "1.5.0",
      "model_name": "DescriptionStyleModel",
      "state": {
       "_model_module": "@jupyter-widgets/controls",
       "_model_module_version": "1.5.0",
       "_model_name": "DescriptionStyleModel",
       "_view_count": null,
       "_view_module": "@jupyter-widgets/base",
       "_view_module_version": "1.2.0",
       "_view_name": "StyleView",
       "description_width": ""
      }
     },
     "80a35379c6e34d9f9d493313859a338e": {
      "model_module": "@jupyter-widgets/controls",
      "model_module_version": "1.5.0",
      "model_name": "HBoxModel",
      "state": {
       "_dom_classes": [],
       "_model_module": "@jupyter-widgets/controls",
       "_model_module_version": "1.5.0",
       "_model_name": "HBoxModel",
       "_view_count": null,
       "_view_module": "@jupyter-widgets/controls",
       "_view_module_version": "1.5.0",
       "_view_name": "HBoxView",
       "box_style": "",
       "children": [
        "IPY_MODEL_364d872a8dbf4655a990fcb8c9b39406",
        "IPY_MODEL_7fee614638204889b0463adaa1c99399",
        "IPY_MODEL_da6a3c388e27487d866e0efdd4eb7c85"
       ],
       "layout": "IPY_MODEL_dfec41485199431094a3b53339a90503"
      }
     },
     "828bfae145d74deaa9ff09045515010e": {
      "model_module": "@jupyter-widgets/base",
      "model_module_version": "1.2.0",
      "model_name": "LayoutModel",
      "state": {
       "_model_module": "@jupyter-widgets/base",
       "_model_module_version": "1.2.0",
       "_model_name": "LayoutModel",
       "_view_count": null,
       "_view_module": "@jupyter-widgets/base",
       "_view_module_version": "1.2.0",
       "_view_name": "LayoutView",
       "align_content": null,
       "align_items": null,
       "align_self": null,
       "border": null,
       "bottom": null,
       "display": null,
       "flex": null,
       "flex_flow": null,
       "grid_area": null,
       "grid_auto_columns": null,
       "grid_auto_flow": null,
       "grid_auto_rows": null,
       "grid_column": null,
       "grid_gap": null,
       "grid_row": null,
       "grid_template_areas": null,
       "grid_template_columns": null,
       "grid_template_rows": null,
       "height": null,
       "justify_content": null,
       "justify_items": null,
       "left": null,
       "margin": null,
       "max_height": null,
       "max_width": null,
       "min_height": null,
       "min_width": null,
       "object_fit": null,
       "object_position": null,
       "order": null,
       "overflow": null,
       "overflow_x": null,
       "overflow_y": null,
       "padding": null,
       "right": null,
       "top": null,
       "visibility": null,
       "width": null
      }
     },
     "82f4df5be53f412ea57f25ad46c4690e": {
      "model_module": "@jupyter-widgets/controls",
      "model_module_version": "1.5.0",
      "model_name": "HBoxModel",
      "state": {
       "_dom_classes": [],
       "_model_module": "@jupyter-widgets/controls",
       "_model_module_version": "1.5.0",
       "_model_name": "HBoxModel",
       "_view_count": null,
       "_view_module": "@jupyter-widgets/controls",
       "_view_module_version": "1.5.0",
       "_view_name": "HBoxView",
       "box_style": "",
       "children": [
        "IPY_MODEL_ba78a0719fa84fcaaba23945d6053189",
        "IPY_MODEL_3335e9eb28a84d59bbce29c3f57364d7",
        "IPY_MODEL_2c8d12f59d174e11969b67a8b384a532"
       ],
       "layout": "IPY_MODEL_07f0a6296e614509aaee17e6d3b3d987"
      }
     },
     "841211e03e9942e3967e44c9b42a329e": {
      "model_module": "@jupyter-widgets/base",
      "model_module_version": "1.2.0",
      "model_name": "LayoutModel",
      "state": {
       "_model_module": "@jupyter-widgets/base",
       "_model_module_version": "1.2.0",
       "_model_name": "LayoutModel",
       "_view_count": null,
       "_view_module": "@jupyter-widgets/base",
       "_view_module_version": "1.2.0",
       "_view_name": "LayoutView",
       "align_content": null,
       "align_items": null,
       "align_self": null,
       "border": null,
       "bottom": null,
       "display": null,
       "flex": null,
       "flex_flow": null,
       "grid_area": null,
       "grid_auto_columns": null,
       "grid_auto_flow": null,
       "grid_auto_rows": null,
       "grid_column": null,
       "grid_gap": null,
       "grid_row": null,
       "grid_template_areas": null,
       "grid_template_columns": null,
       "grid_template_rows": null,
       "height": null,
       "justify_content": null,
       "justify_items": null,
       "left": null,
       "margin": null,
       "max_height": null,
       "max_width": null,
       "min_height": null,
       "min_width": null,
       "object_fit": null,
       "object_position": null,
       "order": null,
       "overflow": null,
       "overflow_x": null,
       "overflow_y": null,
       "padding": null,
       "right": null,
       "top": null,
       "visibility": null,
       "width": null
      }
     },
     "85e0be28a5c44e73a77b02da89b90139": {
      "model_module": "@jupyter-widgets/base",
      "model_module_version": "1.2.0",
      "model_name": "LayoutModel",
      "state": {
       "_model_module": "@jupyter-widgets/base",
       "_model_module_version": "1.2.0",
       "_model_name": "LayoutModel",
       "_view_count": null,
       "_view_module": "@jupyter-widgets/base",
       "_view_module_version": "1.2.0",
       "_view_name": "LayoutView",
       "align_content": null,
       "align_items": null,
       "align_self": null,
       "border": null,
       "bottom": null,
       "display": null,
       "flex": null,
       "flex_flow": null,
       "grid_area": null,
       "grid_auto_columns": null,
       "grid_auto_flow": null,
       "grid_auto_rows": null,
       "grid_column": null,
       "grid_gap": null,
       "grid_row": null,
       "grid_template_areas": null,
       "grid_template_columns": null,
       "grid_template_rows": null,
       "height": null,
       "justify_content": null,
       "justify_items": null,
       "left": null,
       "margin": null,
       "max_height": null,
       "max_width": null,
       "min_height": null,
       "min_width": null,
       "object_fit": null,
       "object_position": null,
       "order": null,
       "overflow": null,
       "overflow_x": null,
       "overflow_y": null,
       "padding": null,
       "right": null,
       "top": null,
       "visibility": null,
       "width": null
      }
     },
     "890e346637f5440ab6dfb6c2076cba06": {
      "model_module": "@jupyter-widgets/base",
      "model_module_version": "1.2.0",
      "model_name": "LayoutModel",
      "state": {
       "_model_module": "@jupyter-widgets/base",
       "_model_module_version": "1.2.0",
       "_model_name": "LayoutModel",
       "_view_count": null,
       "_view_module": "@jupyter-widgets/base",
       "_view_module_version": "1.2.0",
       "_view_name": "LayoutView",
       "align_content": null,
       "align_items": null,
       "align_self": null,
       "border": null,
       "bottom": null,
       "display": null,
       "flex": null,
       "flex_flow": null,
       "grid_area": null,
       "grid_auto_columns": null,
       "grid_auto_flow": null,
       "grid_auto_rows": null,
       "grid_column": null,
       "grid_gap": null,
       "grid_row": null,
       "grid_template_areas": null,
       "grid_template_columns": null,
       "grid_template_rows": null,
       "height": null,
       "justify_content": null,
       "justify_items": null,
       "left": null,
       "margin": null,
       "max_height": null,
       "max_width": null,
       "min_height": null,
       "min_width": null,
       "object_fit": null,
       "object_position": null,
       "order": null,
       "overflow": null,
       "overflow_x": null,
       "overflow_y": null,
       "padding": null,
       "right": null,
       "top": null,
       "visibility": null,
       "width": null
      }
     },
     "8a4f0422a7684980a16951df72c208c9": {
      "model_module": "@jupyter-widgets/base",
      "model_module_version": "1.2.0",
      "model_name": "LayoutModel",
      "state": {
       "_model_module": "@jupyter-widgets/base",
       "_model_module_version": "1.2.0",
       "_model_name": "LayoutModel",
       "_view_count": null,
       "_view_module": "@jupyter-widgets/base",
       "_view_module_version": "1.2.0",
       "_view_name": "LayoutView",
       "align_content": null,
       "align_items": null,
       "align_self": null,
       "border": null,
       "bottom": null,
       "display": null,
       "flex": null,
       "flex_flow": null,
       "grid_area": null,
       "grid_auto_columns": null,
       "grid_auto_flow": null,
       "grid_auto_rows": null,
       "grid_column": null,
       "grid_gap": null,
       "grid_row": null,
       "grid_template_areas": null,
       "grid_template_columns": null,
       "grid_template_rows": null,
       "height": null,
       "justify_content": null,
       "justify_items": null,
       "left": null,
       "margin": null,
       "max_height": null,
       "max_width": null,
       "min_height": null,
       "min_width": null,
       "object_fit": null,
       "object_position": null,
       "order": null,
       "overflow": null,
       "overflow_x": null,
       "overflow_y": null,
       "padding": null,
       "right": null,
       "top": null,
       "visibility": null,
       "width": null
      }
     },
     "8a832e1e674a40a0892f66a38d8c1518": {
      "model_module": "@jupyter-widgets/controls",
      "model_module_version": "1.5.0",
      "model_name": "HTMLModel",
      "state": {
       "_dom_classes": [],
       "_model_module": "@jupyter-widgets/controls",
       "_model_module_version": "1.5.0",
       "_model_name": "HTMLModel",
       "_view_count": null,
       "_view_module": "@jupyter-widgets/controls",
       "_view_module_version": "1.5.0",
       "_view_name": "HTMLView",
       "description": "",
       "description_tooltip": null,
       "layout": "IPY_MODEL_3d9b4d26d4994fe4be82847d1697af6f",
       "placeholder": "​",
       "style": "IPY_MODEL_5d8b931cba054135b684204bf1db7170",
       "value": " 456k/456k [00:00&lt;00:00, 30.0MB/s]"
      }
     },
     "8be8ea30952f47c4a385ef127ece4a3d": {
      "model_module": "@jupyter-widgets/controls",
      "model_module_version": "1.5.0",
      "model_name": "DescriptionStyleModel",
      "state": {
       "_model_module": "@jupyter-widgets/controls",
       "_model_module_version": "1.5.0",
       "_model_name": "DescriptionStyleModel",
       "_view_count": null,
       "_view_module": "@jupyter-widgets/base",
       "_view_module_version": "1.2.0",
       "_view_name": "StyleView",
       "description_width": ""
      }
     },
     "959a7a55143e41a19cf3c9f964d604fb": {
      "model_module": "@jupyter-widgets/controls",
      "model_module_version": "1.5.0",
      "model_name": "ProgressStyleModel",
      "state": {
       "_model_module": "@jupyter-widgets/controls",
       "_model_module_version": "1.5.0",
       "_model_name": "ProgressStyleModel",
       "_view_count": null,
       "_view_module": "@jupyter-widgets/base",
       "_view_module_version": "1.2.0",
       "_view_name": "StyleView",
       "bar_color": null,
       "description_width": ""
      }
     },
     "977fc9f1875448698af6b4d217ef2ac6": {
      "model_module": "@jupyter-widgets/controls",
      "model_module_version": "1.5.0",
      "model_name": "HTMLModel",
      "state": {
       "_dom_classes": [],
       "_model_module": "@jupyter-widgets/controls",
       "_model_module_version": "1.5.0",
       "_model_name": "HTMLModel",
       "_view_count": null,
       "_view_module": "@jupyter-widgets/controls",
       "_view_module_version": "1.5.0",
       "_view_name": "HTMLView",
       "description": "",
       "description_tooltip": null,
       "layout": "IPY_MODEL_41dce2094e9642f2837d0b07bd241d37",
       "placeholder": "​",
       "style": "IPY_MODEL_9b7e44bfb6934c1dafd37038e16b4d2a",
       "value": "Downloading (…)neration_config.json: 100%"
      }
     },
     "983d15edcaec4211b506a52b71d59a61": {
      "model_module": "@jupyter-widgets/base",
      "model_module_version": "1.2.0",
      "model_name": "LayoutModel",
      "state": {
       "_model_module": "@jupyter-widgets/base",
       "_model_module_version": "1.2.0",
       "_model_name": "LayoutModel",
       "_view_count": null,
       "_view_module": "@jupyter-widgets/base",
       "_view_module_version": "1.2.0",
       "_view_name": "LayoutView",
       "align_content": null,
       "align_items": null,
       "align_self": null,
       "border": null,
       "bottom": null,
       "display": null,
       "flex": null,
       "flex_flow": null,
       "grid_area": null,
       "grid_auto_columns": null,
       "grid_auto_flow": null,
       "grid_auto_rows": null,
       "grid_column": null,
       "grid_gap": null,
       "grid_row": null,
       "grid_template_areas": null,
       "grid_template_columns": null,
       "grid_template_rows": null,
       "height": null,
       "justify_content": null,
       "justify_items": null,
       "left": null,
       "margin": null,
       "max_height": null,
       "max_width": null,
       "min_height": null,
       "min_width": null,
       "object_fit": null,
       "object_position": null,
       "order": null,
       "overflow": null,
       "overflow_x": null,
       "overflow_y": null,
       "padding": null,
       "right": null,
       "top": null,
       "visibility": null,
       "width": null
      }
     },
     "9a0fc00887cd47dab87707cf70b65c8e": {
      "model_module": "@jupyter-widgets/controls",
      "model_module_version": "1.5.0",
      "model_name": "HBoxModel",
      "state": {
       "_dom_classes": [],
       "_model_module": "@jupyter-widgets/controls",
       "_model_module_version": "1.5.0",
       "_model_name": "HBoxModel",
       "_view_count": null,
       "_view_module": "@jupyter-widgets/controls",
       "_view_module_version": "1.5.0",
       "_view_name": "HBoxView",
       "box_style": "",
       "children": [
        "IPY_MODEL_977fc9f1875448698af6b4d217ef2ac6",
        "IPY_MODEL_b88a1a9fcde54376ae3ca972f3b6fae5",
        "IPY_MODEL_da3d946c5c2c4ba1b7bd76ef793470a9"
       ],
       "layout": "IPY_MODEL_b99c8a8bba0e4dceb395c771ee7a8fd2"
      }
     },
     "9b7e44bfb6934c1dafd37038e16b4d2a": {
      "model_module": "@jupyter-widgets/controls",
      "model_module_version": "1.5.0",
      "model_name": "DescriptionStyleModel",
      "state": {
       "_model_module": "@jupyter-widgets/controls",
       "_model_module_version": "1.5.0",
       "_model_name": "DescriptionStyleModel",
       "_view_count": null,
       "_view_module": "@jupyter-widgets/base",
       "_view_module_version": "1.2.0",
       "_view_name": "StyleView",
       "description_width": ""
      }
     },
     "9e7830706cc14589a69f60569666daa2": {
      "model_module": "@jupyter-widgets/controls",
      "model_module_version": "1.5.0",
      "model_name": "DescriptionStyleModel",
      "state": {
       "_model_module": "@jupyter-widgets/controls",
       "_model_module_version": "1.5.0",
       "_model_name": "DescriptionStyleModel",
       "_view_count": null,
       "_view_module": "@jupyter-widgets/base",
       "_view_module_version": "1.2.0",
       "_view_name": "StyleView",
       "description_width": ""
      }
     },
     "a060263e9b28461497ab762074219ded": {
      "model_module": "@jupyter-widgets/base",
      "model_module_version": "1.2.0",
      "model_name": "LayoutModel",
      "state": {
       "_model_module": "@jupyter-widgets/base",
       "_model_module_version": "1.2.0",
       "_model_name": "LayoutModel",
       "_view_count": null,
       "_view_module": "@jupyter-widgets/base",
       "_view_module_version": "1.2.0",
       "_view_name": "LayoutView",
       "align_content": null,
       "align_items": null,
       "align_self": null,
       "border": null,
       "bottom": null,
       "display": null,
       "flex": null,
       "flex_flow": null,
       "grid_area": null,
       "grid_auto_columns": null,
       "grid_auto_flow": null,
       "grid_auto_rows": null,
       "grid_column": null,
       "grid_gap": null,
       "grid_row": null,
       "grid_template_areas": null,
       "grid_template_columns": null,
       "grid_template_rows": null,
       "height": null,
       "justify_content": null,
       "justify_items": null,
       "left": null,
       "margin": null,
       "max_height": null,
       "max_width": null,
       "min_height": null,
       "min_width": null,
       "object_fit": null,
       "object_position": null,
       "order": null,
       "overflow": null,
       "overflow_x": null,
       "overflow_y": null,
       "padding": null,
       "right": null,
       "top": null,
       "visibility": null,
       "width": null
      }
     },
     "a2b409ce5f1e48a38f79da45af24e380": {
      "model_module": "@jupyter-widgets/controls",
      "model_module_version": "1.5.0",
      "model_name": "FloatProgressModel",
      "state": {
       "_dom_classes": [],
       "_model_module": "@jupyter-widgets/controls",
       "_model_module_version": "1.5.0",
       "_model_name": "FloatProgressModel",
       "_view_count": null,
       "_view_module": "@jupyter-widgets/controls",
       "_view_module_version": "1.5.0",
       "_view_name": "ProgressView",
       "bar_style": "success",
       "description": "",
       "description_tooltip": null,
       "layout": "IPY_MODEL_095f56fc55f449569a9d5eb539ebd438",
       "max": 772,
       "min": 0,
       "orientation": "horizontal",
       "style": "IPY_MODEL_45770ae3982742b38b2b30e3557100d7",
       "value": 772
      }
     },
     "a58ac4244ccd4e2bbf1378510c3482ed": {
      "model_module": "@jupyter-widgets/base",
      "model_module_version": "1.2.0",
      "model_name": "LayoutModel",
      "state": {
       "_model_module": "@jupyter-widgets/base",
       "_model_module_version": "1.2.0",
       "_model_name": "LayoutModel",
       "_view_count": null,
       "_view_module": "@jupyter-widgets/base",
       "_view_module_version": "1.2.0",
       "_view_name": "LayoutView",
       "align_content": null,
       "align_items": null,
       "align_self": null,
       "border": null,
       "bottom": null,
       "display": null,
       "flex": null,
       "flex_flow": null,
       "grid_area": null,
       "grid_auto_columns": null,
       "grid_auto_flow": null,
       "grid_auto_rows": null,
       "grid_column": null,
       "grid_gap": null,
       "grid_row": null,
       "grid_template_areas": null,
       "grid_template_columns": null,
       "grid_template_rows": null,
       "height": null,
       "justify_content": null,
       "justify_items": null,
       "left": null,
       "margin": null,
       "max_height": null,
       "max_width": null,
       "min_height": null,
       "min_width": null,
       "object_fit": null,
       "object_position": null,
       "order": null,
       "overflow": null,
       "overflow_x": null,
       "overflow_y": null,
       "padding": null,
       "right": null,
       "top": null,
       "visibility": null,
       "width": null
      }
     },
     "aac30240589f452eb03c2cb0531cebf3": {
      "model_module": "@jupyter-widgets/base",
      "model_module_version": "1.2.0",
      "model_name": "LayoutModel",
      "state": {
       "_model_module": "@jupyter-widgets/base",
       "_model_module_version": "1.2.0",
       "_model_name": "LayoutModel",
       "_view_count": null,
       "_view_module": "@jupyter-widgets/base",
       "_view_module_version": "1.2.0",
       "_view_name": "LayoutView",
       "align_content": null,
       "align_items": null,
       "align_self": null,
       "border": null,
       "bottom": null,
       "display": null,
       "flex": null,
       "flex_flow": null,
       "grid_area": null,
       "grid_auto_columns": null,
       "grid_auto_flow": null,
       "grid_auto_rows": null,
       "grid_column": null,
       "grid_gap": null,
       "grid_row": null,
       "grid_template_areas": null,
       "grid_template_columns": null,
       "grid_template_rows": null,
       "height": null,
       "justify_content": null,
       "justify_items": null,
       "left": null,
       "margin": null,
       "max_height": null,
       "max_width": null,
       "min_height": null,
       "min_width": null,
       "object_fit": null,
       "object_position": null,
       "order": null,
       "overflow": null,
       "overflow_x": null,
       "overflow_y": null,
       "padding": null,
       "right": null,
       "top": null,
       "visibility": null,
       "width": null
      }
     },
     "b727f312240a49cc9f57cdc41e296b37": {
      "model_module": "@jupyter-widgets/controls",
      "model_module_version": "1.5.0",
      "model_name": "ProgressStyleModel",
      "state": {
       "_model_module": "@jupyter-widgets/controls",
       "_model_module_version": "1.5.0",
       "_model_name": "ProgressStyleModel",
       "_view_count": null,
       "_view_module": "@jupyter-widgets/base",
       "_view_module_version": "1.2.0",
       "_view_name": "StyleView",
       "bar_color": null,
       "description_width": ""
      }
     },
     "b88a1a9fcde54376ae3ca972f3b6fae5": {
      "model_module": "@jupyter-widgets/controls",
      "model_module_version": "1.5.0",
      "model_name": "FloatProgressModel",
      "state": {
       "_dom_classes": [],
       "_model_module": "@jupyter-widgets/controls",
       "_model_module_version": "1.5.0",
       "_model_name": "FloatProgressModel",
       "_view_count": null,
       "_view_module": "@jupyter-widgets/controls",
       "_view_module_version": "1.5.0",
       "_view_name": "ProgressView",
       "bar_style": "success",
       "description": "",
       "description_tooltip": null,
       "layout": "IPY_MODEL_2325cbb778114da0ae917bc30df14f6c",
       "max": 190,
       "min": 0,
       "orientation": "horizontal",
       "style": "IPY_MODEL_e774803e85b14218839734fb445f7335",
       "value": 190
      }
     },
     "b99c8a8bba0e4dceb395c771ee7a8fd2": {
      "model_module": "@jupyter-widgets/base",
      "model_module_version": "1.2.0",
      "model_name": "LayoutModel",
      "state": {
       "_model_module": "@jupyter-widgets/base",
       "_model_module_version": "1.2.0",
       "_model_name": "LayoutModel",
       "_view_count": null,
       "_view_module": "@jupyter-widgets/base",
       "_view_module_version": "1.2.0",
       "_view_name": "LayoutView",
       "align_content": null,
       "align_items": null,
       "align_self": null,
       "border": null,
       "bottom": null,
       "display": null,
       "flex": null,
       "flex_flow": null,
       "grid_area": null,
       "grid_auto_columns": null,
       "grid_auto_flow": null,
       "grid_auto_rows": null,
       "grid_column": null,
       "grid_gap": null,
       "grid_row": null,
       "grid_template_areas": null,
       "grid_template_columns": null,
       "grid_template_rows": null,
       "height": null,
       "justify_content": null,
       "justify_items": null,
       "left": null,
       "margin": null,
       "max_height": null,
       "max_width": null,
       "min_height": null,
       "min_width": null,
       "object_fit": null,
       "object_position": null,
       "order": null,
       "overflow": null,
       "overflow_x": null,
       "overflow_y": null,
       "padding": null,
       "right": null,
       "top": null,
       "visibility": null,
       "width": null
      }
     },
     "ba78a0719fa84fcaaba23945d6053189": {
      "model_module": "@jupyter-widgets/controls",
      "model_module_version": "1.5.0",
      "model_name": "HTMLModel",
      "state": {
       "_dom_classes": [],
       "_model_module": "@jupyter-widgets/controls",
       "_model_module_version": "1.5.0",
       "_model_name": "HTMLModel",
       "_view_count": null,
       "_view_module": "@jupyter-widgets/controls",
       "_view_module_version": "1.5.0",
       "_view_name": "HTMLView",
       "description": "",
       "description_tooltip": null,
       "layout": "IPY_MODEL_33d247cde4ab4fd9a68b0fd7be31ba4b",
       "placeholder": "​",
       "style": "IPY_MODEL_4ee51812fe0d4eebaa47c860f2a1e671",
       "value": "Downloading (…)rocessor_config.json: 100%"
      }
     },
     "bbd5743dbc6b40cbae81f64b3515eb90": {
      "model_module": "@jupyter-widgets/controls",
      "model_module_version": "1.5.0",
      "model_name": "DescriptionStyleModel",
      "state": {
       "_model_module": "@jupyter-widgets/controls",
       "_model_module_version": "1.5.0",
       "_model_name": "DescriptionStyleModel",
       "_view_count": null,
       "_view_module": "@jupyter-widgets/base",
       "_view_module_version": "1.2.0",
       "_view_name": "StyleView",
       "description_width": ""
      }
     },
     "c9bdf06369264d388f900d480462a75d": {
      "model_module": "@jupyter-widgets/base",
      "model_module_version": "1.2.0",
      "model_name": "LayoutModel",
      "state": {
       "_model_module": "@jupyter-widgets/base",
       "_model_module_version": "1.2.0",
       "_model_name": "LayoutModel",
       "_view_count": null,
       "_view_module": "@jupyter-widgets/base",
       "_view_module_version": "1.2.0",
       "_view_name": "LayoutView",
       "align_content": null,
       "align_items": null,
       "align_self": null,
       "border": null,
       "bottom": null,
       "display": null,
       "flex": null,
       "flex_flow": null,
       "grid_area": null,
       "grid_auto_columns": null,
       "grid_auto_flow": null,
       "grid_auto_rows": null,
       "grid_column": null,
       "grid_gap": null,
       "grid_row": null,
       "grid_template_areas": null,
       "grid_template_columns": null,
       "grid_template_rows": null,
       "height": null,
       "justify_content": null,
       "justify_items": null,
       "left": null,
       "margin": null,
       "max_height": null,
       "max_width": null,
       "min_height": null,
       "min_width": null,
       "object_fit": null,
       "object_position": null,
       "order": null,
       "overflow": null,
       "overflow_x": null,
       "overflow_y": null,
       "padding": null,
       "right": null,
       "top": null,
       "visibility": null,
       "width": null
      }
     },
     "cc378f7d18d54b6eb87c42f6a2d9818e": {
      "model_module": "@jupyter-widgets/base",
      "model_module_version": "1.2.0",
      "model_name": "LayoutModel",
      "state": {
       "_model_module": "@jupyter-widgets/base",
       "_model_module_version": "1.2.0",
       "_model_name": "LayoutModel",
       "_view_count": null,
       "_view_module": "@jupyter-widgets/base",
       "_view_module_version": "1.2.0",
       "_view_name": "LayoutView",
       "align_content": null,
       "align_items": null,
       "align_self": null,
       "border": null,
       "bottom": null,
       "display": null,
       "flex": null,
       "flex_flow": null,
       "grid_area": null,
       "grid_auto_columns": null,
       "grid_auto_flow": null,
       "grid_auto_rows": null,
       "grid_column": null,
       "grid_gap": null,
       "grid_row": null,
       "grid_template_areas": null,
       "grid_template_columns": null,
       "grid_template_rows": null,
       "height": null,
       "justify_content": null,
       "justify_items": null,
       "left": null,
       "margin": null,
       "max_height": null,
       "max_width": null,
       "min_height": null,
       "min_width": null,
       "object_fit": null,
       "object_position": null,
       "order": null,
       "overflow": null,
       "overflow_x": null,
       "overflow_y": null,
       "padding": null,
       "right": null,
       "top": null,
       "visibility": null,
       "width": null
      }
     },
     "cc9a2305d7b2411aaa34a7f3f3ecc6d9": {
      "model_module": "@jupyter-widgets/controls",
      "model_module_version": "1.5.0",
      "model_name": "HTMLModel",
      "state": {
       "_dom_classes": [],
       "_model_module": "@jupyter-widgets/controls",
       "_model_module_version": "1.5.0",
       "_model_name": "HTMLModel",
       "_view_count": null,
       "_view_module": "@jupyter-widgets/controls",
       "_view_module_version": "1.5.0",
       "_view_name": "HTMLView",
       "description": "",
       "description_tooltip": null,
       "layout": "IPY_MODEL_d4abc541c9f1485cb2805fce6cb55642",
       "placeholder": "​",
       "style": "IPY_MODEL_8be8ea30952f47c4a385ef127ece4a3d",
       "value": " 4.13k/4.13k [00:00&lt;00:00, 224kB/s]"
      }
     },
     "d1a9408afecd4fc2879ee15b753c364b": {
      "model_module": "@jupyter-widgets/controls",
      "model_module_version": "1.5.0",
      "model_name": "DescriptionStyleModel",
      "state": {
       "_model_module": "@jupyter-widgets/controls",
       "_model_module_version": "1.5.0",
       "_model_name": "DescriptionStyleModel",
       "_view_count": null,
       "_view_module": "@jupyter-widgets/base",
       "_view_module_version": "1.2.0",
       "_view_name": "StyleView",
       "description_width": ""
      }
     },
     "d1d53f7ee5384148b3b58c06c88c2f31": {
      "model_module": "@jupyter-widgets/base",
      "model_module_version": "1.2.0",
      "model_name": "LayoutModel",
      "state": {
       "_model_module": "@jupyter-widgets/base",
       "_model_module_version": "1.2.0",
       "_model_name": "LayoutModel",
       "_view_count": null,
       "_view_module": "@jupyter-widgets/base",
       "_view_module_version": "1.2.0",
       "_view_name": "LayoutView",
       "align_content": null,
       "align_items": null,
       "align_self": null,
       "border": null,
       "bottom": null,
       "display": null,
       "flex": null,
       "flex_flow": null,
       "grid_area": null,
       "grid_auto_columns": null,
       "grid_auto_flow": null,
       "grid_auto_rows": null,
       "grid_column": null,
       "grid_gap": null,
       "grid_row": null,
       "grid_template_areas": null,
       "grid_template_columns": null,
       "grid_template_rows": null,
       "height": null,
       "justify_content": null,
       "justify_items": null,
       "left": null,
       "margin": null,
       "max_height": null,
       "max_width": null,
       "min_height": null,
       "min_width": null,
       "object_fit": null,
       "object_position": null,
       "order": null,
       "overflow": null,
       "overflow_x": null,
       "overflow_y": null,
       "padding": null,
       "right": null,
       "top": null,
       "visibility": null,
       "width": null
      }
     },
     "d227c16705a64a2fa801d670696a84fd": {
      "model_module": "@jupyter-widgets/controls",
      "model_module_version": "1.5.0",
      "model_name": "FloatProgressModel",
      "state": {
       "_dom_classes": [],
       "_model_module": "@jupyter-widgets/controls",
       "_model_module_version": "1.5.0",
       "_model_name": "FloatProgressModel",
       "_view_count": null,
       "_view_module": "@jupyter-widgets/controls",
       "_view_module_version": "1.5.0",
       "_view_name": "ProgressView",
       "bar_style": "success",
       "description": "",
       "description_tooltip": null,
       "layout": "IPY_MODEL_aac30240589f452eb03c2cb0531cebf3",
       "max": 456318,
       "min": 0,
       "orientation": "horizontal",
       "style": "IPY_MODEL_b727f312240a49cc9f57cdc41e296b37",
       "value": 456318
      }
     },
     "d4abc541c9f1485cb2805fce6cb55642": {
      "model_module": "@jupyter-widgets/base",
      "model_module_version": "1.2.0",
      "model_name": "LayoutModel",
      "state": {
       "_model_module": "@jupyter-widgets/base",
       "_model_module_version": "1.2.0",
       "_model_name": "LayoutModel",
       "_view_count": null,
       "_view_module": "@jupyter-widgets/base",
       "_view_module_version": "1.2.0",
       "_view_name": "LayoutView",
       "align_content": null,
       "align_items": null,
       "align_self": null,
       "border": null,
       "bottom": null,
       "display": null,
       "flex": null,
       "flex_flow": null,
       "grid_area": null,
       "grid_auto_columns": null,
       "grid_auto_flow": null,
       "grid_auto_rows": null,
       "grid_column": null,
       "grid_gap": null,
       "grid_row": null,
       "grid_template_areas": null,
       "grid_template_columns": null,
       "grid_template_rows": null,
       "height": null,
       "justify_content": null,
       "justify_items": null,
       "left": null,
       "margin": null,
       "max_height": null,
       "max_width": null,
       "min_height": null,
       "min_width": null,
       "object_fit": null,
       "object_position": null,
       "order": null,
       "overflow": null,
       "overflow_x": null,
       "overflow_y": null,
       "padding": null,
       "right": null,
       "top": null,
       "visibility": null,
       "width": null
      }
     },
     "d640c264f4ab4702abc894360464be2d": {
      "model_module": "@jupyter-widgets/controls",
      "model_module_version": "1.5.0",
      "model_name": "DescriptionStyleModel",
      "state": {
       "_model_module": "@jupyter-widgets/controls",
       "_model_module_version": "1.5.0",
       "_model_name": "DescriptionStyleModel",
       "_view_count": null,
       "_view_module": "@jupyter-widgets/base",
       "_view_module_version": "1.2.0",
       "_view_name": "StyleView",
       "description_width": ""
      }
     },
     "da3d946c5c2c4ba1b7bd76ef793470a9": {
      "model_module": "@jupyter-widgets/controls",
      "model_module_version": "1.5.0",
      "model_name": "HTMLModel",
      "state": {
       "_dom_classes": [],
       "_model_module": "@jupyter-widgets/controls",
       "_model_module_version": "1.5.0",
       "_model_name": "HTMLModel",
       "_view_count": null,
       "_view_module": "@jupyter-widgets/controls",
       "_view_module_version": "1.5.0",
       "_view_name": "HTMLView",
       "description": "",
       "description_tooltip": null,
       "layout": "IPY_MODEL_983d15edcaec4211b506a52b71d59a61",
       "placeholder": "​",
       "style": "IPY_MODEL_2b4755ad5a0c48d993c36596ec99df6d",
       "value": " 190/190 [00:00&lt;00:00, 12.7kB/s]"
      }
     },
     "da6a3c388e27487d866e0efdd4eb7c85": {
      "model_module": "@jupyter-widgets/controls",
      "model_module_version": "1.5.0",
      "model_name": "HTMLModel",
      "state": {
       "_dom_classes": [],
       "_model_module": "@jupyter-widgets/controls",
       "_model_module_version": "1.5.0",
       "_model_name": "HTMLModel",
       "_view_count": null,
       "_view_module": "@jupyter-widgets/controls",
       "_view_module_version": "1.5.0",
       "_view_name": "HTMLView",
       "description": "",
       "description_tooltip": null,
       "layout": "IPY_MODEL_2258f0bc37894304b30cc020e80dfa7b",
       "placeholder": "​",
       "style": "IPY_MODEL_809873803ff24d999c1684a7d44fb68b",
       "value": " 1.12k/1.12k [00:00&lt;00:00, 92.0kB/s]"
      }
     },
     "dd1f0b685a464c0d8e79f088ca531f77": {
      "model_module": "@jupyter-widgets/base",
      "model_module_version": "1.2.0",
      "model_name": "LayoutModel",
      "state": {
       "_model_module": "@jupyter-widgets/base",
       "_model_module_version": "1.2.0",
       "_model_name": "LayoutModel",
       "_view_count": null,
       "_view_module": "@jupyter-widgets/base",
       "_view_module_version": "1.2.0",
       "_view_name": "LayoutView",
       "align_content": null,
       "align_items": null,
       "align_self": null,
       "border": null,
       "bottom": null,
       "display": null,
       "flex": null,
       "flex_flow": null,
       "grid_area": null,
       "grid_auto_columns": null,
       "grid_auto_flow": null,
       "grid_auto_rows": null,
       "grid_column": null,
       "grid_gap": null,
       "grid_row": null,
       "grid_template_areas": null,
       "grid_template_columns": null,
       "grid_template_rows": null,
       "height": null,
       "justify_content": null,
       "justify_items": null,
       "left": null,
       "margin": null,
       "max_height": null,
       "max_width": null,
       "min_height": null,
       "min_width": null,
       "object_fit": null,
       "object_position": null,
       "order": null,
       "overflow": null,
       "overflow_x": null,
       "overflow_y": null,
       "padding": null,
       "right": null,
       "top": null,
       "visibility": null,
       "width": null
      }
     },
     "df0c9805b760426a9be0adbe55376067": {
      "model_module": "@jupyter-widgets/base",
      "model_module_version": "1.2.0",
      "model_name": "LayoutModel",
      "state": {
       "_model_module": "@jupyter-widgets/base",
       "_model_module_version": "1.2.0",
       "_model_name": "LayoutModel",
       "_view_count": null,
       "_view_module": "@jupyter-widgets/base",
       "_view_module_version": "1.2.0",
       "_view_name": "LayoutView",
       "align_content": null,
       "align_items": null,
       "align_self": null,
       "border": null,
       "bottom": null,
       "display": null,
       "flex": null,
       "flex_flow": null,
       "grid_area": null,
       "grid_auto_columns": null,
       "grid_auto_flow": null,
       "grid_auto_rows": null,
       "grid_column": null,
       "grid_gap": null,
       "grid_row": null,
       "grid_template_areas": null,
       "grid_template_columns": null,
       "grid_template_rows": null,
       "height": null,
       "justify_content": null,
       "justify_items": null,
       "left": null,
       "margin": null,
       "max_height": null,
       "max_width": null,
       "min_height": null,
       "min_width": null,
       "object_fit": null,
       "object_position": null,
       "order": null,
       "overflow": null,
       "overflow_x": null,
       "overflow_y": null,
       "padding": null,
       "right": null,
       "top": null,
       "visibility": null,
       "width": null
      }
     },
     "dfec41485199431094a3b53339a90503": {
      "model_module": "@jupyter-widgets/base",
      "model_module_version": "1.2.0",
      "model_name": "LayoutModel",
      "state": {
       "_model_module": "@jupyter-widgets/base",
       "_model_module_version": "1.2.0",
       "_model_name": "LayoutModel",
       "_view_count": null,
       "_view_module": "@jupyter-widgets/base",
       "_view_module_version": "1.2.0",
       "_view_name": "LayoutView",
       "align_content": null,
       "align_items": null,
       "align_self": null,
       "border": null,
       "bottom": null,
       "display": null,
       "flex": null,
       "flex_flow": null,
       "grid_area": null,
       "grid_auto_columns": null,
       "grid_auto_flow": null,
       "grid_auto_rows": null,
       "grid_column": null,
       "grid_gap": null,
       "grid_row": null,
       "grid_template_areas": null,
       "grid_template_columns": null,
       "grid_template_rows": null,
       "height": null,
       "justify_content": null,
       "justify_items": null,
       "left": null,
       "margin": null,
       "max_height": null,
       "max_width": null,
       "min_height": null,
       "min_width": null,
       "object_fit": null,
       "object_position": null,
       "order": null,
       "overflow": null,
       "overflow_x": null,
       "overflow_y": null,
       "padding": null,
       "right": null,
       "top": null,
       "visibility": null,
       "width": null
      }
     },
     "e0d301880d034fe1a0edff1e978d28d2": {
      "model_module": "@jupyter-widgets/controls",
      "model_module_version": "1.5.0",
      "model_name": "ProgressStyleModel",
      "state": {
       "_model_module": "@jupyter-widgets/controls",
       "_model_module_version": "1.5.0",
       "_model_name": "ProgressStyleModel",
       "_view_count": null,
       "_view_module": "@jupyter-widgets/base",
       "_view_module_version": "1.2.0",
       "_view_name": "StyleView",
       "bar_color": null,
       "description_width": ""
      }
     },
     "e4c47dbc006a420aa583586cb5b2d3c1": {
      "model_module": "@jupyter-widgets/controls",
      "model_module_version": "1.5.0",
      "model_name": "HBoxModel",
      "state": {
       "_dom_classes": [],
       "_model_module": "@jupyter-widgets/controls",
       "_model_module_version": "1.5.0",
       "_model_name": "HBoxModel",
       "_view_count": null,
       "_view_module": "@jupyter-widgets/controls",
       "_view_module_version": "1.5.0",
       "_view_name": "HBoxView",
       "box_style": "",
       "children": [
        "IPY_MODEL_3acbfc4d5967442491036c58a7c11213",
        "IPY_MODEL_1f827ed1be8a4df9a113a0938bdd93f3",
        "IPY_MODEL_546d26912c98412ca2f5483f2ffcc438"
       ],
       "layout": "IPY_MODEL_828bfae145d74deaa9ff09045515010e"
      }
     },
     "e4ec42210dda49b699c5e6f88824d7d5": {
      "model_module": "@jupyter-widgets/base",
      "model_module_version": "1.2.0",
      "model_name": "LayoutModel",
      "state": {
       "_model_module": "@jupyter-widgets/base",
       "_model_module_version": "1.2.0",
       "_model_name": "LayoutModel",
       "_view_count": null,
       "_view_module": "@jupyter-widgets/base",
       "_view_module_version": "1.2.0",
       "_view_name": "LayoutView",
       "align_content": null,
       "align_items": null,
       "align_self": null,
       "border": null,
       "bottom": null,
       "display": null,
       "flex": null,
       "flex_flow": null,
       "grid_area": null,
       "grid_auto_columns": null,
       "grid_auto_flow": null,
       "grid_auto_rows": null,
       "grid_column": null,
       "grid_gap": null,
       "grid_row": null,
       "grid_template_areas": null,
       "grid_template_columns": null,
       "grid_template_rows": null,
       "height": null,
       "justify_content": null,
       "justify_items": null,
       "left": null,
       "margin": null,
       "max_height": null,
       "max_width": null,
       "min_height": null,
       "min_width": null,
       "object_fit": null,
       "object_position": null,
       "order": null,
       "overflow": null,
       "overflow_x": null,
       "overflow_y": null,
       "padding": null,
       "right": null,
       "top": null,
       "visibility": null,
       "width": null
      }
     },
     "e5aaeb4d3b0847898c34946ef146c8f4": {
      "model_module": "@jupyter-widgets/controls",
      "model_module_version": "1.5.0",
      "model_name": "DescriptionStyleModel",
      "state": {
       "_model_module": "@jupyter-widgets/controls",
       "_model_module_version": "1.5.0",
       "_model_name": "DescriptionStyleModel",
       "_view_count": null,
       "_view_module": "@jupyter-widgets/base",
       "_view_module_version": "1.2.0",
       "_view_name": "StyleView",
       "description_width": ""
      }
     },
     "e774803e85b14218839734fb445f7335": {
      "model_module": "@jupyter-widgets/controls",
      "model_module_version": "1.5.0",
      "model_name": "ProgressStyleModel",
      "state": {
       "_model_module": "@jupyter-widgets/controls",
       "_model_module_version": "1.5.0",
       "_model_name": "ProgressStyleModel",
       "_view_count": null,
       "_view_module": "@jupyter-widgets/base",
       "_view_module_version": "1.2.0",
       "_view_name": "StyleView",
       "bar_color": null,
       "description_width": ""
      }
     },
     "e8242c585043422e98f556c4d65a3b12": {
      "model_module": "@jupyter-widgets/controls",
      "model_module_version": "1.5.0",
      "model_name": "DescriptionStyleModel",
      "state": {
       "_model_module": "@jupyter-widgets/controls",
       "_model_module_version": "1.5.0",
       "_model_name": "DescriptionStyleModel",
       "_view_count": null,
       "_view_module": "@jupyter-widgets/base",
       "_view_module_version": "1.2.0",
       "_view_name": "StyleView",
       "description_width": ""
      }
     },
     "ee7bca51fdda46e5a19ce4b74da5f45e": {
      "model_module": "@jupyter-widgets/base",
      "model_module_version": "1.2.0",
      "model_name": "LayoutModel",
      "state": {
       "_model_module": "@jupyter-widgets/base",
       "_model_module_version": "1.2.0",
       "_model_name": "LayoutModel",
       "_view_count": null,
       "_view_module": "@jupyter-widgets/base",
       "_view_module_version": "1.2.0",
       "_view_name": "LayoutView",
       "align_content": null,
       "align_items": null,
       "align_self": null,
       "border": null,
       "bottom": null,
       "display": null,
       "flex": null,
       "flex_flow": null,
       "grid_area": null,
       "grid_auto_columns": null,
       "grid_auto_flow": null,
       "grid_auto_rows": null,
       "grid_column": null,
       "grid_gap": null,
       "grid_row": null,
       "grid_template_areas": null,
       "grid_template_columns": null,
       "grid_template_rows": null,
       "height": null,
       "justify_content": null,
       "justify_items": null,
       "left": null,
       "margin": null,
       "max_height": null,
       "max_width": null,
       "min_height": null,
       "min_width": null,
       "object_fit": null,
       "object_position": null,
       "order": null,
       "overflow": null,
       "overflow_x": null,
       "overflow_y": null,
       "padding": null,
       "right": null,
       "top": null,
       "visibility": null,
       "width": null
      }
     },
     "f4daa753bbb7414a9ce0a65aa3cc182d": {
      "model_module": "@jupyter-widgets/controls",
      "model_module_version": "1.5.0",
      "model_name": "DescriptionStyleModel",
      "state": {
       "_model_module": "@jupyter-widgets/controls",
       "_model_module_version": "1.5.0",
       "_model_name": "DescriptionStyleModel",
       "_view_count": null,
       "_view_module": "@jupyter-widgets/base",
       "_view_module_version": "1.2.0",
       "_view_name": "StyleView",
       "description_width": ""
      }
     }
    },
    "version_major": 2,
    "version_minor": 0
   }
  }
 },
 "nbformat": 4,
 "nbformat_minor": 5
}
