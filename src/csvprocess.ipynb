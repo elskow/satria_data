{
 "cells": [
  {
   "attachments": {},
   "cell_type": "markdown",
   "metadata": {},
   "source": [
    "<div style=\"text-align: center; \n",
    "                font-size: 2em; \n",
    "                font-weight: bold; \n",
    "                background-color: #ffcc00; \n",
    "                color: #000000;\n",
    "                margin: 20px;\n",
    "                line-height: 1.5;\n",
    "                padding: 20px;\">\n",
    "    <h1 style=\"margin: 20px; font-size: 1.5em; font-weight: bold;\">\n",
    "        Preprocessing the CSV files\n",
    "    </h1>\n",
    "    <p style=\"margin: 20px; font-size: 0.5em; color: #444444;\">\n",
    "        This notebook is used to preprocess the CSV files of plate numbers.\n",
    "    </p>\n",
    "</div>"
   ]
  },
  {
   "attachments": {},
   "cell_type": "markdown",
   "metadata": {},
   "source": [
    "### **Importing the libraries and the dataset**"
   ]
  },
  {
   "cell_type": "code",
   "execution_count": 61,
   "metadata": {},
   "outputs": [],
   "source": [
    "import pandas as pd"
   ]
  },
  {
   "cell_type": "code",
   "execution_count": 62,
   "metadata": {},
   "outputs": [
    {
     "data": {
      "text/html": [
       "<div>\n",
       "<style scoped>\n",
       "    .dataframe tbody tr th:only-of-type {\n",
       "        vertical-align: middle;\n",
       "    }\n",
       "\n",
       "    .dataframe tbody tr th {\n",
       "        vertical-align: top;\n",
       "    }\n",
       "\n",
       "    .dataframe thead th {\n",
       "        text-align: right;\n",
       "    }\n",
       "</style>\n",
       "<table border=\"1\" class=\"dataframe\">\n",
       "  <thead>\n",
       "    <tr style=\"text-align: right;\">\n",
       "      <th></th>\n",
       "      <th>;Vehicleregistrationplate;NameofFile</th>\n",
       "    </tr>\n",
       "  </thead>\n",
       "  <tbody>\n",
       "    <tr>\n",
       "      <th>0</th>\n",
       "      <td>0;A7814;DataTrain1.png</td>\n",
       "    </tr>\n",
       "    <tr>\n",
       "      <th>1</th>\n",
       "      <td>1;B1074QO;DataTrain2.png</td>\n",
       "    </tr>\n",
       "    <tr>\n",
       "      <th>2</th>\n",
       "      <td>2;B1031QO;DataTrain3.png</td>\n",
       "    </tr>\n",
       "    <tr>\n",
       "      <th>3</th>\n",
       "      <td>3;B187EDA;DataTrain4.png</td>\n",
       "    </tr>\n",
       "    <tr>\n",
       "      <th>4</th>\n",
       "      <td>4;B1089VD;DataTrain5.png</td>\n",
       "    </tr>\n",
       "  </tbody>\n",
       "</table>\n",
       "</div>"
      ],
      "text/plain": [
       "  ;Vehicleregistrationplate;NameofFile\n",
       "0               0;A7814;DataTrain1.png\n",
       "1             1;B1074QO;DataTrain2.png\n",
       "2             2;B1031QO;DataTrain3.png\n",
       "3             3;B187EDA;DataTrain4.png\n",
       "4             4;B1089VD;DataTrain5.png"
      ]
     },
     "execution_count": 62,
     "metadata": {},
     "output_type": "execute_result"
    }
   ],
   "source": [
    "train = pd.read_csv(\"../data/train_data/DataTrain.csv\")\n",
    "test = pd.read_csv(\"../data/test_data/DataTest.csv\")\n",
    "\n",
    "num_train = train.shape[0]\n",
    "num_test = test.shape[0]\n",
    "\n",
    "train.head()"
   ]
  },
  {
   "attachments": {},
   "cell_type": "markdown",
   "metadata": {},
   "source": [
    "### **Preprocessing the labels**"
   ]
  },
  {
   "cell_type": "code",
   "execution_count": 63,
   "metadata": {},
   "outputs": [
    {
     "data": {
      "text/html": [
       "<div>\n",
       "<style scoped>\n",
       "    .dataframe tbody tr th:only-of-type {\n",
       "        vertical-align: middle;\n",
       "    }\n",
       "\n",
       "    .dataframe tbody tr th {\n",
       "        vertical-align: top;\n",
       "    }\n",
       "\n",
       "    .dataframe thead th {\n",
       "        text-align: right;\n",
       "    }\n",
       "</style>\n",
       "<table border=\"1\" class=\"dataframe\">\n",
       "  <thead>\n",
       "    <tr style=\"text-align: right;\">\n",
       "      <th></th>\n",
       "      <th>img</th>\n",
       "      <th>label</th>\n",
       "    </tr>\n",
       "  </thead>\n",
       "  <tbody>\n",
       "    <tr>\n",
       "      <th>0</th>\n",
       "      <td>DataTrain1.png</td>\n",
       "      <td>A7814</td>\n",
       "    </tr>\n",
       "    <tr>\n",
       "      <th>1</th>\n",
       "      <td>DataTrain2.png</td>\n",
       "      <td>B1074QO</td>\n",
       "    </tr>\n",
       "    <tr>\n",
       "      <th>2</th>\n",
       "      <td>DataTrain3.png</td>\n",
       "      <td>B1031QO</td>\n",
       "    </tr>\n",
       "    <tr>\n",
       "      <th>3</th>\n",
       "      <td>DataTrain4.png</td>\n",
       "      <td>B187EDA</td>\n",
       "    </tr>\n",
       "    <tr>\n",
       "      <th>4</th>\n",
       "      <td>DataTrain5.png</td>\n",
       "      <td>B1089VD</td>\n",
       "    </tr>\n",
       "  </tbody>\n",
       "</table>\n",
       "</div>"
      ],
      "text/plain": [
       "              img    label\n",
       "0  DataTrain1.png    A7814\n",
       "1  DataTrain2.png  B1074QO\n",
       "2  DataTrain3.png  B1031QO\n",
       "3  DataTrain4.png  B187EDA\n",
       "4  DataTrain5.png  B1089VD"
      ]
     },
     "execution_count": 63,
     "metadata": {},
     "output_type": "execute_result"
    }
   ],
   "source": [
    "train[\"img\"] = train[\";Vehicleregistrationplate;NameofFile\"].apply(\n",
    "    lambda x: x.split(\";\")[2]\n",
    ")\n",
    "train[\"label\"] = train[\";Vehicleregistrationplate;NameofFile\"].apply(\n",
    "    lambda x: x.split(\";\")[1]\n",
    ")\n",
    "train.drop([\";Vehicleregistrationplate;NameofFile\"], axis=1, inplace=True)\n",
    "\n",
    "train.head()"
   ]
  },
  {
   "cell_type": "code",
   "execution_count": 64,
   "metadata": {},
   "outputs": [
    {
     "data": {
      "text/html": [
       "<div>\n",
       "<style scoped>\n",
       "    .dataframe tbody tr th:only-of-type {\n",
       "        vertical-align: middle;\n",
       "    }\n",
       "\n",
       "    .dataframe tbody tr th {\n",
       "        vertical-align: top;\n",
       "    }\n",
       "\n",
       "    .dataframe thead th {\n",
       "        text-align: right;\n",
       "    }\n",
       "</style>\n",
       "<table border=\"1\" class=\"dataframe\">\n",
       "  <thead>\n",
       "    <tr style=\"text-align: right;\">\n",
       "      <th></th>\n",
       "      <th>;Name of File</th>\n",
       "    </tr>\n",
       "  </thead>\n",
       "  <tbody>\n",
       "    <tr>\n",
       "      <th>0</th>\n",
       "      <td>0;DataTest1.png</td>\n",
       "    </tr>\n",
       "    <tr>\n",
       "      <th>1</th>\n",
       "      <td>1;DataTest2.png</td>\n",
       "    </tr>\n",
       "    <tr>\n",
       "      <th>2</th>\n",
       "      <td>2;DataTest3.png</td>\n",
       "    </tr>\n",
       "    <tr>\n",
       "      <th>3</th>\n",
       "      <td>3;DataTest4.png</td>\n",
       "    </tr>\n",
       "    <tr>\n",
       "      <th>4</th>\n",
       "      <td>4;DataTest5.png</td>\n",
       "    </tr>\n",
       "  </tbody>\n",
       "</table>\n",
       "</div>"
      ],
      "text/plain": [
       "     ;Name of File\n",
       "0  0;DataTest1.png\n",
       "1  1;DataTest2.png\n",
       "2  2;DataTest3.png\n",
       "3  3;DataTest4.png\n",
       "4  4;DataTest5.png"
      ]
     },
     "execution_count": 64,
     "metadata": {},
     "output_type": "execute_result"
    }
   ],
   "source": [
    "test.head()"
   ]
  },
  {
   "cell_type": "code",
   "execution_count": 65,
   "metadata": {},
   "outputs": [
    {
     "data": {
      "text/html": [
       "<div>\n",
       "<style scoped>\n",
       "    .dataframe tbody tr th:only-of-type {\n",
       "        vertical-align: middle;\n",
       "    }\n",
       "\n",
       "    .dataframe tbody tr th {\n",
       "        vertical-align: top;\n",
       "    }\n",
       "\n",
       "    .dataframe thead th {\n",
       "        text-align: right;\n",
       "    }\n",
       "</style>\n",
       "<table border=\"1\" class=\"dataframe\">\n",
       "  <thead>\n",
       "    <tr style=\"text-align: right;\">\n",
       "      <th></th>\n",
       "      <th>img</th>\n",
       "    </tr>\n",
       "  </thead>\n",
       "  <tbody>\n",
       "    <tr>\n",
       "      <th>0</th>\n",
       "      <td>DataTest1.png</td>\n",
       "    </tr>\n",
       "    <tr>\n",
       "      <th>1</th>\n",
       "      <td>DataTest2.png</td>\n",
       "    </tr>\n",
       "    <tr>\n",
       "      <th>2</th>\n",
       "      <td>DataTest3.png</td>\n",
       "    </tr>\n",
       "    <tr>\n",
       "      <th>3</th>\n",
       "      <td>DataTest4.png</td>\n",
       "    </tr>\n",
       "    <tr>\n",
       "      <th>4</th>\n",
       "      <td>DataTest5.png</td>\n",
       "    </tr>\n",
       "  </tbody>\n",
       "</table>\n",
       "</div>"
      ],
      "text/plain": [
       "             img\n",
       "0  DataTest1.png\n",
       "1  DataTest2.png\n",
       "2  DataTest3.png\n",
       "3  DataTest4.png\n",
       "4  DataTest5.png"
      ]
     },
     "execution_count": 65,
     "metadata": {},
     "output_type": "execute_result"
    }
   ],
   "source": [
    "test[\"img\"] = test[\";Name of File\"].apply(lambda x: x.split(\";\")[1])\n",
    "test.drop([\";Name of File\"], axis=1, inplace=True)\n",
    "\n",
    "test.head()"
   ]
  },
  {
   "cell_type": "code",
   "execution_count": 66,
   "metadata": {},
   "outputs": [
    {
     "name": "stdout",
     "output_type": "stream",
     "text": [
      "                  img     label\n",
      "27    DataTrain28.png  B1254TFX\n",
      "44    DataTrain45.png   A8014VA\n",
      "58    DataTrain59.png   A8014VA\n",
      "65    DataTrain66.png   B1074QO\n",
      "92    DataTrain93.png  B1946TKN\n",
      "..                ...       ...\n",
      "784  DataTrain785.png   A1398BC\n",
      "785  DataTrain786.png   B1559UN\n",
      "786  DataTrain787.png  B1913TIS\n",
      "790  DataTrain791.png  B1802EOZ\n",
      "799  DataTrain800.png  AB6315SE\n",
      "\n",
      "[187 rows x 2 columns]\n"
     ]
    }
   ],
   "source": [
    "# show duplicated label in train data\n",
    "print(train[train[\"label\"].duplicated()])"
   ]
  },
  {
   "cell_type": "code",
   "execution_count": 67,
   "metadata": {},
   "outputs": [],
   "source": [
    "train.drop_duplicates(subset=\"label\", keep=\"first\", inplace=True)"
   ]
  },
  {
   "cell_type": "code",
   "execution_count": 68,
   "metadata": {},
   "outputs": [
    {
     "name": "stdout",
     "output_type": "stream",
     "text": [
      "Empty DataFrame\n",
      "Columns: [img, label]\n",
      "Index: []\n"
     ]
    }
   ],
   "source": [
    "# show duplicated label in train data\n",
    "print(train[train[\"label\"].duplicated()])"
   ]
  },
  {
   "cell_type": "code",
   "execution_count": 69,
   "metadata": {},
   "outputs": [
    {
     "data": {
      "text/html": [
       "<div>\n",
       "<style scoped>\n",
       "    .dataframe tbody tr th:only-of-type {\n",
       "        vertical-align: middle;\n",
       "    }\n",
       "\n",
       "    .dataframe tbody tr th {\n",
       "        vertical-align: top;\n",
       "    }\n",
       "\n",
       "    .dataframe thead th {\n",
       "        text-align: right;\n",
       "    }\n",
       "</style>\n",
       "<table border=\"1\" class=\"dataframe\">\n",
       "  <thead>\n",
       "    <tr style=\"text-align: right;\">\n",
       "      <th></th>\n",
       "      <th>img</th>\n",
       "      <th>label</th>\n",
       "      <th>wilayah</th>\n",
       "      <th>nopol</th>\n",
       "      <th>kotanjenis</th>\n",
       "    </tr>\n",
       "  </thead>\n",
       "  <tbody>\n",
       "    <tr>\n",
       "      <th>0</th>\n",
       "      <td>DataTrain1.png</td>\n",
       "      <td>A7814</td>\n",
       "      <td>A</td>\n",
       "      <td>7814</td>\n",
       "      <td></td>\n",
       "    </tr>\n",
       "    <tr>\n",
       "      <th>1</th>\n",
       "      <td>DataTrain2.png</td>\n",
       "      <td>B1074QO</td>\n",
       "      <td>B</td>\n",
       "      <td>1074</td>\n",
       "      <td>QO</td>\n",
       "    </tr>\n",
       "    <tr>\n",
       "      <th>2</th>\n",
       "      <td>DataTrain3.png</td>\n",
       "      <td>B1031QO</td>\n",
       "      <td>B</td>\n",
       "      <td>1031</td>\n",
       "      <td>QO</td>\n",
       "    </tr>\n",
       "    <tr>\n",
       "      <th>3</th>\n",
       "      <td>DataTrain4.png</td>\n",
       "      <td>B187EDA</td>\n",
       "      <td>B</td>\n",
       "      <td>187</td>\n",
       "      <td>EDA</td>\n",
       "    </tr>\n",
       "    <tr>\n",
       "      <th>4</th>\n",
       "      <td>DataTrain5.png</td>\n",
       "      <td>B1089VD</td>\n",
       "      <td>B</td>\n",
       "      <td>1089</td>\n",
       "      <td>VD</td>\n",
       "    </tr>\n",
       "  </tbody>\n",
       "</table>\n",
       "</div>"
      ],
      "text/plain": [
       "              img    label wilayah nopol kotanjenis\n",
       "0  DataTrain1.png    A7814       A  7814           \n",
       "1  DataTrain2.png  B1074QO       B  1074         QO\n",
       "2  DataTrain3.png  B1031QO       B  1031         QO\n",
       "3  DataTrain4.png  B187EDA       B   187        EDA\n",
       "4  DataTrain5.png  B1089VD       B  1089         VD"
      ]
     },
     "execution_count": 69,
     "metadata": {},
     "output_type": "execute_result"
    }
   ],
   "source": [
    "# label\n",
    "# 0\tDataTrain1.png\tA7814\n",
    "\n",
    "# split label menjadi 3 kolom sesuai dengan aturan plat nomor\n",
    "# A7814 -> A 7814\n",
    "# B3210DA -> B 3210 DA\n",
    "\n",
    "def splitting_label(label):\n",
    "    # pertama temukan index angka pertama dan terakhir yang muncul\n",
    "    # misal A7814 -> 7, 4\n",
    "    \n",
    "    start = 0\n",
    "    end = 0\n",
    "    \n",
    "    for i in range(len(label)):\n",
    "        if label[i].isdigit():\n",
    "            start = i\n",
    "            break\n",
    "    for i in range(len(label)-1, -1, -1):\n",
    "        if label[i].isdigit():\n",
    "            end = i\n",
    "            break\n",
    "\n",
    "    # kemudian split label menjadi 3 kolom\n",
    "    # ketika index angka terakhir == index string terakhir, maka untuk kolom 3 diisi dengan np.nan\n",
    "\n",
    "    first = label[:start]\n",
    "    if end == len(label)-1:\n",
    "        second = label[start:end+1]\n",
    "        third = ''\n",
    "    else:\n",
    "        second = label[start:end+1]\n",
    "        third = label[end+1:]\n",
    "\n",
    "    return first, second, third\n",
    "\n",
    "# split label menjadi 3 kolom\n",
    "train['wilayah'], train['nopol'], train['kotanjenis'] = zip(*train['label'].map(splitting_label))\n",
    "\n",
    "train.head()"
   ]
  },
  {
   "cell_type": "code",
   "execution_count": 70,
   "metadata": {},
   "outputs": [
    {
     "name": "stdout",
     "output_type": "stream",
     "text": [
      "                  img label wilayah nopol kotanjenis\n",
      "126  DataTrain127.png  AIIS             A        IIS\n",
      "Empty DataFrame\n",
      "Columns: [img, label, wilayah, nopol, kotanjenis]\n",
      "Index: []\n",
      "                  img     label wilayah    nopol kotanjenis\n",
      "0      DataTrain1.png     A7814       A     7814           \n",
      "33    DataTrain34.png     B1157       B     1157           \n",
      "117  DataTrain118.png     B1747       B     1747           \n",
      "177  DataTrain178.png    AB2070      AB     2070           \n",
      "257  DataTrain258.png      A317       A      317           \n",
      "366  DataTrain367.png     B1713       B     1713           \n",
      "448  DataTrain449.png  B1855SL0       B  1855SL0           \n",
      "457  DataTrain458.png   B128000       B   128000           \n",
      "464  DataTrain465.png     B1487       B     1487           \n",
      "600  DataTrain601.png   B130900       B   130900           \n"
     ]
    }
   ],
   "source": [
    "print(train[train['wilayah'] == ''])\n",
    "print(train[train['nopol'] == ''])\n",
    "print(train[train['kotanjenis'] == ''])"
   ]
  },
  {
   "cell_type": "code",
   "execution_count": 71,
   "metadata": {},
   "outputs": [
    {
     "name": "stdout",
     "output_type": "stream",
     "text": [
      "Empty DataFrame\n",
      "Columns: [img, label, wilayah, nopol, kotanjenis]\n",
      "Index: []\n",
      "Empty DataFrame\n",
      "Columns: [img, label, wilayah, nopol, kotanjenis]\n",
      "Index: []\n",
      "Empty DataFrame\n",
      "Columns: [img, label, wilayah, nopol, kotanjenis]\n",
      "Index: []\n"
     ]
    },
    {
     "data": {
      "text/html": [
       "<div>\n",
       "<style scoped>\n",
       "    .dataframe tbody tr th:only-of-type {\n",
       "        vertical-align: middle;\n",
       "    }\n",
       "\n",
       "    .dataframe tbody tr th {\n",
       "        vertical-align: top;\n",
       "    }\n",
       "\n",
       "    .dataframe thead th {\n",
       "        text-align: right;\n",
       "    }\n",
       "</style>\n",
       "<table border=\"1\" class=\"dataframe\">\n",
       "  <thead>\n",
       "    <tr style=\"text-align: right;\">\n",
       "      <th></th>\n",
       "      <th>img</th>\n",
       "      <th>label</th>\n",
       "      <th>wilayah</th>\n",
       "      <th>nopol</th>\n",
       "      <th>kotanjenis</th>\n",
       "    </tr>\n",
       "  </thead>\n",
       "  <tbody>\n",
       "    <tr>\n",
       "      <th>1</th>\n",
       "      <td>DataTrain2.png</td>\n",
       "      <td>B1074QO</td>\n",
       "      <td>B</td>\n",
       "      <td>1074</td>\n",
       "      <td>QO</td>\n",
       "    </tr>\n",
       "    <tr>\n",
       "      <th>2</th>\n",
       "      <td>DataTrain3.png</td>\n",
       "      <td>B1031QO</td>\n",
       "      <td>B</td>\n",
       "      <td>1031</td>\n",
       "      <td>QO</td>\n",
       "    </tr>\n",
       "    <tr>\n",
       "      <th>3</th>\n",
       "      <td>DataTrain4.png</td>\n",
       "      <td>B187EDA</td>\n",
       "      <td>B</td>\n",
       "      <td>187</td>\n",
       "      <td>EDA</td>\n",
       "    </tr>\n",
       "    <tr>\n",
       "      <th>4</th>\n",
       "      <td>DataTrain5.png</td>\n",
       "      <td>B1089VD</td>\n",
       "      <td>B</td>\n",
       "      <td>1089</td>\n",
       "      <td>VD</td>\n",
       "    </tr>\n",
       "    <tr>\n",
       "      <th>5</th>\n",
       "      <td>DataTrain6.png</td>\n",
       "      <td>B1972RBP</td>\n",
       "      <td>B</td>\n",
       "      <td>1972</td>\n",
       "      <td>RBP</td>\n",
       "    </tr>\n",
       "  </tbody>\n",
       "</table>\n",
       "</div>"
      ],
      "text/plain": [
       "              img     label wilayah nopol kotanjenis\n",
       "1  DataTrain2.png   B1074QO       B  1074         QO\n",
       "2  DataTrain3.png   B1031QO       B  1031         QO\n",
       "3  DataTrain4.png   B187EDA       B   187        EDA\n",
       "4  DataTrain5.png   B1089VD       B  1089         VD\n",
       "5  DataTrain6.png  B1972RBP       B  1972        RBP"
      ]
     },
     "execution_count": 71,
     "metadata": {},
     "output_type": "execute_result"
    }
   ],
   "source": [
    "# remove the row when wilayah or nopol or kotanjenis is empty\n",
    "train = train[train['wilayah'] != '']\n",
    "train = train[train['nopol'] != '']\n",
    "train = train[train['kotanjenis'] != '']\n",
    "\n",
    "print(train[train['wilayah'] == ''])\n",
    "print(train[train['nopol'] == ''])\n",
    "print(train[train['kotanjenis'] == ''])\n",
    "\n",
    "train.head()"
   ]
  },
  {
   "cell_type": "code",
   "execution_count": 72,
   "metadata": {},
   "outputs": [
    {
     "data": {
      "text/html": [
       "<div>\n",
       "<style scoped>\n",
       "    .dataframe tbody tr th:only-of-type {\n",
       "        vertical-align: middle;\n",
       "    }\n",
       "\n",
       "    .dataframe tbody tr th {\n",
       "        vertical-align: top;\n",
       "    }\n",
       "\n",
       "    .dataframe thead th {\n",
       "        text-align: right;\n",
       "    }\n",
       "</style>\n",
       "<table border=\"1\" class=\"dataframe\">\n",
       "  <thead>\n",
       "    <tr style=\"text-align: right;\">\n",
       "      <th></th>\n",
       "      <th>img</th>\n",
       "      <th>label</th>\n",
       "    </tr>\n",
       "  </thead>\n",
       "  <tbody>\n",
       "    <tr>\n",
       "      <th>1</th>\n",
       "      <td>DataTrain2.png</td>\n",
       "      <td>B1074QO</td>\n",
       "    </tr>\n",
       "    <tr>\n",
       "      <th>2</th>\n",
       "      <td>DataTrain3.png</td>\n",
       "      <td>B1031QO</td>\n",
       "    </tr>\n",
       "    <tr>\n",
       "      <th>3</th>\n",
       "      <td>DataTrain4.png</td>\n",
       "      <td>B187EDA</td>\n",
       "    </tr>\n",
       "    <tr>\n",
       "      <th>4</th>\n",
       "      <td>DataTrain5.png</td>\n",
       "      <td>B1089VD</td>\n",
       "    </tr>\n",
       "    <tr>\n",
       "      <th>5</th>\n",
       "      <td>DataTrain6.png</td>\n",
       "      <td>B1972RBP</td>\n",
       "    </tr>\n",
       "  </tbody>\n",
       "</table>\n",
       "</div>"
      ],
      "text/plain": [
       "              img     label\n",
       "1  DataTrain2.png   B1074QO\n",
       "2  DataTrain3.png   B1031QO\n",
       "3  DataTrain4.png   B187EDA\n",
       "4  DataTrain5.png   B1089VD\n",
       "5  DataTrain6.png  B1972RBP"
      ]
     },
     "execution_count": 72,
     "metadata": {},
     "output_type": "execute_result"
    }
   ],
   "source": [
    "# drop kolom wilayah, nopol, kotanjenis.\n",
    "train.drop(['wilayah', 'nopol', 'kotanjenis'], axis=1, inplace=True)\n",
    "train.head()"
   ]
  },
  {
   "attachments": {},
   "cell_type": "markdown",
   "metadata": {},
   "source": [
    "### **Saving the preprocessed dataset**"
   ]
  },
  {
   "cell_type": "code",
   "execution_count": 73,
   "metadata": {},
   "outputs": [
    {
     "name": "stdout",
     "output_type": "stream",
     "text": [
      "--------------------------------------------------\n",
      "\u001b[91mBefore CSV Preprocessing\u001b[0m\n",
      "--------------------------------------------------\n",
      "Number of train data: 800\n",
      "Number of test data: 100\n",
      "--------------------------------------------------\n",
      "\u001b[91mAfter CSV Preprocessing\u001b[0m\n",
      "--------------------------------------------------\n",
      "Number of train data: 602\n",
      "Number of test data: 100\n",
      "--------------------------------------------------\n"
     ]
    }
   ],
   "source": [
    "print(\"-\"*50)\n",
    "print(\"\\033[91m\" + \"Before CSV Preprocessing\" + \"\\033[0m\")\n",
    "print(\"-\"*50)\n",
    "\n",
    "print(\"Number of train data: {}\".format(num_train))\n",
    "print(\"Number of test data: {}\".format(num_test))\n",
    "\n",
    "\n",
    "print(\"-\"*50)\n",
    "print(\"\\033[91m\" + \"After CSV Preprocessing\" + \"\\033[0m\")\n",
    "print(\"-\"*50)\n",
    "\n",
    "print(\"Number of train data: {}\".format(train.shape[0]))\n",
    "print(\"Number of test data: {}\".format(test.shape[0]))\n",
    "print(\"-\"*50)"
   ]
  },
  {
   "cell_type": "code",
   "execution_count": 74,
   "metadata": {},
   "outputs": [],
   "source": [
    "train.to_csv(\"../data/out/DataTrain.csv\", index=False)\n",
    "test.to_csv(\"../data/out/DataTest.csv\", index=False)"
   ]
  }
 ],
 "metadata": {
  "kernelspec": {
   "display_name": "Python 3",
   "language": "python",
   "name": "python3"
  },
  "language_info": {
   "codemirror_mode": {
    "name": "ipython",
    "version": 3
   },
   "file_extension": ".py",
   "mimetype": "text/x-python",
   "name": "python",
   "nbconvert_exporter": "python",
   "pygments_lexer": "ipython3",
   "version": "3.10.6"
  },
  "orig_nbformat": 4
 },
 "nbformat": 4,
 "nbformat_minor": 2
}
