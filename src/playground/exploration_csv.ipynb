{
 "cells": [
  {
   "cell_type": "code",
   "execution_count": 7,
   "metadata": {},
   "outputs": [],
   "source": [
    "import pandas as pd\n",
    "import numpy as np\n",
    "import matplotlib.pyplot as plt\n",
    "import seaborn as sns"
   ]
  },
  {
   "cell_type": "code",
   "execution_count": 8,
   "metadata": {},
   "outputs": [],
   "source": [
    "train_data = pd.read_csv('out/DataTrain.csv')\n",
    "test_data = pd.read_csv('out/DataTest.csv')"
   ]
  },
  {
   "cell_type": "code",
   "execution_count": 9,
   "metadata": {},
   "outputs": [],
   "source": [
    "# label\n",
    "# 0\tDataTrain1.png\tA7814\n",
    "\n",
    "# split label menjadi 3 kolom sesuai dengan aturan plat nomor\n",
    "# A7814 -> A 7814\n",
    "# B3210DA -> B 3210 DA\n",
    "\n",
    "def splitting_label(label):\n",
    "    # pertama temukan index angka pertama dan terakhir yang muncul\n",
    "    # misal A7814 -> 7, 4\n",
    "    \n",
    "    start = 0\n",
    "    end = 0\n",
    "    \n",
    "    for i in range(len(label)):\n",
    "        if label[i].isdigit():\n",
    "            start = i\n",
    "            break\n",
    "    for i in range(len(label)-1, -1, -1):\n",
    "        if label[i].isdigit():\n",
    "            end = i\n",
    "            break\n",
    "\n",
    "    # kemudian split label menjadi 3 kolom\n",
    "    # ketika index angka terakhir == index string terakhir, maka untuk kolom 3 diisi dengan np.nan\n",
    "\n",
    "    first = label[:start]\n",
    "    if end == len(label)-1:\n",
    "        second = label[start:end+1]\n",
    "        third = ''\n",
    "    else:\n",
    "        second = label[start:end+1]\n",
    "        third = label[end+1:]\n",
    "\n",
    "    return first, second, third\n",
    "\n",
    "# split label menjadi 3 kolom\n",
    "train_data['wilayah'], train_data['nopol'], train_data['kotanjenis'] = zip(*train_data['label'].map(splitting_label))"
   ]
  },
  {
   "cell_type": "code",
   "execution_count": 10,
   "metadata": {},
   "outputs": [
    {
     "data": {
      "text/html": [
       "<div>\n",
       "<style scoped>\n",
       "    .dataframe tbody tr th:only-of-type {\n",
       "        vertical-align: middle;\n",
       "    }\n",
       "\n",
       "    .dataframe tbody tr th {\n",
       "        vertical-align: top;\n",
       "    }\n",
       "\n",
       "    .dataframe thead th {\n",
       "        text-align: right;\n",
       "    }\n",
       "</style>\n",
       "<table border=\"1\" class=\"dataframe\">\n",
       "  <thead>\n",
       "    <tr style=\"text-align: right;\">\n",
       "      <th></th>\n",
       "      <th>img</th>\n",
       "      <th>label</th>\n",
       "      <th>wilayah</th>\n",
       "      <th>nopol</th>\n",
       "      <th>kotanjenis</th>\n",
       "    </tr>\n",
       "  </thead>\n",
       "  <tbody>\n",
       "    <tr>\n",
       "      <th>0</th>\n",
       "      <td>DataTrain2.png</td>\n",
       "      <td>B1074QO</td>\n",
       "      <td>B</td>\n",
       "      <td>1074</td>\n",
       "      <td>QO</td>\n",
       "    </tr>\n",
       "    <tr>\n",
       "      <th>1</th>\n",
       "      <td>DataTrain3.png</td>\n",
       "      <td>B1031QO</td>\n",
       "      <td>B</td>\n",
       "      <td>1031</td>\n",
       "      <td>QO</td>\n",
       "    </tr>\n",
       "    <tr>\n",
       "      <th>2</th>\n",
       "      <td>DataTrain4.png</td>\n",
       "      <td>B187EDA</td>\n",
       "      <td>B</td>\n",
       "      <td>187</td>\n",
       "      <td>EDA</td>\n",
       "    </tr>\n",
       "    <tr>\n",
       "      <th>3</th>\n",
       "      <td>DataTrain5.png</td>\n",
       "      <td>B1089VD</td>\n",
       "      <td>B</td>\n",
       "      <td>1089</td>\n",
       "      <td>VD</td>\n",
       "    </tr>\n",
       "    <tr>\n",
       "      <th>4</th>\n",
       "      <td>DataTrain6.png</td>\n",
       "      <td>B1972RBP</td>\n",
       "      <td>B</td>\n",
       "      <td>1972</td>\n",
       "      <td>RBP</td>\n",
       "    </tr>\n",
       "    <tr>\n",
       "      <th>...</th>\n",
       "      <td>...</td>\n",
       "      <td>...</td>\n",
       "      <td>...</td>\n",
       "      <td>...</td>\n",
       "      <td>...</td>\n",
       "    </tr>\n",
       "    <tr>\n",
       "      <th>95</th>\n",
       "      <td>DataTrain105.png</td>\n",
       "      <td>AA1856CJ</td>\n",
       "      <td>AA</td>\n",
       "      <td>1856</td>\n",
       "      <td>CJ</td>\n",
       "    </tr>\n",
       "    <tr>\n",
       "      <th>96</th>\n",
       "      <td>DataTrain106.png</td>\n",
       "      <td>AB3767XY</td>\n",
       "      <td>AB</td>\n",
       "      <td>3767</td>\n",
       "      <td>XY</td>\n",
       "    </tr>\n",
       "    <tr>\n",
       "      <th>97</th>\n",
       "      <td>DataTrain107.png</td>\n",
       "      <td>A1565DT</td>\n",
       "      <td>A</td>\n",
       "      <td>1565</td>\n",
       "      <td>DT</td>\n",
       "    </tr>\n",
       "    <tr>\n",
       "      <th>98</th>\n",
       "      <td>DataTrain108.png</td>\n",
       "      <td>AB2241VY</td>\n",
       "      <td>AB</td>\n",
       "      <td>2241</td>\n",
       "      <td>VY</td>\n",
       "    </tr>\n",
       "    <tr>\n",
       "      <th>99</th>\n",
       "      <td>DataTrain109.png</td>\n",
       "      <td>B1887KRS</td>\n",
       "      <td>B</td>\n",
       "      <td>1887</td>\n",
       "      <td>KRS</td>\n",
       "    </tr>\n",
       "  </tbody>\n",
       "</table>\n",
       "<p>100 rows × 5 columns</p>\n",
       "</div>"
      ],
      "text/plain": [
       "                 img     label wilayah nopol kotanjenis\n",
       "0     DataTrain2.png   B1074QO       B  1074         QO\n",
       "1     DataTrain3.png   B1031QO       B  1031         QO\n",
       "2     DataTrain4.png   B187EDA       B   187        EDA\n",
       "3     DataTrain5.png   B1089VD       B  1089         VD\n",
       "4     DataTrain6.png  B1972RBP       B  1972        RBP\n",
       "..               ...       ...     ...   ...        ...\n",
       "95  DataTrain105.png  AA1856CJ      AA  1856         CJ\n",
       "96  DataTrain106.png  AB3767XY      AB  3767         XY\n",
       "97  DataTrain107.png   A1565DT       A  1565         DT\n",
       "98  DataTrain108.png  AB2241VY      AB  2241         VY\n",
       "99  DataTrain109.png  B1887KRS       B  1887        KRS\n",
       "\n",
       "[100 rows x 5 columns]"
      ]
     },
     "execution_count": 10,
     "metadata": {},
     "output_type": "execute_result"
    }
   ],
   "source": [
    "train_data.head(100)"
   ]
  },
  {
   "cell_type": "code",
   "execution_count": 11,
   "metadata": {},
   "outputs": [
    {
     "data": {
      "text/plain": [
       "<AxesSubplot: xlabel='wilayah', ylabel='count'>"
      ]
     },
     "execution_count": 11,
     "metadata": {},
     "output_type": "execute_result"
    },
    {
     "data": {
      "image/png": "[encoded data removed]",
      "text/plain": [
       "<Figure size 640x480 with 1 Axes>"
      ]
     },
     "metadata": {},
     "output_type": "display_data"
    }
   ],
   "source": [
    "# visualisasikan standar distribusi dari kolom wilayah\n",
    "sns.countplot(x='wilayah', data=train_data)"
   ]
  },
  {
   "cell_type": "code",
   "execution_count": 12,
   "metadata": {},
   "outputs": [
    {
     "data": {
      "text/plain": [
       "<AxesSubplot: xlabel='nopol', ylabel='count'>"
      ]
     },
     "execution_count": 12,
     "metadata": {},
     "output_type": "execute_result"
    },
    {
     "data": {
      "image/png": "[encoded data removed]",
      "text/plain": [
       "<Figure size 640x480 with 1 Axes>"
      ]
     },
     "metadata": {},
     "output_type": "display_data"
    }
   ],
   "source": [
    "kendaraan_penumpang = 2999\n",
    "motor = 6999\n",
    "bus = 7999\n",
    "penumpang_barang = 8999\n",
    "truk = 9999\n",
    "\n",
    "# visualisasikan standar distribusi dari kolom nopol berdasarkan jenisnya\n",
    "\n",
    "# kendaraan penumpang\n",
    "sns.countplot(x='nopol', data=train_data[train_data['nopol'].astype(int) <= kendaraan_penumpang])\n",
    "\n",
    "# motor\n",
    "sns.countplot(x='nopol', data=train_data[(train_data['nopol'].astype(int) > kendaraan_penumpang) & (train_data['nopol'].astype(int) <= motor)])\n",
    "\n",
    "# bus\n",
    "sns.countplot(x='nopol', data=train_data[(train_data['nopol'].astype(int) > motor) & (train_data['nopol'].astype(int) <= bus)])\n",
    "\n",
    "# penumpang barang\n",
    "sns.countplot(x='nopol', data=train_data[(train_data['nopol'].astype(int) > bus) & (train_data['nopol'].astype(int) <= penumpang_barang)])\n",
    "\n",
    "# truk\n",
    "sns.countplot(x='nopol', data=train_data[(train_data['nopol'].astype(int) > penumpang_barang) & (train_data['nopol'].astype(int) <= truk)])"
   ]
  }
 ],
 "metadata": {
  "kernelspec": {
   "display_name": "Python 3",
   "language": "python",
   "name": "python3"
  },
  "language_info": {
   "codemirror_mode": {
    "name": "ipython",
    "version": 3
   },
   "file_extension": ".py",
   "mimetype": "text/x-python",
   "name": "python",
   "nbconvert_exporter": "python",
   "pygments_lexer": "ipython3",
   "version": "3.10.6"
  },
  "orig_nbformat": 4
 },
 "nbformat": 4,
 "nbformat_minor": 2
}
